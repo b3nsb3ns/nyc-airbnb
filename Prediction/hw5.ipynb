{
 "cells": [
  {
   "cell_type": "code",
   "execution_count": 56,
   "metadata": {
    "deletable": false,
    "editable": false
   },
   "outputs": [],
   "source": [
    "# Initialize Otter\n",
    "import otter\n",
    "grader = otter.Notebook(\"hw5.ipynb\")"
   ]
  },
  {
   "cell_type": "markdown",
   "metadata": {},
   "source": [
    "# CPSC 330 - Applied Machine Learning \n",
    "\n",
    "## Homework 5: Putting it all together \n",
    "### Associated lectures: All material till lecture 13 \n",
    "\n",
    "**Due date: Monday, October 31st, 2022 at 11:59pm**"
   ]
  },
  {
   "cell_type": "markdown",
   "metadata": {},
   "source": [
    "## Table of contents\n",
    "0. [Submission instructions](#si)\n",
    "1. [Understanding the problem](#1)\n",
    "2. [Data splitting](#2)\n",
    "3. [EDA](#3)\n",
    "4. (Challenging) [Feature engineering](#4)\n",
    "5. [Preprocessing and transformations](#5) \n",
    "6. [Baseline model](#6)\n",
    "7. [Linear models](#7)\n",
    "8. [Different models](#8)\n",
    "9. (Challenging) [Feature selection](#9)\n",
    "10. [Hyperparameter optimization](#10)\n",
    "11. [Interpretation and feature importances](#11) \n",
    "12. [Results on the test set](#12)\n",
    "13. [Summary of the results](#13)\n",
    "14. (Challenging) [Your takeaway from the course](#15)"
   ]
  },
  {
   "cell_type": "markdown",
   "metadata": {},
   "source": [
    "## Instructions\n",
    "<hr>\n",
    "rubric={points:6}\n",
    "\n",
    "Follow the [homework submission instructions](https://ubc-cs.github.io/cpsc330-2023W1/docs/homework_instructions.html). \n",
    "\n",
    "**You may work with a partner on this homework and submit your assignment as a group.** Below are some instructions on working as a group.  \n",
    "- The maximum group size is 4. \n",
    "- Use group work as an opportunity to collaborate and learn new things from each other. \n",
    "- Be respectful to each other and make sure you understand all the concepts in the assignment well. \n",
    "- It's your responsibility to make sure that the assignment is submitted by one of the group members before the deadline.\n",
    "- You can find the instructions on how to do group submission on Gradescope [here](https://help.gradescope.com/article/m5qz2xsnjy-student-add-group-members).\n",
    "\n",
    "\n",
    "**When you are ready to submit your assignment do the following:**\n",
    "\n",
    "1. Run all cells in your notebook to make sure there are no errors by doing `Kernel -> Restart Kernel and Clear All Outputs` and then `Run -> Run All Cells`. \n",
    "2. Notebooks with cell execution numbers out of order or not starting from “1” will have marks deducted. Notebooks without the output displayed may not be graded at all (because we need to see the output in order to grade your work).\n",
    "3. Upload the assignment using Gradescope's drag and drop tool. Check out this [Gradescope Student Guide](https://lthub.ubc.ca/guides/gradescope-student-guide/) if you need help with Gradescope submission.\n",
    "4. Make sure that the plots and output are rendered properly in your submitted file. \n",
    "5. If the .ipynb file is too big and doesn't render on Gradescope, also upload a pdf or html in addition to the .ipynb."
   ]
  },
  {
   "cell_type": "markdown",
   "metadata": {},
   "source": [
    "**Final Score**\n",
    "\n",
    "The final score is 0.3315139892355451 using the $R^2$ metric. "
   ]
  },
  {
   "cell_type": "markdown",
   "metadata": {},
   "source": [
    "## Imports"
   ]
  },
  {
   "cell_type": "code",
   "execution_count": 57,
   "metadata": {
    "editable": true,
    "slideshow": {
     "slide_type": ""
    },
    "tags": []
   },
   "outputs": [],
   "source": [
    "import matplotlib.pyplot as plt\n",
    "import numpy as np\n",
    "import pandas as pd"
   ]
  },
  {
   "cell_type": "markdown",
   "metadata": {
    "deletable": false,
    "editable": false
   },
   "source": [
    "<!-- BEGIN QUESTION -->\n",
    "\n"
   ]
  },
  {
   "cell_type": "code",
   "execution_count": null,
   "metadata": {
    "editable": true,
    "slideshow": {
     "slide_type": ""
    },
    "tags": []
   },
   "outputs": [],
   "source": [
    "..."
   ]
  },
  {
   "cell_type": "markdown",
   "metadata": {
    "deletable": false,
    "editable": false
   },
   "source": [
    "<!-- END QUESTION -->\n",
    "\n",
    "## Introduction <a name=\"in\"></a>\n",
    "\n",
    "In this homework you will be working on an open-ended mini-project, where you will put all the different things you have learned so far together to solve an interesting problem.\n",
    "\n",
    "A few notes and tips when you work on this mini-project: \n",
    "\n",
    "#### Tips\n",
    "1. This mini-project is open-ended, and while working on it, there might be some situations where you'll have to use your own judgment and make your own decisions (as you would be doing when you work as a data scientist). Make sure you explain your decisions whenever necessary. \n",
    "2. **Do not include everything you ever tried in your submission** -- it's fine just to have your final code. That said, your code should be reproducible and well-documented. For example, if you chose your hyperparameters based on some hyperparameter optimization experiment, you should leave in the code for that experiment so that someone else could re-run it and obtain the same hyperparameters, rather than mysteriously just setting the hyperparameters to some (carefully chosen) values in your code. \n",
    "3. If you realize that you are repeating a lot of code try to organize it in functions. Clear presentation of your code, experiments, and results is the key to be successful in this lab. You may use code from lecture notes or previous lab solutions with appropriate attributions. \n",
    "\n",
    "#### Assessment\n",
    "We plan to grade fairly and leniently. We don't have some secret target score that you need to achieve to get a good grade. **You'll be assessed on demonstration of mastery of course topics, clear presentation, and the quality of your analysis and results.** For example, if you just have a bunch of code and no text or figures, that's not good. If you do a bunch of sane things and get a lower accuracy than your friend, don't sweat it.\n",
    "\n",
    "\n",
    "#### A final note\n",
    "Finally, this style of this \"project\" question is different from other assignments. It'll be up to you to decide when you're \"done\" -- in fact, this is one of the hardest parts of real projects. But please don't spend WAY too much time on this... perhaps \"a few hours\" (15-20 hours???) is a good guideline for this project . Of course if you're having fun you're welcome to spend as much time as you want! But, if so, try not to do it out of perfectionism or getting the best possible grade. Do it because you're learning and enjoying it. Students from the past cohorts have found such kind of labs useful and fun and we hope you enjoy it as well. "
   ]
  },
  {
   "cell_type": "markdown",
   "metadata": {},
   "source": [
    "<br><br>"
   ]
  },
  {
   "cell_type": "markdown",
   "metadata": {
    "deletable": false,
    "editable": false,
    "slideshow": {
     "slide_type": ""
    },
    "tags": []
   },
   "source": [
    "<!-- BEGIN QUESTION -->\n",
    "\n",
    "## 1. Pick your problem and explain the prediction problem <a name=\"1\"></a>\n",
    "<hr>\n",
    "rubric={points:3}\n",
    "\n",
    "In this assignment we'll be exploring a [dataset](https://www.kaggle.com/dgomonov/new-york-city-airbnb-open-data) of New York City Airbnb listings from 2019. As usual, you'll need to start by downloading the dataset. In this assignment we'll try to predict `reviews_per_month`, as a proxy for the popularity of the listing. Airbnb could use this sort of model to predict how popular future listings might be before they are posted, perhaps to help guide hosts create more appealing listings. In reality they might instead use something like vacancy rate or average rating as their target, but we do not have that available here.\n",
    "\n",
    "> Note there is an updated version of this dataset with more features available [here](http://insideairbnb.com/). The features were are using in `listings.csv.gz` for the New York city datasets. You will also see some other files like `reviews.csv.gz`. For your own interest you may want to explore the expanded dataset and try your analysis there. However, please submit your results on the dataset obtained from Kaggle.\n",
    "\n",
    "**Your tasks:**\n",
    "\n",
    "1. Spend some time understanding the problem and what each feature means. You can find this information in the documentation on. You can find an explaination of the features [here](https://docs.google.com/spreadsheets/d/1iWCNJcSutYqpULSQHlNyGInUvHg2BoUGoNRIGa6Szc4/edit).  Write a few sentences on your initial thoughts on the problem and the dataset. \n",
    "2. Download the dataset and read it as a pandas dataframe."
   ]
  },
  {
   "cell_type": "markdown",
   "metadata": {
    "deletable": false,
    "editable": false,
    "slideshow": {
     "slide_type": ""
    },
    "tags": []
   },
   "source": [
    "<div class=\"alert alert-warning\">\n",
    "    \n",
    "Solution_1\n",
    "    \n",
    "</div>\n",
    "\n",
    "_Points:_ 3"
   ]
  },
  {
   "cell_type": "markdown",
   "metadata": {},
   "source": [
    "_Type your answer here, replacing this text._"
   ]
  },
  {
   "cell_type": "markdown",
   "metadata": {},
   "source": [
    "There are some features that seem redundant, such as names for the id's. The feature I consider to be the hardest to deal with is the longitude and latitude features, which seems like it may need an SVM or linear regressor. "
   ]
  },
  {
   "cell_type": "code",
   "execution_count": 58,
   "metadata": {
    "editable": true,
    "slideshow": {
     "slide_type": ""
    },
    "tags": []
   },
   "outputs": [
    {
     "data": {
      "text/html": [
       "<div>\n",
       "<style scoped>\n",
       "    .dataframe tbody tr th:only-of-type {\n",
       "        vertical-align: middle;\n",
       "    }\n",
       "\n",
       "    .dataframe tbody tr th {\n",
       "        vertical-align: top;\n",
       "    }\n",
       "\n",
       "    .dataframe thead th {\n",
       "        text-align: right;\n",
       "    }\n",
       "</style>\n",
       "<table border=\"1\" class=\"dataframe\">\n",
       "  <thead>\n",
       "    <tr style=\"text-align: right;\">\n",
       "      <th></th>\n",
       "      <th>id</th>\n",
       "      <th>name</th>\n",
       "      <th>host_id</th>\n",
       "      <th>host_name</th>\n",
       "      <th>neighbourhood_group</th>\n",
       "      <th>neighbourhood</th>\n",
       "      <th>latitude</th>\n",
       "      <th>longitude</th>\n",
       "      <th>room_type</th>\n",
       "      <th>price</th>\n",
       "      <th>minimum_nights</th>\n",
       "      <th>number_of_reviews</th>\n",
       "      <th>last_review</th>\n",
       "      <th>reviews_per_month</th>\n",
       "      <th>calculated_host_listings_count</th>\n",
       "      <th>availability_365</th>\n",
       "    </tr>\n",
       "  </thead>\n",
       "  <tbody>\n",
       "    <tr>\n",
       "      <th>0</th>\n",
       "      <td>2539</td>\n",
       "      <td>Clean &amp; quiet apt home by the park</td>\n",
       "      <td>2787</td>\n",
       "      <td>John</td>\n",
       "      <td>Brooklyn</td>\n",
       "      <td>Kensington</td>\n",
       "      <td>40.64749</td>\n",
       "      <td>-73.97237</td>\n",
       "      <td>Private room</td>\n",
       "      <td>149</td>\n",
       "      <td>1</td>\n",
       "      <td>9</td>\n",
       "      <td>2018-10-19</td>\n",
       "      <td>0.21</td>\n",
       "      <td>6</td>\n",
       "      <td>365</td>\n",
       "    </tr>\n",
       "    <tr>\n",
       "      <th>1</th>\n",
       "      <td>2595</td>\n",
       "      <td>Skylit Midtown Castle</td>\n",
       "      <td>2845</td>\n",
       "      <td>Jennifer</td>\n",
       "      <td>Manhattan</td>\n",
       "      <td>Midtown</td>\n",
       "      <td>40.75362</td>\n",
       "      <td>-73.98377</td>\n",
       "      <td>Entire home/apt</td>\n",
       "      <td>225</td>\n",
       "      <td>1</td>\n",
       "      <td>45</td>\n",
       "      <td>2019-05-21</td>\n",
       "      <td>0.38</td>\n",
       "      <td>2</td>\n",
       "      <td>355</td>\n",
       "    </tr>\n",
       "    <tr>\n",
       "      <th>2</th>\n",
       "      <td>3647</td>\n",
       "      <td>THE VILLAGE OF HARLEM....NEW YORK !</td>\n",
       "      <td>4632</td>\n",
       "      <td>Elisabeth</td>\n",
       "      <td>Manhattan</td>\n",
       "      <td>Harlem</td>\n",
       "      <td>40.80902</td>\n",
       "      <td>-73.94190</td>\n",
       "      <td>Private room</td>\n",
       "      <td>150</td>\n",
       "      <td>3</td>\n",
       "      <td>0</td>\n",
       "      <td>NaN</td>\n",
       "      <td>NaN</td>\n",
       "      <td>1</td>\n",
       "      <td>365</td>\n",
       "    </tr>\n",
       "    <tr>\n",
       "      <th>3</th>\n",
       "      <td>3831</td>\n",
       "      <td>Cozy Entire Floor of Brownstone</td>\n",
       "      <td>4869</td>\n",
       "      <td>LisaRoxanne</td>\n",
       "      <td>Brooklyn</td>\n",
       "      <td>Clinton Hill</td>\n",
       "      <td>40.68514</td>\n",
       "      <td>-73.95976</td>\n",
       "      <td>Entire home/apt</td>\n",
       "      <td>89</td>\n",
       "      <td>1</td>\n",
       "      <td>270</td>\n",
       "      <td>2019-07-05</td>\n",
       "      <td>4.64</td>\n",
       "      <td>1</td>\n",
       "      <td>194</td>\n",
       "    </tr>\n",
       "    <tr>\n",
       "      <th>4</th>\n",
       "      <td>5022</td>\n",
       "      <td>Entire Apt: Spacious Studio/Loft by central park</td>\n",
       "      <td>7192</td>\n",
       "      <td>Laura</td>\n",
       "      <td>Manhattan</td>\n",
       "      <td>East Harlem</td>\n",
       "      <td>40.79851</td>\n",
       "      <td>-73.94399</td>\n",
       "      <td>Entire home/apt</td>\n",
       "      <td>80</td>\n",
       "      <td>10</td>\n",
       "      <td>9</td>\n",
       "      <td>2018-11-19</td>\n",
       "      <td>0.10</td>\n",
       "      <td>1</td>\n",
       "      <td>0</td>\n",
       "    </tr>\n",
       "    <tr>\n",
       "      <th>...</th>\n",
       "      <td>...</td>\n",
       "      <td>...</td>\n",
       "      <td>...</td>\n",
       "      <td>...</td>\n",
       "      <td>...</td>\n",
       "      <td>...</td>\n",
       "      <td>...</td>\n",
       "      <td>...</td>\n",
       "      <td>...</td>\n",
       "      <td>...</td>\n",
       "      <td>...</td>\n",
       "      <td>...</td>\n",
       "      <td>...</td>\n",
       "      <td>...</td>\n",
       "      <td>...</td>\n",
       "      <td>...</td>\n",
       "    </tr>\n",
       "    <tr>\n",
       "      <th>48890</th>\n",
       "      <td>36484665</td>\n",
       "      <td>Charming one bedroom - newly renovated rowhouse</td>\n",
       "      <td>8232441</td>\n",
       "      <td>Sabrina</td>\n",
       "      <td>Brooklyn</td>\n",
       "      <td>Bedford-Stuyvesant</td>\n",
       "      <td>40.67853</td>\n",
       "      <td>-73.94995</td>\n",
       "      <td>Private room</td>\n",
       "      <td>70</td>\n",
       "      <td>2</td>\n",
       "      <td>0</td>\n",
       "      <td>NaN</td>\n",
       "      <td>NaN</td>\n",
       "      <td>2</td>\n",
       "      <td>9</td>\n",
       "    </tr>\n",
       "    <tr>\n",
       "      <th>48891</th>\n",
       "      <td>36485057</td>\n",
       "      <td>Affordable room in Bushwick/East Williamsburg</td>\n",
       "      <td>6570630</td>\n",
       "      <td>Marisol</td>\n",
       "      <td>Brooklyn</td>\n",
       "      <td>Bushwick</td>\n",
       "      <td>40.70184</td>\n",
       "      <td>-73.93317</td>\n",
       "      <td>Private room</td>\n",
       "      <td>40</td>\n",
       "      <td>4</td>\n",
       "      <td>0</td>\n",
       "      <td>NaN</td>\n",
       "      <td>NaN</td>\n",
       "      <td>2</td>\n",
       "      <td>36</td>\n",
       "    </tr>\n",
       "    <tr>\n",
       "      <th>48892</th>\n",
       "      <td>36485431</td>\n",
       "      <td>Sunny Studio at Historical Neighborhood</td>\n",
       "      <td>23492952</td>\n",
       "      <td>Ilgar &amp; Aysel</td>\n",
       "      <td>Manhattan</td>\n",
       "      <td>Harlem</td>\n",
       "      <td>40.81475</td>\n",
       "      <td>-73.94867</td>\n",
       "      <td>Entire home/apt</td>\n",
       "      <td>115</td>\n",
       "      <td>10</td>\n",
       "      <td>0</td>\n",
       "      <td>NaN</td>\n",
       "      <td>NaN</td>\n",
       "      <td>1</td>\n",
       "      <td>27</td>\n",
       "    </tr>\n",
       "    <tr>\n",
       "      <th>48893</th>\n",
       "      <td>36485609</td>\n",
       "      <td>43rd St. Time Square-cozy single bed</td>\n",
       "      <td>30985759</td>\n",
       "      <td>Taz</td>\n",
       "      <td>Manhattan</td>\n",
       "      <td>Hell's Kitchen</td>\n",
       "      <td>40.75751</td>\n",
       "      <td>-73.99112</td>\n",
       "      <td>Shared room</td>\n",
       "      <td>55</td>\n",
       "      <td>1</td>\n",
       "      <td>0</td>\n",
       "      <td>NaN</td>\n",
       "      <td>NaN</td>\n",
       "      <td>6</td>\n",
       "      <td>2</td>\n",
       "    </tr>\n",
       "    <tr>\n",
       "      <th>48894</th>\n",
       "      <td>36487245</td>\n",
       "      <td>Trendy duplex in the very heart of Hell's Kitchen</td>\n",
       "      <td>68119814</td>\n",
       "      <td>Christophe</td>\n",
       "      <td>Manhattan</td>\n",
       "      <td>Hell's Kitchen</td>\n",
       "      <td>40.76404</td>\n",
       "      <td>-73.98933</td>\n",
       "      <td>Private room</td>\n",
       "      <td>90</td>\n",
       "      <td>7</td>\n",
       "      <td>0</td>\n",
       "      <td>NaN</td>\n",
       "      <td>NaN</td>\n",
       "      <td>1</td>\n",
       "      <td>23</td>\n",
       "    </tr>\n",
       "  </tbody>\n",
       "</table>\n",
       "<p>48895 rows × 16 columns</p>\n",
       "</div>"
      ],
      "text/plain": [
       "             id                                               name   host_id  \\\n",
       "0          2539                 Clean & quiet apt home by the park      2787   \n",
       "1          2595                              Skylit Midtown Castle      2845   \n",
       "2          3647                THE VILLAGE OF HARLEM....NEW YORK !      4632   \n",
       "3          3831                    Cozy Entire Floor of Brownstone      4869   \n",
       "4          5022   Entire Apt: Spacious Studio/Loft by central park      7192   \n",
       "...         ...                                                ...       ...   \n",
       "48890  36484665    Charming one bedroom - newly renovated rowhouse   8232441   \n",
       "48891  36485057      Affordable room in Bushwick/East Williamsburg   6570630   \n",
       "48892  36485431            Sunny Studio at Historical Neighborhood  23492952   \n",
       "48893  36485609               43rd St. Time Square-cozy single bed  30985759   \n",
       "48894  36487245  Trendy duplex in the very heart of Hell's Kitchen  68119814   \n",
       "\n",
       "           host_name neighbourhood_group       neighbourhood  latitude  \\\n",
       "0               John            Brooklyn          Kensington  40.64749   \n",
       "1           Jennifer           Manhattan             Midtown  40.75362   \n",
       "2          Elisabeth           Manhattan              Harlem  40.80902   \n",
       "3        LisaRoxanne            Brooklyn        Clinton Hill  40.68514   \n",
       "4              Laura           Manhattan         East Harlem  40.79851   \n",
       "...              ...                 ...                 ...       ...   \n",
       "48890        Sabrina            Brooklyn  Bedford-Stuyvesant  40.67853   \n",
       "48891        Marisol            Brooklyn            Bushwick  40.70184   \n",
       "48892  Ilgar & Aysel           Manhattan              Harlem  40.81475   \n",
       "48893            Taz           Manhattan      Hell's Kitchen  40.75751   \n",
       "48894     Christophe           Manhattan      Hell's Kitchen  40.76404   \n",
       "\n",
       "       longitude        room_type  price  minimum_nights  number_of_reviews  \\\n",
       "0      -73.97237     Private room    149               1                  9   \n",
       "1      -73.98377  Entire home/apt    225               1                 45   \n",
       "2      -73.94190     Private room    150               3                  0   \n",
       "3      -73.95976  Entire home/apt     89               1                270   \n",
       "4      -73.94399  Entire home/apt     80              10                  9   \n",
       "...          ...              ...    ...             ...                ...   \n",
       "48890  -73.94995     Private room     70               2                  0   \n",
       "48891  -73.93317     Private room     40               4                  0   \n",
       "48892  -73.94867  Entire home/apt    115              10                  0   \n",
       "48893  -73.99112      Shared room     55               1                  0   \n",
       "48894  -73.98933     Private room     90               7                  0   \n",
       "\n",
       "      last_review  reviews_per_month  calculated_host_listings_count  \\\n",
       "0      2018-10-19               0.21                               6   \n",
       "1      2019-05-21               0.38                               2   \n",
       "2             NaN                NaN                               1   \n",
       "3      2019-07-05               4.64                               1   \n",
       "4      2018-11-19               0.10                               1   \n",
       "...           ...                ...                             ...   \n",
       "48890         NaN                NaN                               2   \n",
       "48891         NaN                NaN                               2   \n",
       "48892         NaN                NaN                               1   \n",
       "48893         NaN                NaN                               6   \n",
       "48894         NaN                NaN                               1   \n",
       "\n",
       "       availability_365  \n",
       "0                   365  \n",
       "1                   355  \n",
       "2                   365  \n",
       "3                   194  \n",
       "4                     0  \n",
       "...                 ...  \n",
       "48890                 9  \n",
       "48891                36  \n",
       "48892                27  \n",
       "48893                 2  \n",
       "48894                23  \n",
       "\n",
       "[48895 rows x 16 columns]"
      ]
     },
     "execution_count": 58,
     "metadata": {},
     "output_type": "execute_result"
    }
   ],
   "source": [
    "df = pd.read_csv(\"data/AB_NYC_2019.csv\")\n",
    "df"
   ]
  },
  {
   "cell_type": "markdown",
   "metadata": {
    "deletable": false,
    "editable": false
   },
   "source": [
    "<!-- END QUESTION -->\n",
    "\n",
    "<br><br>"
   ]
  },
  {
   "cell_type": "markdown",
   "metadata": {
    "deletable": false,
    "editable": false
   },
   "source": [
    "<!-- BEGIN QUESTION -->\n",
    "\n",
    "## 2. Data splitting <a name=\"2\"></a>\n",
    "<hr>\n",
    "rubric={points:2}\n",
    "\n",
    "**Your tasks:**\n",
    "\n",
    "1. Split the data into train (70%) and test (30%) portions with `random_state=123`.\n",
    "\n",
    "> If your computer cannot handle training on 70% training data, make the test split bigger.  "
   ]
  },
  {
   "cell_type": "markdown",
   "metadata": {
    "deletable": false,
    "editable": false
   },
   "source": [
    "<div class=\"alert alert-warning\">\n",
    "    \n",
    "Solution_2\n",
    "    \n",
    "</div>\n",
    "\n",
    "_Points:_ 2"
   ]
  },
  {
   "cell_type": "code",
   "execution_count": 59,
   "metadata": {
    "tags": []
   },
   "outputs": [],
   "source": [
    "from sklearn.model_selection import train_test_split\n",
    "train_df, test_df = train_test_split(df, test_size=0.40, random_state=123)"
   ]
  },
  {
   "cell_type": "markdown",
   "metadata": {
    "deletable": false,
    "editable": false
   },
   "source": [
    "<!-- END QUESTION -->\n",
    "\n",
    "<br><br>"
   ]
  },
  {
   "cell_type": "markdown",
   "metadata": {
    "deletable": false,
    "editable": false
   },
   "source": [
    "<!-- BEGIN QUESTION -->\n",
    "\n",
    "## 3. EDA <a name=\"3\"></a>\n",
    "<hr>\n",
    "rubric={points:10}\n",
    "\n",
    "**Your tasks:**\n",
    "\n",
    "1. Perform exploratory data analysis on the train set.\n",
    "2. Include at least two summary statistics and two visualizations that you find useful, and accompany each one with a sentence explaining it.\n",
    "3. Summarize your initial observations about the data. \n",
    "4. Pick appropriate metric/metrics for assessment. "
   ]
  },
  {
   "cell_type": "markdown",
   "metadata": {
    "deletable": false,
    "editable": false
   },
   "source": [
    "<div class=\"alert alert-warning\">\n",
    "    \n",
    "Solution_3\n",
    "    \n",
    "</div>\n",
    "\n",
    "_Points:_ 10"
   ]
  },
  {
   "cell_type": "markdown",
   "metadata": {},
   "source": [
    "_Manhattan and Brooklyn appear to be the most popular boroughs, with entire homes/apartments and private rooms being preferred. Fewer reviews are more common than more reviews._"
   ]
  },
  {
   "cell_type": "code",
   "execution_count": 60,
   "metadata": {
    "tags": []
   },
   "outputs": [
    {
     "data": {
      "text/html": [
       "<div>\n",
       "<style scoped>\n",
       "    .dataframe tbody tr th:only-of-type {\n",
       "        vertical-align: middle;\n",
       "    }\n",
       "\n",
       "    .dataframe tbody tr th {\n",
       "        vertical-align: top;\n",
       "    }\n",
       "\n",
       "    .dataframe thead th {\n",
       "        text-align: right;\n",
       "    }\n",
       "</style>\n",
       "<table border=\"1\" class=\"dataframe\">\n",
       "  <thead>\n",
       "    <tr style=\"text-align: right;\">\n",
       "      <th></th>\n",
       "      <th>id</th>\n",
       "      <th>name</th>\n",
       "      <th>host_id</th>\n",
       "      <th>host_name</th>\n",
       "      <th>neighbourhood_group</th>\n",
       "      <th>neighbourhood</th>\n",
       "      <th>latitude</th>\n",
       "      <th>longitude</th>\n",
       "      <th>room_type</th>\n",
       "      <th>price</th>\n",
       "      <th>minimum_nights</th>\n",
       "      <th>number_of_reviews</th>\n",
       "      <th>last_review</th>\n",
       "      <th>reviews_per_month</th>\n",
       "      <th>calculated_host_listings_count</th>\n",
       "      <th>availability_365</th>\n",
       "    </tr>\n",
       "  </thead>\n",
       "  <tbody>\n",
       "    <tr>\n",
       "      <th>17877</th>\n",
       "      <td>14010200</td>\n",
       "      <td>Scandinavean design in Crown Heights, BK</td>\n",
       "      <td>1683437</td>\n",
       "      <td>Boram</td>\n",
       "      <td>Brooklyn</td>\n",
       "      <td>Crown Heights</td>\n",
       "      <td>40.66477</td>\n",
       "      <td>-73.95060</td>\n",
       "      <td>Entire home/apt</td>\n",
       "      <td>89</td>\n",
       "      <td>5</td>\n",
       "      <td>9</td>\n",
       "      <td>2018-05-28</td>\n",
       "      <td>0.25</td>\n",
       "      <td>1</td>\n",
       "      <td>0</td>\n",
       "    </tr>\n",
       "    <tr>\n",
       "      <th>14638</th>\n",
       "      <td>11563821</td>\n",
       "      <td>Private bedroom located in the heart of Chelsea</td>\n",
       "      <td>10307134</td>\n",
       "      <td>Anna</td>\n",
       "      <td>Manhattan</td>\n",
       "      <td>Chelsea</td>\n",
       "      <td>40.74118</td>\n",
       "      <td>-74.00012</td>\n",
       "      <td>Private room</td>\n",
       "      <td>110</td>\n",
       "      <td>1</td>\n",
       "      <td>48</td>\n",
       "      <td>2019-06-16</td>\n",
       "      <td>1.80</td>\n",
       "      <td>2</td>\n",
       "      <td>67</td>\n",
       "    </tr>\n",
       "    <tr>\n",
       "      <th>7479</th>\n",
       "      <td>5579629</td>\n",
       "      <td>Lovely sunlit room in Brooklyn</td>\n",
       "      <td>329917</td>\n",
       "      <td>Clémentine</td>\n",
       "      <td>Brooklyn</td>\n",
       "      <td>Greenpoint</td>\n",
       "      <td>40.72905</td>\n",
       "      <td>-73.95755</td>\n",
       "      <td>Private room</td>\n",
       "      <td>53</td>\n",
       "      <td>2</td>\n",
       "      <td>5</td>\n",
       "      <td>2016-10-21</td>\n",
       "      <td>0.13</td>\n",
       "      <td>1</td>\n",
       "      <td>0</td>\n",
       "    </tr>\n",
       "    <tr>\n",
       "      <th>47058</th>\n",
       "      <td>35575853</td>\n",
       "      <td>Great view, 1 BR right next to Central Park!</td>\n",
       "      <td>35965489</td>\n",
       "      <td>Meygan</td>\n",
       "      <td>Manhattan</td>\n",
       "      <td>East Harlem</td>\n",
       "      <td>40.79755</td>\n",
       "      <td>-73.94797</td>\n",
       "      <td>Private room</td>\n",
       "      <td>100</td>\n",
       "      <td>2</td>\n",
       "      <td>0</td>\n",
       "      <td>NaN</td>\n",
       "      <td>NaN</td>\n",
       "      <td>1</td>\n",
       "      <td>7</td>\n",
       "    </tr>\n",
       "    <tr>\n",
       "      <th>9769</th>\n",
       "      <td>7509362</td>\n",
       "      <td>Great BIG Upper West Side Apartment</td>\n",
       "      <td>29156329</td>\n",
       "      <td>Andrew</td>\n",
       "      <td>Manhattan</td>\n",
       "      <td>Upper West Side</td>\n",
       "      <td>40.80120</td>\n",
       "      <td>-73.96382</td>\n",
       "      <td>Private room</td>\n",
       "      <td>87</td>\n",
       "      <td>3</td>\n",
       "      <td>9</td>\n",
       "      <td>2018-09-19</td>\n",
       "      <td>0.19</td>\n",
       "      <td>1</td>\n",
       "      <td>0</td>\n",
       "    </tr>\n",
       "  </tbody>\n",
       "</table>\n",
       "</div>"
      ],
      "text/plain": [
       "             id                                             name   host_id  \\\n",
       "17877  14010200         Scandinavean design in Crown Heights, BK   1683437   \n",
       "14638  11563821  Private bedroom located in the heart of Chelsea  10307134   \n",
       "7479    5579629                   Lovely sunlit room in Brooklyn    329917   \n",
       "47058  35575853     Great view, 1 BR right next to Central Park!  35965489   \n",
       "9769    7509362              Great BIG Upper West Side Apartment  29156329   \n",
       "\n",
       "        host_name neighbourhood_group    neighbourhood  latitude  longitude  \\\n",
       "17877       Boram            Brooklyn    Crown Heights  40.66477  -73.95060   \n",
       "14638        Anna           Manhattan          Chelsea  40.74118  -74.00012   \n",
       "7479   Clémentine            Brooklyn       Greenpoint  40.72905  -73.95755   \n",
       "47058      Meygan           Manhattan      East Harlem  40.79755  -73.94797   \n",
       "9769       Andrew           Manhattan  Upper West Side  40.80120  -73.96382   \n",
       "\n",
       "             room_type  price  minimum_nights  number_of_reviews last_review  \\\n",
       "17877  Entire home/apt     89               5                  9  2018-05-28   \n",
       "14638     Private room    110               1                 48  2019-06-16   \n",
       "7479      Private room     53               2                  5  2016-10-21   \n",
       "47058     Private room    100               2                  0         NaN   \n",
       "9769      Private room     87               3                  9  2018-09-19   \n",
       "\n",
       "       reviews_per_month  calculated_host_listings_count  availability_365  \n",
       "17877               0.25                               1                 0  \n",
       "14638               1.80                               2                67  \n",
       "7479                0.13                               1                 0  \n",
       "47058                NaN                               1                 7  \n",
       "9769                0.19                               1                 0  "
      ]
     },
     "execution_count": 60,
     "metadata": {},
     "output_type": "execute_result"
    }
   ],
   "source": [
    "# Shows some examples of the train set\n",
    "train_df.head()"
   ]
  },
  {
   "cell_type": "code",
   "execution_count": 61,
   "metadata": {
    "tags": []
   },
   "outputs": [
    {
     "data": {
      "text/plain": [
       "(29337, 16)"
      ]
     },
     "execution_count": 61,
     "metadata": {},
     "output_type": "execute_result"
    }
   ],
   "source": [
    "# size of the train_set\n",
    "train_df.shape"
   ]
  },
  {
   "cell_type": "code",
   "execution_count": 62,
   "metadata": {
    "tags": []
   },
   "outputs": [
    {
     "data": {
      "text/plain": [
       "reviews_per_month\n",
       "0.02     0.023219\n",
       "0.05     0.022920\n",
       "1.00     0.022706\n",
       "0.03     0.020824\n",
       "0.16     0.017874\n",
       "           ...   \n",
       "11.68    0.000043\n",
       "7.94     0.000043\n",
       "9.15     0.000043\n",
       "11.72    0.000043\n",
       "9.03     0.000043\n",
       "Name: proportion, Length: 867, dtype: float64"
      ]
     },
     "execution_count": 62,
     "metadata": {},
     "output_type": "execute_result"
    }
   ],
   "source": [
    "# lower review rates seem to be more common\n",
    "train_df[\"reviews_per_month\"].value_counts(normalize=True)"
   ]
  },
  {
   "cell_type": "code",
   "execution_count": 63,
   "metadata": {
    "tags": []
   },
   "outputs": [
    {
     "data": {
      "text/plain": [
       "neighbourhood\n",
       "Williamsburg          2334\n",
       "Bedford-Stuyvesant    2228\n",
       "Harlem                1595\n",
       "Bushwick              1481\n",
       "Upper West Side       1191\n",
       "                      ... \n",
       "Sea Gate                 1\n",
       "Neponsit                 1\n",
       "Silver Lake              1\n",
       "Eltingville              1\n",
       "Woodrow                  1\n",
       "Name: count, Length: 217, dtype: int64"
      ]
     },
     "execution_count": 63,
     "metadata": {},
     "output_type": "execute_result"
    }
   ],
   "source": [
    "# number of occurences of neighbourhoods\n",
    "train_df[\"neighbourhood\"].value_counts()"
   ]
  },
  {
   "cell_type": "code",
   "execution_count": 64,
   "metadata": {},
   "outputs": [
    {
     "data": {
      "text/plain": [
       "neighbourhood_group\n",
       "Manhattan        12972\n",
       "Brooklyn         12091\n",
       "Queens            3394\n",
       "Bronx              658\n",
       "Staten Island      222\n",
       "Name: count, dtype: int64"
      ]
     },
     "execution_count": 64,
     "metadata": {},
     "output_type": "execute_result"
    }
   ],
   "source": [
    "# number of occurences of neighbourhood groups\n",
    "train_df[\"neighbourhood_group\"].value_counts()"
   ]
  },
  {
   "cell_type": "code",
   "execution_count": 65,
   "metadata": {
    "tags": []
   },
   "outputs": [
    {
     "data": {
      "text/plain": [
       "room_type\n",
       "Entire home/apt    15318\n",
       "Private room       13340\n",
       "Shared room          679\n",
       "Name: count, dtype: int64"
      ]
     },
     "execution_count": 65,
     "metadata": {},
     "output_type": "execute_result"
    }
   ],
   "source": [
    "# number of occurences of room types\n",
    "train_df[\"room_type\"].value_counts()"
   ]
  },
  {
   "cell_type": "code",
   "execution_count": 66,
   "metadata": {},
   "outputs": [
    {
     "name": "stdout",
     "output_type": "stream",
     "text": [
      "<class 'pandas.core.frame.DataFrame'>\n",
      "Index: 29337 entries, 17877 to 15725\n",
      "Data columns (total 16 columns):\n",
      " #   Column                          Non-Null Count  Dtype  \n",
      "---  ------                          --------------  -----  \n",
      " 0   id                              29337 non-null  int64  \n",
      " 1   name                            29328 non-null  object \n",
      " 2   host_id                         29337 non-null  int64  \n",
      " 3   host_name                       29325 non-null  object \n",
      " 4   neighbourhood_group             29337 non-null  object \n",
      " 5   neighbourhood                   29337 non-null  object \n",
      " 6   latitude                        29337 non-null  float64\n",
      " 7   longitude                       29337 non-null  float64\n",
      " 8   room_type                       29337 non-null  object \n",
      " 9   price                           29337 non-null  int64  \n",
      " 10  minimum_nights                  29337 non-null  int64  \n",
      " 11  number_of_reviews               29337 non-null  int64  \n",
      " 12  last_review                     23386 non-null  object \n",
      " 13  reviews_per_month               23386 non-null  float64\n",
      " 14  calculated_host_listings_count  29337 non-null  int64  \n",
      " 15  availability_365                29337 non-null  int64  \n",
      "dtypes: float64(3), int64(7), object(6)\n",
      "memory usage: 3.8+ MB\n"
     ]
    }
   ],
   "source": [
    "# many different data types, though most are numeric\n",
    "train_df.info()"
   ]
  },
  {
   "cell_type": "code",
   "execution_count": 67,
   "metadata": {},
   "outputs": [
    {
     "data": {
      "text/html": [
       "<div>\n",
       "<style scoped>\n",
       "    .dataframe tbody tr th:only-of-type {\n",
       "        vertical-align: middle;\n",
       "    }\n",
       "\n",
       "    .dataframe tbody tr th {\n",
       "        vertical-align: top;\n",
       "    }\n",
       "\n",
       "    .dataframe thead th {\n",
       "        text-align: right;\n",
       "    }\n",
       "</style>\n",
       "<table border=\"1\" class=\"dataframe\">\n",
       "  <thead>\n",
       "    <tr style=\"text-align: right;\">\n",
       "      <th></th>\n",
       "      <th>id</th>\n",
       "      <th>host_id</th>\n",
       "      <th>latitude</th>\n",
       "      <th>longitude</th>\n",
       "      <th>price</th>\n",
       "      <th>minimum_nights</th>\n",
       "      <th>number_of_reviews</th>\n",
       "      <th>reviews_per_month</th>\n",
       "      <th>calculated_host_listings_count</th>\n",
       "      <th>availability_365</th>\n",
       "    </tr>\n",
       "  </thead>\n",
       "  <tbody>\n",
       "    <tr>\n",
       "      <th>count</th>\n",
       "      <td>2.933700e+04</td>\n",
       "      <td>2.933700e+04</td>\n",
       "      <td>29337.000000</td>\n",
       "      <td>29337.000000</td>\n",
       "      <td>29337.000000</td>\n",
       "      <td>29337.000000</td>\n",
       "      <td>29337.000000</td>\n",
       "      <td>23386.000000</td>\n",
       "      <td>29337.000000</td>\n",
       "      <td>29337.000000</td>\n",
       "    </tr>\n",
       "    <tr>\n",
       "      <th>mean</th>\n",
       "      <td>1.891988e+07</td>\n",
       "      <td>6.714579e+07</td>\n",
       "      <td>40.729013</td>\n",
       "      <td>-73.952217</td>\n",
       "      <td>150.939121</td>\n",
       "      <td>7.141971</td>\n",
       "      <td>23.354501</td>\n",
       "      <td>1.369867</td>\n",
       "      <td>7.003340</td>\n",
       "      <td>112.803627</td>\n",
       "    </tr>\n",
       "    <tr>\n",
       "      <th>std</th>\n",
       "      <td>1.102155e+07</td>\n",
       "      <td>7.835404e+07</td>\n",
       "      <td>0.054594</td>\n",
       "      <td>0.046091</td>\n",
       "      <td>228.224188</td>\n",
       "      <td>22.272110</td>\n",
       "      <td>44.692480</td>\n",
       "      <td>1.706732</td>\n",
       "      <td>32.511623</td>\n",
       "      <td>131.544488</td>\n",
       "    </tr>\n",
       "    <tr>\n",
       "      <th>min</th>\n",
       "      <td>2.539000e+03</td>\n",
       "      <td>2.438000e+03</td>\n",
       "      <td>40.506410</td>\n",
       "      <td>-74.244420</td>\n",
       "      <td>0.000000</td>\n",
       "      <td>1.000000</td>\n",
       "      <td>0.000000</td>\n",
       "      <td>0.010000</td>\n",
       "      <td>1.000000</td>\n",
       "      <td>0.000000</td>\n",
       "    </tr>\n",
       "    <tr>\n",
       "      <th>25%</th>\n",
       "      <td>9.350729e+06</td>\n",
       "      <td>7.740184e+06</td>\n",
       "      <td>40.690090</td>\n",
       "      <td>-73.983030</td>\n",
       "      <td>69.000000</td>\n",
       "      <td>1.000000</td>\n",
       "      <td>1.000000</td>\n",
       "      <td>0.190000</td>\n",
       "      <td>1.000000</td>\n",
       "      <td>0.000000</td>\n",
       "    </tr>\n",
       "    <tr>\n",
       "      <th>50%</th>\n",
       "      <td>1.951751e+07</td>\n",
       "      <td>3.071907e+07</td>\n",
       "      <td>40.723140</td>\n",
       "      <td>-73.955530</td>\n",
       "      <td>107.000000</td>\n",
       "      <td>3.000000</td>\n",
       "      <td>5.000000</td>\n",
       "      <td>0.710000</td>\n",
       "      <td>1.000000</td>\n",
       "      <td>45.000000</td>\n",
       "    </tr>\n",
       "    <tr>\n",
       "      <th>75%</th>\n",
       "      <td>2.916531e+07</td>\n",
       "      <td>1.064429e+08</td>\n",
       "      <td>40.763280</td>\n",
       "      <td>-73.936430</td>\n",
       "      <td>175.000000</td>\n",
       "      <td>5.000000</td>\n",
       "      <td>23.000000</td>\n",
       "      <td>2.010000</td>\n",
       "      <td>2.000000</td>\n",
       "      <td>227.000000</td>\n",
       "    </tr>\n",
       "    <tr>\n",
       "      <th>max</th>\n",
       "      <td>3.648561e+07</td>\n",
       "      <td>2.743213e+08</td>\n",
       "      <td>40.912340</td>\n",
       "      <td>-73.712990</td>\n",
       "      <td>10000.000000</td>\n",
       "      <td>1250.000000</td>\n",
       "      <td>629.000000</td>\n",
       "      <td>58.500000</td>\n",
       "      <td>327.000000</td>\n",
       "      <td>365.000000</td>\n",
       "    </tr>\n",
       "  </tbody>\n",
       "</table>\n",
       "</div>"
      ],
      "text/plain": [
       "                 id       host_id      latitude     longitude         price  \\\n",
       "count  2.933700e+04  2.933700e+04  29337.000000  29337.000000  29337.000000   \n",
       "mean   1.891988e+07  6.714579e+07     40.729013    -73.952217    150.939121   \n",
       "std    1.102155e+07  7.835404e+07      0.054594      0.046091    228.224188   \n",
       "min    2.539000e+03  2.438000e+03     40.506410    -74.244420      0.000000   \n",
       "25%    9.350729e+06  7.740184e+06     40.690090    -73.983030     69.000000   \n",
       "50%    1.951751e+07  3.071907e+07     40.723140    -73.955530    107.000000   \n",
       "75%    2.916531e+07  1.064429e+08     40.763280    -73.936430    175.000000   \n",
       "max    3.648561e+07  2.743213e+08     40.912340    -73.712990  10000.000000   \n",
       "\n",
       "       minimum_nights  number_of_reviews  reviews_per_month  \\\n",
       "count    29337.000000       29337.000000       23386.000000   \n",
       "mean         7.141971          23.354501           1.369867   \n",
       "std         22.272110          44.692480           1.706732   \n",
       "min          1.000000           0.000000           0.010000   \n",
       "25%          1.000000           1.000000           0.190000   \n",
       "50%          3.000000           5.000000           0.710000   \n",
       "75%          5.000000          23.000000           2.010000   \n",
       "max       1250.000000         629.000000          58.500000   \n",
       "\n",
       "       calculated_host_listings_count  availability_365  \n",
       "count                    29337.000000      29337.000000  \n",
       "mean                         7.003340        112.803627  \n",
       "std                         32.511623        131.544488  \n",
       "min                          1.000000          0.000000  \n",
       "25%                          1.000000          0.000000  \n",
       "50%                          1.000000         45.000000  \n",
       "75%                          2.000000        227.000000  \n",
       "max                        327.000000        365.000000  "
      ]
     },
     "execution_count": 67,
     "metadata": {},
     "output_type": "execute_result"
    }
   ],
   "source": [
    "# some listings are available for 0 days per year\n",
    "train_df.describe()"
   ]
  },
  {
   "cell_type": "code",
   "execution_count": 68,
   "metadata": {
    "tags": []
   },
   "outputs": [
    {
     "data": {
      "text/plain": [
       "host_id\n",
       "219517861    186\n",
       "107434423    145\n",
       "30283594      83\n",
       "61391963      57\n",
       "137358866     56\n",
       "            ... \n",
       "6291714        1\n",
       "168495229      1\n",
       "134901180      1\n",
       "3783926        1\n",
       "159769278      1\n",
       "Name: count, Length: 23964, dtype: int64"
      ]
     },
     "execution_count": 68,
     "metadata": {},
     "output_type": "execute_result"
    }
   ],
   "source": [
    "# some hosts have multiple listings\n",
    "train_df[\"host_id\"].value_counts()"
   ]
  },
  {
   "cell_type": "code",
   "execution_count": 69,
   "metadata": {
    "tags": []
   },
   "outputs": [
    {
     "data": {
      "text/plain": [
       "Ellipsis"
      ]
     },
     "execution_count": 69,
     "metadata": {},
     "output_type": "execute_result"
    }
   ],
   "source": [
    "..."
   ]
  },
  {
   "cell_type": "code",
   "execution_count": 70,
   "metadata": {
    "tags": []
   },
   "outputs": [
    {
     "data": {
      "text/plain": [
       "Ellipsis"
      ]
     },
     "execution_count": 70,
     "metadata": {},
     "output_type": "execute_result"
    }
   ],
   "source": [
    "..."
   ]
  },
  {
   "cell_type": "markdown",
   "metadata": {
    "deletable": false,
    "editable": false
   },
   "source": [
    "<!-- END QUESTION -->\n",
    "\n",
    "<br><br>"
   ]
  },
  {
   "cell_type": "markdown",
   "metadata": {
    "deletable": false,
    "editable": false,
    "slideshow": {
     "slide_type": ""
    },
    "tags": []
   },
   "source": [
    "<!-- BEGIN QUESTION -->\n",
    "\n",
    "## (Challenging) 4. Feature engineering <a name=\"4\"></a>\n",
    "<hr>\n",
    "rubric={points:1}\n",
    "\n",
    "**Your tasks:**\n",
    "\n",
    "1. Carry out feature engineering. In other words, extract new features relevant for the problem and work with your new feature set in the following exercises. You may have to go back and forth between feature engineering and preprocessing. "
   ]
  },
  {
   "cell_type": "code",
   "execution_count": 71,
   "metadata": {},
   "outputs": [],
   "source": [
    "train_df = train_df.assign(\n",
    "    price_per_min_night=train_df[\"price\"] / train_df[\"minimum_nights\"])\n",
    "test_df = test_df.assign(\n",
    "    price_per_min_night=test_df[\"price\"] / test_df[\"minimum_nights\"])"
   ]
  },
  {
   "cell_type": "markdown",
   "metadata": {
    "deletable": false,
    "editable": false
   },
   "source": [
    "<div class=\"alert alert-warning\">\n",
    "    \n",
    "Solution_4\n",
    "    \n",
    "</div>\n",
    "\n",
    "_Points:_ 1"
   ]
  },
  {
   "cell_type": "markdown",
   "metadata": {
    "deletable": false,
    "editable": false
   },
   "source": [
    "<!-- END QUESTION -->\n",
    "\n",
    "<br><br>"
   ]
  },
  {
   "cell_type": "markdown",
   "metadata": {
    "deletable": false,
    "editable": false
   },
   "source": [
    "<!-- BEGIN QUESTION -->\n",
    "\n",
    "## 5. Preprocessing and transformations <a name=\"5\"></a>\n",
    "<hr>\n",
    "rubric={points:10}\n",
    "\n",
    "**Your tasks:**\n",
    "\n",
    "1. Identify any data cleaning that needs to be done and perform it.\n",
    "2. Identify different feature types and the transformations you would apply on each feature type. \n",
    "3. Define a column transformer, if necessary.\n",
    "4. You have likely noticed the `number_of_reviews` feature will be higly informative for the target `reviews_per_month`. To make this assignment more interesting **drop** the `number_of_reviews` feature."
   ]
  },
  {
   "cell_type": "markdown",
   "metadata": {
    "deletable": false,
    "editable": false
   },
   "source": [
    "<div class=\"alert alert-warning\">\n",
    "    \n",
    "Solution_5\n",
    "    \n",
    "</div>\n",
    "\n",
    "_Points:_ 10"
   ]
  },
  {
   "cell_type": "markdown",
   "metadata": {},
   "source": [
    "_Type your answer here, replacing this text._"
   ]
  },
  {
   "cell_type": "code",
   "execution_count": 72,
   "metadata": {
    "tags": []
   },
   "outputs": [],
   "source": [
    "# split X and y for train and test data\n",
    "X_train = train_df.drop(columns=[\"reviews_per_month\"])\n",
    "y_train = train_df[\"reviews_per_month\"]\n",
    "y_train = y_train.fillna(0)\n",
    "\n",
    "X_test = test_df.drop(columns=[\"reviews_per_month\"])\n",
    "y_test = test_df[\"reviews_per_month\"]\n",
    "y_test = y_test.fillna(0)"
   ]
  },
  {
   "cell_type": "code",
   "execution_count": 73,
   "metadata": {
    "tags": []
   },
   "outputs": [],
   "source": [
    "drop_features = [\"number_of_reviews\", \"id\", \"host_id\", \"name\", \"host_name\",\n",
    "                 \"last_review\", \"latitude\", \"longitude\", \"calculated_host_listings_count\", \"neighbourhood\"]\n",
    "numeric_features = [\"price\", \"minimum_nights\", \"availability_365\", \"price_per_min_night\"]\n",
    "categorical_features = [\"neighbourhood_group\", \"room_type\"]"
   ]
  },
  {
   "cell_type": "code",
   "execution_count": 74,
   "metadata": {
    "tags": []
   },
   "outputs": [],
   "source": [
    "from sklearn.compose import ColumnTransformer, make_column_transformer\n",
    "from sklearn.pipeline import Pipeline, make_pipeline\n",
    "from sklearn.impute import SimpleImputer\n",
    "from sklearn.preprocessing import OneHotEncoder, StandardScaler, KBinsDiscretizer\n",
    "\n",
    "# adapted from lecture 12, 13\n",
    "numeric_transformer = make_pipeline(\n",
    "    SimpleImputer(strategy=\"median\"), StandardScaler()\n",
    ")\n",
    "categorical_transformer = make_pipeline(\n",
    "    SimpleImputer(strategy=\"constant\"),\n",
    "    OneHotEncoder(handle_unknown=\"ignore\")\n",
    ")\n",
    "# column transformer\n",
    "preprocessor = make_column_transformer(\n",
    "    (\"drop\", drop_features),\n",
    "    (numeric_transformer, numeric_features),\n",
    "    (categorical_transformer, categorical_features),\n",
    ")"
   ]
  },
  {
   "cell_type": "code",
   "execution_count": 75,
   "metadata": {
    "tags": []
   },
   "outputs": [
    {
     "data": {
      "text/plain": [
       "Ellipsis"
      ]
     },
     "execution_count": 75,
     "metadata": {},
     "output_type": "execute_result"
    }
   ],
   "source": [
    "..."
   ]
  },
  {
   "cell_type": "code",
   "execution_count": 76,
   "metadata": {
    "tags": []
   },
   "outputs": [
    {
     "data": {
      "text/plain": [
       "Ellipsis"
      ]
     },
     "execution_count": 76,
     "metadata": {},
     "output_type": "execute_result"
    }
   ],
   "source": [
    "..."
   ]
  },
  {
   "cell_type": "markdown",
   "metadata": {
    "deletable": false,
    "editable": false
   },
   "source": [
    "<!-- END QUESTION -->\n",
    "\n",
    "<br><br>"
   ]
  },
  {
   "cell_type": "markdown",
   "metadata": {
    "deletable": false,
    "editable": false
   },
   "source": [
    "<!-- BEGIN QUESTION -->\n",
    "\n",
    "## 6. Baseline model <a name=\"6\"></a>\n",
    "<hr>\n",
    "rubric={points:2}\n",
    "\n",
    "**Your tasks:**\n",
    "1. Try `scikit-learn`'s baseline model and report results."
   ]
  },
  {
   "cell_type": "markdown",
   "metadata": {
    "deletable": false,
    "editable": false
   },
   "source": [
    "<div class=\"alert alert-warning\">\n",
    "    \n",
    "Solution_6\n",
    "    \n",
    "</div>\n",
    "\n",
    "_Points:_ 2"
   ]
  },
  {
   "cell_type": "code",
   "execution_count": 77,
   "metadata": {
    "tags": []
   },
   "outputs": [
    {
     "data": {
      "text/html": [
       "<div>\n",
       "<style scoped>\n",
       "    .dataframe tbody tr th:only-of-type {\n",
       "        vertical-align: middle;\n",
       "    }\n",
       "\n",
       "    .dataframe tbody tr th {\n",
       "        vertical-align: top;\n",
       "    }\n",
       "\n",
       "    .dataframe thead th {\n",
       "        text-align: right;\n",
       "    }\n",
       "</style>\n",
       "<table border=\"1\" class=\"dataframe\">\n",
       "  <thead>\n",
       "    <tr style=\"text-align: right;\">\n",
       "      <th></th>\n",
       "      <th>fit_time</th>\n",
       "      <th>score_time</th>\n",
       "      <th>test_score</th>\n",
       "      <th>train_score</th>\n",
       "    </tr>\n",
       "  </thead>\n",
       "  <tbody>\n",
       "    <tr>\n",
       "      <th>0</th>\n",
       "      <td>0.008546</td>\n",
       "      <td>0.0</td>\n",
       "      <td>-0.000077</td>\n",
       "      <td>0.0</td>\n",
       "    </tr>\n",
       "    <tr>\n",
       "      <th>1</th>\n",
       "      <td>0.008466</td>\n",
       "      <td>0.0</td>\n",
       "      <td>-0.000311</td>\n",
       "      <td>0.0</td>\n",
       "    </tr>\n",
       "    <tr>\n",
       "      <th>2</th>\n",
       "      <td>0.008187</td>\n",
       "      <td>0.0</td>\n",
       "      <td>-0.000040</td>\n",
       "      <td>0.0</td>\n",
       "    </tr>\n",
       "    <tr>\n",
       "      <th>3</th>\n",
       "      <td>0.008001</td>\n",
       "      <td>0.0</td>\n",
       "      <td>-0.000734</td>\n",
       "      <td>0.0</td>\n",
       "    </tr>\n",
       "    <tr>\n",
       "      <th>4</th>\n",
       "      <td>0.010255</td>\n",
       "      <td>0.0</td>\n",
       "      <td>-0.000166</td>\n",
       "      <td>0.0</td>\n",
       "    </tr>\n",
       "    <tr>\n",
       "      <th>5</th>\n",
       "      <td>0.000000</td>\n",
       "      <td>0.0</td>\n",
       "      <td>-0.000055</td>\n",
       "      <td>0.0</td>\n",
       "    </tr>\n",
       "    <tr>\n",
       "      <th>6</th>\n",
       "      <td>0.007989</td>\n",
       "      <td>0.0</td>\n",
       "      <td>-0.000027</td>\n",
       "      <td>0.0</td>\n",
       "    </tr>\n",
       "    <tr>\n",
       "      <th>7</th>\n",
       "      <td>0.008012</td>\n",
       "      <td>0.0</td>\n",
       "      <td>-0.000022</td>\n",
       "      <td>0.0</td>\n",
       "    </tr>\n",
       "    <tr>\n",
       "      <th>8</th>\n",
       "      <td>0.008000</td>\n",
       "      <td>0.0</td>\n",
       "      <td>-0.000125</td>\n",
       "      <td>0.0</td>\n",
       "    </tr>\n",
       "    <tr>\n",
       "      <th>9</th>\n",
       "      <td>0.008070</td>\n",
       "      <td>0.0</td>\n",
       "      <td>-0.002337</td>\n",
       "      <td>0.0</td>\n",
       "    </tr>\n",
       "  </tbody>\n",
       "</table>\n",
       "</div>"
      ],
      "text/plain": [
       "   fit_time  score_time  test_score  train_score\n",
       "0  0.008546         0.0   -0.000077          0.0\n",
       "1  0.008466         0.0   -0.000311          0.0\n",
       "2  0.008187         0.0   -0.000040          0.0\n",
       "3  0.008001         0.0   -0.000734          0.0\n",
       "4  0.010255         0.0   -0.000166          0.0\n",
       "5  0.000000         0.0   -0.000055          0.0\n",
       "6  0.007989         0.0   -0.000027          0.0\n",
       "7  0.008012         0.0   -0.000022          0.0\n",
       "8  0.008000         0.0   -0.000125          0.0\n",
       "9  0.008070         0.0   -0.002337          0.0"
      ]
     },
     "execution_count": 77,
     "metadata": {},
     "output_type": "execute_result"
    }
   ],
   "source": [
    "from sklearn.dummy import DummyRegressor\n",
    "from sklearn.model_selection import cross_validate\n",
    "\n",
    "dummy = DummyRegressor()\n",
    "dummy.fit(X_train, y_train)\n",
    "dr = pd.DataFrame(cross_validate(dummy, X_train, y_train, cv=10, return_train_score=True))\n",
    "dr"
   ]
  },
  {
   "cell_type": "markdown",
   "metadata": {
    "tags": []
   },
   "source": [
    "The test score is very bad, and train score is 0, which is expected from DummyRegressor. "
   ]
  },
  {
   "cell_type": "code",
   "execution_count": 78,
   "metadata": {
    "tags": []
   },
   "outputs": [
    {
     "data": {
      "text/plain": [
       "Ellipsis"
      ]
     },
     "execution_count": 78,
     "metadata": {},
     "output_type": "execute_result"
    }
   ],
   "source": [
    "..."
   ]
  },
  {
   "cell_type": "markdown",
   "metadata": {
    "deletable": false,
    "editable": false
   },
   "source": [
    "<!-- END QUESTION -->\n",
    "\n"
   ]
  },
  {
   "cell_type": "code",
   "execution_count": null,
   "metadata": {},
   "outputs": [],
   "source": []
  },
  {
   "cell_type": "markdown",
   "metadata": {
    "deletable": false,
    "editable": false
   },
   "source": [
    "<!-- BEGIN QUESTION -->\n",
    "\n",
    "## 7. Linear models <a name=\"7\"></a>\n",
    "<hr>\n",
    "rubric={points:10}\n",
    "\n",
    "**Your tasks:**\n",
    "\n",
    "1. Try a linear model as a first real attempt. \n",
    "2. Carry out hyperparameter tuning to explore different values for the complexity hyperparameter. \n",
    "3. Report cross-validation scores along with standard deviation. \n",
    "4. Summarize your results."
   ]
  },
  {
   "cell_type": "markdown",
   "metadata": {
    "deletable": false,
    "editable": false
   },
   "source": [
    "<div class=\"alert alert-warning\">\n",
    "    \n",
    "Solution_7\n",
    "    \n",
    "</div>\n",
    "\n",
    "_Points:_ 10"
   ]
  },
  {
   "cell_type": "markdown",
   "metadata": {},
   "source": [
    "_The linear model produces very bad results, and with tuning, continues to. The best alpha appears to be alpha=100._"
   ]
  },
  {
   "cell_type": "code",
   "execution_count": 79,
   "metadata": {
    "tags": []
   },
   "outputs": [
    {
     "data": {
      "text/html": [
       "<div>\n",
       "<style scoped>\n",
       "    .dataframe tbody tr th:only-of-type {\n",
       "        vertical-align: middle;\n",
       "    }\n",
       "\n",
       "    .dataframe tbody tr th {\n",
       "        vertical-align: top;\n",
       "    }\n",
       "\n",
       "    .dataframe thead th {\n",
       "        text-align: right;\n",
       "    }\n",
       "</style>\n",
       "<table border=\"1\" class=\"dataframe\">\n",
       "  <thead>\n",
       "    <tr style=\"text-align: right;\">\n",
       "      <th></th>\n",
       "      <th>fit_time</th>\n",
       "      <th>score_time</th>\n",
       "      <th>test_score</th>\n",
       "      <th>train_score</th>\n",
       "    </tr>\n",
       "  </thead>\n",
       "  <tbody>\n",
       "    <tr>\n",
       "      <th>0</th>\n",
       "      <td>0.140337</td>\n",
       "      <td>0.016611</td>\n",
       "      <td>0.070586</td>\n",
       "      <td>0.062599</td>\n",
       "    </tr>\n",
       "    <tr>\n",
       "      <th>1</th>\n",
       "      <td>0.113371</td>\n",
       "      <td>0.016575</td>\n",
       "      <td>0.066795</td>\n",
       "      <td>0.063018</td>\n",
       "    </tr>\n",
       "    <tr>\n",
       "      <th>2</th>\n",
       "      <td>0.138171</td>\n",
       "      <td>0.024360</td>\n",
       "      <td>0.063660</td>\n",
       "      <td>0.063439</td>\n",
       "    </tr>\n",
       "    <tr>\n",
       "      <th>3</th>\n",
       "      <td>0.124457</td>\n",
       "      <td>0.016109</td>\n",
       "      <td>0.049095</td>\n",
       "      <td>0.065537</td>\n",
       "    </tr>\n",
       "    <tr>\n",
       "      <th>4</th>\n",
       "      <td>0.115600</td>\n",
       "      <td>0.016315</td>\n",
       "      <td>0.055524</td>\n",
       "      <td>0.064229</td>\n",
       "    </tr>\n",
       "    <tr>\n",
       "      <th>5</th>\n",
       "      <td>0.130478</td>\n",
       "      <td>0.016373</td>\n",
       "      <td>0.059056</td>\n",
       "      <td>0.063780</td>\n",
       "    </tr>\n",
       "    <tr>\n",
       "      <th>6</th>\n",
       "      <td>0.111775</td>\n",
       "      <td>0.017551</td>\n",
       "      <td>0.068739</td>\n",
       "      <td>0.062905</td>\n",
       "    </tr>\n",
       "    <tr>\n",
       "      <th>7</th>\n",
       "      <td>0.112223</td>\n",
       "      <td>0.019816</td>\n",
       "      <td>0.066836</td>\n",
       "      <td>0.063080</td>\n",
       "    </tr>\n",
       "    <tr>\n",
       "      <th>8</th>\n",
       "      <td>0.102496</td>\n",
       "      <td>0.024136</td>\n",
       "      <td>0.065300</td>\n",
       "      <td>0.063158</td>\n",
       "    </tr>\n",
       "    <tr>\n",
       "      <th>9</th>\n",
       "      <td>0.125013</td>\n",
       "      <td>0.017133</td>\n",
       "      <td>0.052130</td>\n",
       "      <td>0.064181</td>\n",
       "    </tr>\n",
       "  </tbody>\n",
       "</table>\n",
       "</div>"
      ],
      "text/plain": [
       "   fit_time  score_time  test_score  train_score\n",
       "0  0.140337    0.016611    0.070586     0.062599\n",
       "1  0.113371    0.016575    0.066795     0.063018\n",
       "2  0.138171    0.024360    0.063660     0.063439\n",
       "3  0.124457    0.016109    0.049095     0.065537\n",
       "4  0.115600    0.016315    0.055524     0.064229\n",
       "5  0.130478    0.016373    0.059056     0.063780\n",
       "6  0.111775    0.017551    0.068739     0.062905\n",
       "7  0.112223    0.019816    0.066836     0.063080\n",
       "8  0.102496    0.024136    0.065300     0.063158\n",
       "9  0.125013    0.017133    0.052130     0.064181"
      ]
     },
     "execution_count": 79,
     "metadata": {},
     "output_type": "execute_result"
    }
   ],
   "source": [
    "from sklearn.linear_model import Ridge\n",
    "\n",
    "pipe = make_pipeline(preprocessor, Ridge())\n",
    "pipe.fit(X_train, y_train)\n",
    "ridge = pd.DataFrame(cross_validate(pipe, X_train, y_train, cv=10, return_train_score=True))\n",
    "ridge"
   ]
  },
  {
   "cell_type": "code",
   "execution_count": 80,
   "metadata": {
    "tags": []
   },
   "outputs": [
    {
     "data": {
      "text/html": [
       "<div>\n",
       "<style scoped>\n",
       "    .dataframe tbody tr th:only-of-type {\n",
       "        vertical-align: middle;\n",
       "    }\n",
       "\n",
       "    .dataframe tbody tr th {\n",
       "        vertical-align: top;\n",
       "    }\n",
       "\n",
       "    .dataframe thead th {\n",
       "        text-align: right;\n",
       "    }\n",
       "</style>\n",
       "<table border=\"1\" class=\"dataframe\">\n",
       "  <thead>\n",
       "    <tr style=\"text-align: right;\">\n",
       "      <th></th>\n",
       "      <th>alpha</th>\n",
       "      <th>mean_train_scores</th>\n",
       "      <th>mean_cv_scores</th>\n",
       "      <th>std_train_scores</th>\n",
       "      <th>std_cv_scores</th>\n",
       "    </tr>\n",
       "  </thead>\n",
       "  <tbody>\n",
       "    <tr>\n",
       "      <th>0</th>\n",
       "      <td>0.001</td>\n",
       "      <td>0.063663</td>\n",
       "      <td>0.062076</td>\n",
       "      <td>0.001336</td>\n",
       "      <td>0.004931</td>\n",
       "    </tr>\n",
       "    <tr>\n",
       "      <th>1</th>\n",
       "      <td>0.010</td>\n",
       "      <td>0.063663</td>\n",
       "      <td>0.062076</td>\n",
       "      <td>0.001336</td>\n",
       "      <td>0.004931</td>\n",
       "    </tr>\n",
       "    <tr>\n",
       "      <th>2</th>\n",
       "      <td>0.100</td>\n",
       "      <td>0.063663</td>\n",
       "      <td>0.062076</td>\n",
       "      <td>0.001336</td>\n",
       "      <td>0.004931</td>\n",
       "    </tr>\n",
       "    <tr>\n",
       "      <th>3</th>\n",
       "      <td>1.000</td>\n",
       "      <td>0.063663</td>\n",
       "      <td>0.062077</td>\n",
       "      <td>0.001336</td>\n",
       "      <td>0.004930</td>\n",
       "    </tr>\n",
       "    <tr>\n",
       "      <th>4</th>\n",
       "      <td>10.000</td>\n",
       "      <td>0.063663</td>\n",
       "      <td>0.062082</td>\n",
       "      <td>0.001336</td>\n",
       "      <td>0.004916</td>\n",
       "    </tr>\n",
       "    <tr>\n",
       "      <th>5</th>\n",
       "      <td>100.000</td>\n",
       "      <td>0.063645</td>\n",
       "      <td>0.062110</td>\n",
       "      <td>0.001334</td>\n",
       "      <td>0.004787</td>\n",
       "    </tr>\n",
       "    <tr>\n",
       "      <th>6</th>\n",
       "      <td>1000.000</td>\n",
       "      <td>0.062971</td>\n",
       "      <td>0.061726</td>\n",
       "      <td>0.001278</td>\n",
       "      <td>0.003974</td>\n",
       "    </tr>\n",
       "    <tr>\n",
       "      <th>7</th>\n",
       "      <td>10000.000</td>\n",
       "      <td>0.052150</td>\n",
       "      <td>0.051724</td>\n",
       "      <td>0.000802</td>\n",
       "      <td>0.002721</td>\n",
       "    </tr>\n",
       "    <tr>\n",
       "      <th>8</th>\n",
       "      <td>100000.000</td>\n",
       "      <td>0.016892</td>\n",
       "      <td>0.016771</td>\n",
       "      <td>0.000199</td>\n",
       "      <td>0.001322</td>\n",
       "    </tr>\n",
       "  </tbody>\n",
       "</table>\n",
       "</div>"
      ],
      "text/plain": [
       "        alpha  mean_train_scores  mean_cv_scores  std_train_scores  \\\n",
       "0       0.001           0.063663        0.062076          0.001336   \n",
       "1       0.010           0.063663        0.062076          0.001336   \n",
       "2       0.100           0.063663        0.062076          0.001336   \n",
       "3       1.000           0.063663        0.062077          0.001336   \n",
       "4      10.000           0.063663        0.062082          0.001336   \n",
       "5     100.000           0.063645        0.062110          0.001334   \n",
       "6    1000.000           0.062971        0.061726          0.001278   \n",
       "7   10000.000           0.052150        0.051724          0.000802   \n",
       "8  100000.000           0.016892        0.016771          0.000199   \n",
       "\n",
       "   std_cv_scores  \n",
       "0       0.004931  \n",
       "1       0.004931  \n",
       "2       0.004931  \n",
       "3       0.004930  \n",
       "4       0.004916  \n",
       "5       0.004787  \n",
       "6       0.003974  \n",
       "7       0.002721  \n",
       "8       0.001322  "
      ]
     },
     "execution_count": 80,
     "metadata": {},
     "output_type": "execute_result"
    }
   ],
   "source": [
    "# adapted from lecture 07\n",
    "scores_dict = {\n",
    "    \"alpha\": 10.0 ** np.arange(-3, 6, 1),\n",
    "    \"mean_train_scores\": list(),\n",
    "    \"mean_cv_scores\": list(),\n",
    "    \"std_train_scores\": list(),\n",
    "    \"std_cv_scores\": list(),\n",
    "}\n",
    "for alpha in scores_dict[\"alpha\"]:\n",
    "    pipe_ridge = make_pipeline(preprocessor, Ridge(alpha=alpha))\n",
    "    scores = cross_validate(pipe_ridge, X_train, y_train, return_train_score=True)\n",
    "    scores_dict[\"mean_train_scores\"].append(scores[\"train_score\"].mean())\n",
    "    scores_dict[\"mean_cv_scores\"].append(scores[\"test_score\"].mean())\n",
    "    scores_dict[\"std_train_scores\"].append(scores[\"train_score\"].std())\n",
    "    scores_dict[\"std_cv_scores\"].append(scores[\"test_score\"].std())\n",
    "\n",
    "results_df = pd.DataFrame(scores_dict)\n",
    "results_df"
   ]
  },
  {
   "cell_type": "markdown",
   "metadata": {
    "tags": []
   },
   "source": [
    "..."
   ]
  },
  {
   "cell_type": "code",
   "execution_count": null,
   "metadata": {
    "tags": []
   },
   "outputs": [],
   "source": [
    "..."
   ]
  },
  {
   "cell_type": "markdown",
   "metadata": {
    "deletable": false,
    "editable": false
   },
   "source": [
    "<!-- END QUESTION -->\n",
    "\n",
    "<br><br>"
   ]
  },
  {
   "cell_type": "markdown",
   "metadata": {
    "deletable": false,
    "editable": false
   },
   "source": [
    "<!-- BEGIN QUESTION -->\n",
    "\n",
    "## 8. Different models <a name=\"8\"></a>\n",
    "<hr>\n",
    "rubric={points:12}\n",
    "\n",
    "**Your tasks:**\n",
    "1. Try at least 3 other models aside from a linear model. One of these models should be a tree-based ensemble model. \n",
    "2. Summarize your results in terms of overfitting/underfitting and fit and score times. Can you beat a linear model? "
   ]
  },
  {
   "cell_type": "markdown",
   "metadata": {
    "deletable": false,
    "editable": false
   },
   "source": [
    "<div class=\"alert alert-warning\">\n",
    "    \n",
    "Solution_8\n",
    "    \n",
    "</div>\n",
    "\n",
    "_Points:_ 12"
   ]
  },
  {
   "cell_type": "markdown",
   "metadata": {},
   "source": [
    "_KNNs had the best fit_times and decision tree had the best score time. Overall, decision trees had the best run time. Gradient boosting had the best fit of the three, and the scores best those of the linear model I chose._"
   ]
  },
  {
   "cell_type": "code",
   "execution_count": 81,
   "metadata": {
    "tags": []
   },
   "outputs": [],
   "source": [
    "from sklearn.ensemble import GradientBoostingRegressor\n",
    "from sklearn.tree import DecisionTreeRegressor\n",
    "from sklearn.neighbors import KNeighborsRegressor\n",
    "from sklearn.svm import SVR\n",
    "\n",
    "pipe_gb = make_pipeline(preprocessor, GradientBoostingRegressor(random_state=123))\n",
    "pipe_dt = make_pipeline(preprocessor, DecisionTreeRegressor())\n",
    "pipe_knn = make_pipeline(preprocessor, KNeighborsRegressor())\n",
    "pipe_svr = make_pipeline(preprocessor, SVR())"
   ]
  },
  {
   "cell_type": "code",
   "execution_count": 82,
   "metadata": {},
   "outputs": [],
   "source": [
    "gb = pd.DataFrame(cross_validate(pipe_gb, X_train, y_train, cv=5, return_train_score=True))"
   ]
  },
  {
   "cell_type": "code",
   "execution_count": 84,
   "metadata": {},
   "outputs": [
    {
     "data": {
      "text/html": [
       "<div>\n",
       "<style scoped>\n",
       "    .dataframe tbody tr th:only-of-type {\n",
       "        vertical-align: middle;\n",
       "    }\n",
       "\n",
       "    .dataframe tbody tr th {\n",
       "        vertical-align: top;\n",
       "    }\n",
       "\n",
       "    .dataframe thead th {\n",
       "        text-align: right;\n",
       "    }\n",
       "</style>\n",
       "<table border=\"1\" class=\"dataframe\">\n",
       "  <thead>\n",
       "    <tr style=\"text-align: right;\">\n",
       "      <th></th>\n",
       "      <th>fit_time</th>\n",
       "      <th>score_time</th>\n",
       "      <th>test_score</th>\n",
       "      <th>train_score</th>\n",
       "    </tr>\n",
       "  </thead>\n",
       "  <tbody>\n",
       "    <tr>\n",
       "      <th>0</th>\n",
       "      <td>5.828171</td>\n",
       "      <td>0.049363</td>\n",
       "      <td>0.323115</td>\n",
       "      <td>0.332212</td>\n",
       "    </tr>\n",
       "    <tr>\n",
       "      <th>1</th>\n",
       "      <td>5.964062</td>\n",
       "      <td>0.049114</td>\n",
       "      <td>0.276839</td>\n",
       "      <td>0.344798</td>\n",
       "    </tr>\n",
       "    <tr>\n",
       "      <th>2</th>\n",
       "      <td>5.952469</td>\n",
       "      <td>0.048393</td>\n",
       "      <td>0.340580</td>\n",
       "      <td>0.329027</td>\n",
       "    </tr>\n",
       "    <tr>\n",
       "      <th>3</th>\n",
       "      <td>5.903961</td>\n",
       "      <td>0.048656</td>\n",
       "      <td>0.328229</td>\n",
       "      <td>0.333273</td>\n",
       "    </tr>\n",
       "    <tr>\n",
       "      <th>4</th>\n",
       "      <td>5.779120</td>\n",
       "      <td>0.048073</td>\n",
       "      <td>0.325044</td>\n",
       "      <td>0.332162</td>\n",
       "    </tr>\n",
       "  </tbody>\n",
       "</table>\n",
       "</div>"
      ],
      "text/plain": [
       "   fit_time  score_time  test_score  train_score\n",
       "0  5.828171    0.049363    0.323115     0.332212\n",
       "1  5.964062    0.049114    0.276839     0.344798\n",
       "2  5.952469    0.048393    0.340580     0.329027\n",
       "3  5.903961    0.048656    0.328229     0.333273\n",
       "4  5.779120    0.048073    0.325044     0.332162"
      ]
     },
     "execution_count": 84,
     "metadata": {},
     "output_type": "execute_result"
    }
   ],
   "source": [
    "gb"
   ]
  },
  {
   "cell_type": "code",
   "execution_count": 85,
   "metadata": {},
   "outputs": [],
   "source": [
    "dt = pd.DataFrame(cross_validate(pipe_dt, X_train, y_train, cv=5, return_train_score=True))"
   ]
  },
  {
   "cell_type": "code",
   "execution_count": 86,
   "metadata": {},
   "outputs": [
    {
     "data": {
      "text/html": [
       "<div>\n",
       "<style scoped>\n",
       "    .dataframe tbody tr th:only-of-type {\n",
       "        vertical-align: middle;\n",
       "    }\n",
       "\n",
       "    .dataframe tbody tr th {\n",
       "        vertical-align: top;\n",
       "    }\n",
       "\n",
       "    .dataframe thead th {\n",
       "        text-align: right;\n",
       "    }\n",
       "</style>\n",
       "<table border=\"1\" class=\"dataframe\">\n",
       "  <thead>\n",
       "    <tr style=\"text-align: right;\">\n",
       "      <th></th>\n",
       "      <th>fit_time</th>\n",
       "      <th>score_time</th>\n",
       "      <th>test_score</th>\n",
       "      <th>train_score</th>\n",
       "    </tr>\n",
       "  </thead>\n",
       "  <tbody>\n",
       "    <tr>\n",
       "      <th>0</th>\n",
       "      <td>0.659782</td>\n",
       "      <td>0.028381</td>\n",
       "      <td>-0.227490</td>\n",
       "      <td>0.899842</td>\n",
       "    </tr>\n",
       "    <tr>\n",
       "      <th>1</th>\n",
       "      <td>0.675487</td>\n",
       "      <td>0.033501</td>\n",
       "      <td>-0.207903</td>\n",
       "      <td>0.935621</td>\n",
       "    </tr>\n",
       "    <tr>\n",
       "      <th>2</th>\n",
       "      <td>0.671735</td>\n",
       "      <td>0.024577</td>\n",
       "      <td>-0.264871</td>\n",
       "      <td>0.901791</td>\n",
       "    </tr>\n",
       "    <tr>\n",
       "      <th>3</th>\n",
       "      <td>0.651551</td>\n",
       "      <td>0.025804</td>\n",
       "      <td>-0.307125</td>\n",
       "      <td>0.893763</td>\n",
       "    </tr>\n",
       "    <tr>\n",
       "      <th>4</th>\n",
       "      <td>0.683990</td>\n",
       "      <td>0.021786</td>\n",
       "      <td>-0.276997</td>\n",
       "      <td>0.901047</td>\n",
       "    </tr>\n",
       "  </tbody>\n",
       "</table>\n",
       "</div>"
      ],
      "text/plain": [
       "   fit_time  score_time  test_score  train_score\n",
       "0  0.659782    0.028381   -0.227490     0.899842\n",
       "1  0.675487    0.033501   -0.207903     0.935621\n",
       "2  0.671735    0.024577   -0.264871     0.901791\n",
       "3  0.651551    0.025804   -0.307125     0.893763\n",
       "4  0.683990    0.021786   -0.276997     0.901047"
      ]
     },
     "execution_count": 86,
     "metadata": {},
     "output_type": "execute_result"
    }
   ],
   "source": [
    "dt"
   ]
  },
  {
   "cell_type": "code",
   "execution_count": 87,
   "metadata": {},
   "outputs": [],
   "source": [
    "knn = pd.DataFrame(cross_validate(pipe_knn, X_train, y_train, cv=5, return_train_score=True))"
   ]
  },
  {
   "cell_type": "code",
   "execution_count": 88,
   "metadata": {},
   "outputs": [
    {
     "data": {
      "text/html": [
       "<div>\n",
       "<style scoped>\n",
       "    .dataframe tbody tr th:only-of-type {\n",
       "        vertical-align: middle;\n",
       "    }\n",
       "\n",
       "    .dataframe tbody tr th {\n",
       "        vertical-align: top;\n",
       "    }\n",
       "\n",
       "    .dataframe thead th {\n",
       "        text-align: right;\n",
       "    }\n",
       "</style>\n",
       "<table border=\"1\" class=\"dataframe\">\n",
       "  <thead>\n",
       "    <tr style=\"text-align: right;\">\n",
       "      <th></th>\n",
       "      <th>fit_time</th>\n",
       "      <th>score_time</th>\n",
       "      <th>test_score</th>\n",
       "      <th>train_score</th>\n",
       "    </tr>\n",
       "  </thead>\n",
       "  <tbody>\n",
       "    <tr>\n",
       "      <th>0</th>\n",
       "      <td>0.347407</td>\n",
       "      <td>0.484935</td>\n",
       "      <td>0.181731</td>\n",
       "      <td>0.447782</td>\n",
       "    </tr>\n",
       "    <tr>\n",
       "      <th>1</th>\n",
       "      <td>0.345642</td>\n",
       "      <td>0.474813</td>\n",
       "      <td>0.164476</td>\n",
       "      <td>0.468545</td>\n",
       "    </tr>\n",
       "    <tr>\n",
       "      <th>2</th>\n",
       "      <td>0.361978</td>\n",
       "      <td>0.504950</td>\n",
       "      <td>0.239724</td>\n",
       "      <td>0.439332</td>\n",
       "    </tr>\n",
       "    <tr>\n",
       "      <th>3</th>\n",
       "      <td>0.351722</td>\n",
       "      <td>0.469495</td>\n",
       "      <td>0.205943</td>\n",
       "      <td>0.444654</td>\n",
       "    </tr>\n",
       "    <tr>\n",
       "      <th>4</th>\n",
       "      <td>0.360742</td>\n",
       "      <td>0.412320</td>\n",
       "      <td>0.201984</td>\n",
       "      <td>0.448432</td>\n",
       "    </tr>\n",
       "  </tbody>\n",
       "</table>\n",
       "</div>"
      ],
      "text/plain": [
       "   fit_time  score_time  test_score  train_score\n",
       "0  0.347407    0.484935    0.181731     0.447782\n",
       "1  0.345642    0.474813    0.164476     0.468545\n",
       "2  0.361978    0.504950    0.239724     0.439332\n",
       "3  0.351722    0.469495    0.205943     0.444654\n",
       "4  0.360742    0.412320    0.201984     0.448432"
      ]
     },
     "execution_count": 88,
     "metadata": {},
     "output_type": "execute_result"
    }
   ],
   "source": [
    "knn"
   ]
  },
  {
   "cell_type": "code",
   "execution_count": 90,
   "metadata": {},
   "outputs": [],
   "source": [
    "svr = pd.DataFrame(cross_validate(pipe_svr, X_train, y_train, cv=5, return_train_score=True))"
   ]
  },
  {
   "cell_type": "code",
   "execution_count": 91,
   "metadata": {},
   "outputs": [
    {
     "data": {
      "text/html": [
       "<div>\n",
       "<style scoped>\n",
       "    .dataframe tbody tr th:only-of-type {\n",
       "        vertical-align: middle;\n",
       "    }\n",
       "\n",
       "    .dataframe tbody tr th {\n",
       "        vertical-align: top;\n",
       "    }\n",
       "\n",
       "    .dataframe thead th {\n",
       "        text-align: right;\n",
       "    }\n",
       "</style>\n",
       "<table border=\"1\" class=\"dataframe\">\n",
       "  <thead>\n",
       "    <tr style=\"text-align: right;\">\n",
       "      <th></th>\n",
       "      <th>fit_time</th>\n",
       "      <th>score_time</th>\n",
       "      <th>test_score</th>\n",
       "      <th>train_score</th>\n",
       "    </tr>\n",
       "  </thead>\n",
       "  <tbody>\n",
       "    <tr>\n",
       "      <th>0</th>\n",
       "      <td>80.141119</td>\n",
       "      <td>32.379562</td>\n",
       "      <td>0.199767</td>\n",
       "      <td>0.198581</td>\n",
       "    </tr>\n",
       "    <tr>\n",
       "      <th>1</th>\n",
       "      <td>80.571169</td>\n",
       "      <td>32.329581</td>\n",
       "      <td>0.167749</td>\n",
       "      <td>0.209415</td>\n",
       "    </tr>\n",
       "    <tr>\n",
       "      <th>2</th>\n",
       "      <td>80.608231</td>\n",
       "      <td>32.821936</td>\n",
       "      <td>0.219728</td>\n",
       "      <td>0.194319</td>\n",
       "    </tr>\n",
       "    <tr>\n",
       "      <th>3</th>\n",
       "      <td>80.683723</td>\n",
       "      <td>32.430051</td>\n",
       "      <td>0.202114</td>\n",
       "      <td>0.198160</td>\n",
       "    </tr>\n",
       "    <tr>\n",
       "      <th>4</th>\n",
       "      <td>83.369543</td>\n",
       "      <td>32.454965</td>\n",
       "      <td>0.196467</td>\n",
       "      <td>0.203983</td>\n",
       "    </tr>\n",
       "  </tbody>\n",
       "</table>\n",
       "</div>"
      ],
      "text/plain": [
       "    fit_time  score_time  test_score  train_score\n",
       "0  80.141119   32.379562    0.199767     0.198581\n",
       "1  80.571169   32.329581    0.167749     0.209415\n",
       "2  80.608231   32.821936    0.219728     0.194319\n",
       "3  80.683723   32.430051    0.202114     0.198160\n",
       "4  83.369543   32.454965    0.196467     0.203983"
      ]
     },
     "execution_count": 91,
     "metadata": {},
     "output_type": "execute_result"
    }
   ],
   "source": [
    "svr"
   ]
  },
  {
   "cell_type": "markdown",
   "metadata": {},
   "source": [
    "..."
   ]
  },
  {
   "cell_type": "markdown",
   "metadata": {
    "deletable": false,
    "editable": false
   },
   "source": [
    "<!-- END QUESTION -->\n",
    "\n",
    "<br><br>"
   ]
  },
  {
   "cell_type": "markdown",
   "metadata": {
    "deletable": false,
    "editable": false,
    "slideshow": {
     "slide_type": ""
    },
    "tags": []
   },
   "source": [
    "<!-- BEGIN QUESTION -->\n",
    "\n",
    "## (Challenging) 9. Feature selection <a name=\"9\"></a>\n",
    "<hr>\n",
    "rubric={points:2}\n",
    "\n",
    "**Your tasks:**\n",
    "\n",
    "Make some attempts to select relevant features. You may try `RFECV` or forward selection for this. Do the results improve with feature selection? Summarize your results. If you see improvements in the results, keep feature selection in your pipeline. If not, you may abandon it in the next exercises. "
   ]
  },
  {
   "cell_type": "markdown",
   "metadata": {
    "deletable": false,
    "editable": false
   },
   "source": [
    "<div class=\"alert alert-warning\">\n",
    "    \n",
    "Solution_9\n",
    "    \n",
    "</div>\n",
    "\n",
    "_Points:_ 2"
   ]
  },
  {
   "cell_type": "markdown",
   "metadata": {},
   "source": [
    "_The results do not seem to improve with feature selection. Fit time is much greater, while test and trains scores seem have not really changed._"
   ]
  },
  {
   "cell_type": "code",
   "execution_count": 30,
   "metadata": {
    "tags": []
   },
   "outputs": [],
   "source": [
    "from sklearn.feature_selection import RFECV\n",
    "\n",
    "#adapted from lecture 13\n",
    "pipe_rfe = make_pipeline(\n",
    "    preprocessor, \n",
    "    RFECV(Ridge(), cv=10),\n",
    "    GradientBoostingRegressor(random_state=123),\n",
    ")\n",
    "rfe_results = pd.DataFrame(cross_validate(pipe_rfe, X_train, y_train, cv=5, return_train_score=True))"
   ]
  },
  {
   "cell_type": "code",
   "execution_count": 31,
   "metadata": {
    "tags": []
   },
   "outputs": [
    {
     "data": {
      "text/html": [
       "<div>\n",
       "<style scoped>\n",
       "    .dataframe tbody tr th:only-of-type {\n",
       "        vertical-align: middle;\n",
       "    }\n",
       "\n",
       "    .dataframe tbody tr th {\n",
       "        vertical-align: top;\n",
       "    }\n",
       "\n",
       "    .dataframe thead th {\n",
       "        text-align: right;\n",
       "    }\n",
       "</style>\n",
       "<table border=\"1\" class=\"dataframe\">\n",
       "  <thead>\n",
       "    <tr style=\"text-align: right;\">\n",
       "      <th></th>\n",
       "      <th>fit_time</th>\n",
       "      <th>score_time</th>\n",
       "      <th>test_score</th>\n",
       "      <th>train_score</th>\n",
       "    </tr>\n",
       "  </thead>\n",
       "  <tbody>\n",
       "    <tr>\n",
       "      <th>0</th>\n",
       "      <td>2.276093</td>\n",
       "      <td>0.020333</td>\n",
       "      <td>0.315026</td>\n",
       "      <td>0.324646</td>\n",
       "    </tr>\n",
       "    <tr>\n",
       "      <th>1</th>\n",
       "      <td>2.318155</td>\n",
       "      <td>0.018073</td>\n",
       "      <td>0.269362</td>\n",
       "      <td>0.338020</td>\n",
       "    </tr>\n",
       "    <tr>\n",
       "      <th>2</th>\n",
       "      <td>2.332094</td>\n",
       "      <td>0.016000</td>\n",
       "      <td>0.330389</td>\n",
       "      <td>0.321438</td>\n",
       "    </tr>\n",
       "    <tr>\n",
       "      <th>3</th>\n",
       "      <td>2.164092</td>\n",
       "      <td>0.015996</td>\n",
       "      <td>0.321072</td>\n",
       "      <td>0.325080</td>\n",
       "    </tr>\n",
       "    <tr>\n",
       "      <th>4</th>\n",
       "      <td>2.151462</td>\n",
       "      <td>0.014545</td>\n",
       "      <td>0.326648</td>\n",
       "      <td>0.334657</td>\n",
       "    </tr>\n",
       "  </tbody>\n",
       "</table>\n",
       "</div>"
      ],
      "text/plain": [
       "   fit_time  score_time  test_score  train_score\n",
       "0  2.276093    0.020333    0.315026     0.324646\n",
       "1  2.318155    0.018073    0.269362     0.338020\n",
       "2  2.332094    0.016000    0.330389     0.321438\n",
       "3  2.164092    0.015996    0.321072     0.325080\n",
       "4  2.151462    0.014545    0.326648     0.334657"
      ]
     },
     "execution_count": 31,
     "metadata": {},
     "output_type": "execute_result"
    }
   ],
   "source": [
    "rfe_results"
   ]
  },
  {
   "cell_type": "code",
   "execution_count": null,
   "metadata": {
    "tags": []
   },
   "outputs": [],
   "source": [
    "..."
   ]
  },
  {
   "cell_type": "markdown",
   "metadata": {
    "deletable": false,
    "editable": false
   },
   "source": [
    "<!-- END QUESTION -->\n",
    "\n",
    "<br><br>"
   ]
  },
  {
   "cell_type": "markdown",
   "metadata": {
    "deletable": false,
    "editable": false
   },
   "source": [
    "<!-- BEGIN QUESTION -->\n",
    "\n",
    "## 10. Hyperparameter optimization <a name=\"10\"></a>\n",
    "<hr>\n",
    "rubric={points:10}\n",
    "\n",
    "**Your tasks:**\n",
    "\n",
    "Make some attempts to optimize hyperparameters for the models you've tried and summarize your results. In at least one case you should be optimizing multiple hyperparameters for a single model. You may use `sklearn`'s methods for hyperparameter optimization or fancier Bayesian optimization methods. \n",
    "  - [GridSearchCV](http://scikit-learn.org/stable/modules/generated/sklearn.model_selection.GridSearchCV.html)   \n",
    "  - [RandomizedSearchCV](http://scikit-learn.org/stable/modules/generated/sklearn.model_selection.RandomizedSearchCV.html)\n",
    "  - [scikit-optimize](https://github.com/scikit-optimize/scikit-optimize) "
   ]
  },
  {
   "cell_type": "markdown",
   "metadata": {
    "deletable": false,
    "editable": false
   },
   "source": [
    "<div class=\"alert alert-warning\">\n",
    "    \n",
    "Solution_10\n",
    "    \n",
    "</div>\n",
    "\n",
    "_Points:_ 10"
   ]
  },
  {
   "cell_type": "markdown",
   "metadata": {},
   "source": [
    "_The best hyper parameters for support vectors and gradient boosting appear to be ones that are more complex, while the hyperparameters for decision trees and k-nearest neighbours are values that are not too low or high to avoid overfitting._"
   ]
  },
  {
   "cell_type": "code",
   "execution_count": 37,
   "metadata": {
    "tags": []
   },
   "outputs": [
    {
     "data": {
      "text/html": [
       "<style>#sk-container-id-1 {color: black;}#sk-container-id-1 pre{padding: 0;}#sk-container-id-1 div.sk-toggleable {background-color: white;}#sk-container-id-1 label.sk-toggleable__label {cursor: pointer;display: block;width: 100%;margin-bottom: 0;padding: 0.3em;box-sizing: border-box;text-align: center;}#sk-container-id-1 label.sk-toggleable__label-arrow:before {content: \"▸\";float: left;margin-right: 0.25em;color: #696969;}#sk-container-id-1 label.sk-toggleable__label-arrow:hover:before {color: black;}#sk-container-id-1 div.sk-estimator:hover label.sk-toggleable__label-arrow:before {color: black;}#sk-container-id-1 div.sk-toggleable__content {max-height: 0;max-width: 0;overflow: hidden;text-align: left;background-color: #f0f8ff;}#sk-container-id-1 div.sk-toggleable__content pre {margin: 0.2em;color: black;border-radius: 0.25em;background-color: #f0f8ff;}#sk-container-id-1 input.sk-toggleable__control:checked~div.sk-toggleable__content {max-height: 200px;max-width: 100%;overflow: auto;}#sk-container-id-1 input.sk-toggleable__control:checked~label.sk-toggleable__label-arrow:before {content: \"▾\";}#sk-container-id-1 div.sk-estimator input.sk-toggleable__control:checked~label.sk-toggleable__label {background-color: #d4ebff;}#sk-container-id-1 div.sk-label input.sk-toggleable__control:checked~label.sk-toggleable__label {background-color: #d4ebff;}#sk-container-id-1 input.sk-hidden--visually {border: 0;clip: rect(1px 1px 1px 1px);clip: rect(1px, 1px, 1px, 1px);height: 1px;margin: -1px;overflow: hidden;padding: 0;position: absolute;width: 1px;}#sk-container-id-1 div.sk-estimator {font-family: monospace;background-color: #f0f8ff;border: 1px dotted black;border-radius: 0.25em;box-sizing: border-box;margin-bottom: 0.5em;}#sk-container-id-1 div.sk-estimator:hover {background-color: #d4ebff;}#sk-container-id-1 div.sk-parallel-item::after {content: \"\";width: 100%;border-bottom: 1px solid gray;flex-grow: 1;}#sk-container-id-1 div.sk-label:hover label.sk-toggleable__label {background-color: #d4ebff;}#sk-container-id-1 div.sk-serial::before {content: \"\";position: absolute;border-left: 1px solid gray;box-sizing: border-box;top: 0;bottom: 0;left: 50%;z-index: 0;}#sk-container-id-1 div.sk-serial {display: flex;flex-direction: column;align-items: center;background-color: white;padding-right: 0.2em;padding-left: 0.2em;position: relative;}#sk-container-id-1 div.sk-item {position: relative;z-index: 1;}#sk-container-id-1 div.sk-parallel {display: flex;align-items: stretch;justify-content: center;background-color: white;position: relative;}#sk-container-id-1 div.sk-item::before, #sk-container-id-1 div.sk-parallel-item::before {content: \"\";position: absolute;border-left: 1px solid gray;box-sizing: border-box;top: 0;bottom: 0;left: 50%;z-index: -1;}#sk-container-id-1 div.sk-parallel-item {display: flex;flex-direction: column;z-index: 1;position: relative;background-color: white;}#sk-container-id-1 div.sk-parallel-item:first-child::after {align-self: flex-end;width: 50%;}#sk-container-id-1 div.sk-parallel-item:last-child::after {align-self: flex-start;width: 50%;}#sk-container-id-1 div.sk-parallel-item:only-child::after {width: 0;}#sk-container-id-1 div.sk-dashed-wrapped {border: 1px dashed gray;margin: 0 0.4em 0.5em 0.4em;box-sizing: border-box;padding-bottom: 0.4em;background-color: white;}#sk-container-id-1 div.sk-label label {font-family: monospace;font-weight: bold;display: inline-block;line-height: 1.2em;}#sk-container-id-1 div.sk-label-container {text-align: center;}#sk-container-id-1 div.sk-container {/* jupyter's `normalize.less` sets `[hidden] { display: none; }` but bootstrap.min.css set `[hidden] { display: none !important; }` so we also need the `!important` here to be able to override the default hidden behavior on the sphinx rendered scikit-learn.org. See: https://github.com/scikit-learn/scikit-learn/issues/21755 */display: inline-block !important;position: relative;}#sk-container-id-1 div.sk-text-repr-fallback {display: none;}</style><div id=\"sk-container-id-1\" class=\"sk-top-container\"><div class=\"sk-text-repr-fallback\"><pre>RandomizedSearchCV(estimator=Pipeline(steps=[(&#x27;columntransformer&#x27;,\n",
       "                                              ColumnTransformer(transformers=[(&#x27;drop&#x27;,\n",
       "                                                                               &#x27;drop&#x27;,\n",
       "                                                                               [&#x27;number_of_reviews&#x27;,\n",
       "                                                                                &#x27;id&#x27;,\n",
       "                                                                                &#x27;host_id&#x27;,\n",
       "                                                                                &#x27;name&#x27;,\n",
       "                                                                                &#x27;host_name&#x27;,\n",
       "                                                                                &#x27;last_review&#x27;,\n",
       "                                                                                &#x27;latitude&#x27;,\n",
       "                                                                                &#x27;longitude&#x27;,\n",
       "                                                                                &#x27;calculated_host_listings_count&#x27;,\n",
       "                                                                                &#x27;neighbourhood&#x27;]),\n",
       "                                                                              (&#x27;pipeline-1&#x27;,\n",
       "                                                                               Pipeline(steps=[(&#x27;simpleimputer&#x27;,\n",
       "                                                                                                SimpleImputer(strategy=&#x27;median&#x27;)),\n",
       "                                                                                               (&#x27;standardsca...\n",
       "                                                                                &#x27;price_per_min_night&#x27;]),\n",
       "                                                                              (&#x27;pipeline-2&#x27;,\n",
       "                                                                               Pipeline(steps=[(&#x27;simpleimputer&#x27;,\n",
       "                                                                                                SimpleImputer(strategy=&#x27;constant&#x27;)),\n",
       "                                                                                               (&#x27;onehotencoder&#x27;,\n",
       "                                                                                                OneHotEncoder(handle_unknown=&#x27;ignore&#x27;))]),\n",
       "                                                                               [&#x27;neighbourhood_group&#x27;,\n",
       "                                                                                &#x27;room_type&#x27;])])),\n",
       "                                             (&#x27;svr&#x27;, SVR())]),\n",
       "                   n_jobs=-1,\n",
       "                   param_distributions={&#x27;svr__C&#x27;: [0.001, 0.01, 0.1, 1.0, 10,\n",
       "                                                   100],\n",
       "                                        &#x27;svr__gamma&#x27;: [0.001, 0.01, 0.1, 1.0,\n",
       "                                                       10, 100]},\n",
       "                   return_train_score=True)</pre><b>In a Jupyter environment, please rerun this cell to show the HTML representation or trust the notebook. <br />On GitHub, the HTML representation is unable to render, please try loading this page with nbviewer.org.</b></div><div class=\"sk-container\" hidden><div class=\"sk-item sk-dashed-wrapped\"><div class=\"sk-label-container\"><div class=\"sk-label sk-toggleable\"><input class=\"sk-toggleable__control sk-hidden--visually\" id=\"sk-estimator-id-1\" type=\"checkbox\" ><label for=\"sk-estimator-id-1\" class=\"sk-toggleable__label sk-toggleable__label-arrow\">RandomizedSearchCV</label><div class=\"sk-toggleable__content\"><pre>RandomizedSearchCV(estimator=Pipeline(steps=[(&#x27;columntransformer&#x27;,\n",
       "                                              ColumnTransformer(transformers=[(&#x27;drop&#x27;,\n",
       "                                                                               &#x27;drop&#x27;,\n",
       "                                                                               [&#x27;number_of_reviews&#x27;,\n",
       "                                                                                &#x27;id&#x27;,\n",
       "                                                                                &#x27;host_id&#x27;,\n",
       "                                                                                &#x27;name&#x27;,\n",
       "                                                                                &#x27;host_name&#x27;,\n",
       "                                                                                &#x27;last_review&#x27;,\n",
       "                                                                                &#x27;latitude&#x27;,\n",
       "                                                                                &#x27;longitude&#x27;,\n",
       "                                                                                &#x27;calculated_host_listings_count&#x27;,\n",
       "                                                                                &#x27;neighbourhood&#x27;]),\n",
       "                                                                              (&#x27;pipeline-1&#x27;,\n",
       "                                                                               Pipeline(steps=[(&#x27;simpleimputer&#x27;,\n",
       "                                                                                                SimpleImputer(strategy=&#x27;median&#x27;)),\n",
       "                                                                                               (&#x27;standardsca...\n",
       "                                                                                &#x27;price_per_min_night&#x27;]),\n",
       "                                                                              (&#x27;pipeline-2&#x27;,\n",
       "                                                                               Pipeline(steps=[(&#x27;simpleimputer&#x27;,\n",
       "                                                                                                SimpleImputer(strategy=&#x27;constant&#x27;)),\n",
       "                                                                                               (&#x27;onehotencoder&#x27;,\n",
       "                                                                                                OneHotEncoder(handle_unknown=&#x27;ignore&#x27;))]),\n",
       "                                                                               [&#x27;neighbourhood_group&#x27;,\n",
       "                                                                                &#x27;room_type&#x27;])])),\n",
       "                                             (&#x27;svr&#x27;, SVR())]),\n",
       "                   n_jobs=-1,\n",
       "                   param_distributions={&#x27;svr__C&#x27;: [0.001, 0.01, 0.1, 1.0, 10,\n",
       "                                                   100],\n",
       "                                        &#x27;svr__gamma&#x27;: [0.001, 0.01, 0.1, 1.0,\n",
       "                                                       10, 100]},\n",
       "                   return_train_score=True)</pre></div></div></div><div class=\"sk-parallel\"><div class=\"sk-parallel-item\"><div class=\"sk-item\"><div class=\"sk-label-container\"><div class=\"sk-label sk-toggleable\"><input class=\"sk-toggleable__control sk-hidden--visually\" id=\"sk-estimator-id-2\" type=\"checkbox\" ><label for=\"sk-estimator-id-2\" class=\"sk-toggleable__label sk-toggleable__label-arrow\">estimator: Pipeline</label><div class=\"sk-toggleable__content\"><pre>Pipeline(steps=[(&#x27;columntransformer&#x27;,\n",
       "                 ColumnTransformer(transformers=[(&#x27;drop&#x27;, &#x27;drop&#x27;,\n",
       "                                                  [&#x27;number_of_reviews&#x27;, &#x27;id&#x27;,\n",
       "                                                   &#x27;host_id&#x27;, &#x27;name&#x27;,\n",
       "                                                   &#x27;host_name&#x27;, &#x27;last_review&#x27;,\n",
       "                                                   &#x27;latitude&#x27;, &#x27;longitude&#x27;,\n",
       "                                                   &#x27;calculated_host_listings_count&#x27;,\n",
       "                                                   &#x27;neighbourhood&#x27;]),\n",
       "                                                 (&#x27;pipeline-1&#x27;,\n",
       "                                                  Pipeline(steps=[(&#x27;simpleimputer&#x27;,\n",
       "                                                                   SimpleImputer(strategy=&#x27;median&#x27;)),\n",
       "                                                                  (&#x27;standardscaler&#x27;,\n",
       "                                                                   StandardScaler())]),\n",
       "                                                  [&#x27;price&#x27;, &#x27;minimum_nights&#x27;,\n",
       "                                                   &#x27;availability_365&#x27;,\n",
       "                                                   &#x27;price_per_min_night&#x27;]),\n",
       "                                                 (&#x27;pipeline-2&#x27;,\n",
       "                                                  Pipeline(steps=[(&#x27;simpleimputer&#x27;,\n",
       "                                                                   SimpleImputer(strategy=&#x27;constant&#x27;)),\n",
       "                                                                  (&#x27;onehotencoder&#x27;,\n",
       "                                                                   OneHotEncoder(handle_unknown=&#x27;ignore&#x27;))]),\n",
       "                                                  [&#x27;neighbourhood_group&#x27;,\n",
       "                                                   &#x27;room_type&#x27;])])),\n",
       "                (&#x27;svr&#x27;, SVR())])</pre></div></div></div><div class=\"sk-serial\"><div class=\"sk-item\"><div class=\"sk-serial\"><div class=\"sk-item sk-dashed-wrapped\"><div class=\"sk-label-container\"><div class=\"sk-label sk-toggleable\"><input class=\"sk-toggleable__control sk-hidden--visually\" id=\"sk-estimator-id-3\" type=\"checkbox\" ><label for=\"sk-estimator-id-3\" class=\"sk-toggleable__label sk-toggleable__label-arrow\">columntransformer: ColumnTransformer</label><div class=\"sk-toggleable__content\"><pre>ColumnTransformer(transformers=[(&#x27;drop&#x27;, &#x27;drop&#x27;,\n",
       "                                 [&#x27;number_of_reviews&#x27;, &#x27;id&#x27;, &#x27;host_id&#x27;, &#x27;name&#x27;,\n",
       "                                  &#x27;host_name&#x27;, &#x27;last_review&#x27;, &#x27;latitude&#x27;,\n",
       "                                  &#x27;longitude&#x27;, &#x27;calculated_host_listings_count&#x27;,\n",
       "                                  &#x27;neighbourhood&#x27;]),\n",
       "                                (&#x27;pipeline-1&#x27;,\n",
       "                                 Pipeline(steps=[(&#x27;simpleimputer&#x27;,\n",
       "                                                  SimpleImputer(strategy=&#x27;median&#x27;)),\n",
       "                                                 (&#x27;standardscaler&#x27;,\n",
       "                                                  StandardScaler())]),\n",
       "                                 [&#x27;price&#x27;, &#x27;minimum_nights&#x27;, &#x27;availability_365&#x27;,\n",
       "                                  &#x27;price_per_min_night&#x27;]),\n",
       "                                (&#x27;pipeline-2&#x27;,\n",
       "                                 Pipeline(steps=[(&#x27;simpleimputer&#x27;,\n",
       "                                                  SimpleImputer(strategy=&#x27;constant&#x27;)),\n",
       "                                                 (&#x27;onehotencoder&#x27;,\n",
       "                                                  OneHotEncoder(handle_unknown=&#x27;ignore&#x27;))]),\n",
       "                                 [&#x27;neighbourhood_group&#x27;, &#x27;room_type&#x27;])])</pre></div></div></div><div class=\"sk-parallel\"><div class=\"sk-parallel-item\"><div class=\"sk-item\"><div class=\"sk-label-container\"><div class=\"sk-label sk-toggleable\"><input class=\"sk-toggleable__control sk-hidden--visually\" id=\"sk-estimator-id-4\" type=\"checkbox\" ><label for=\"sk-estimator-id-4\" class=\"sk-toggleable__label sk-toggleable__label-arrow\">drop</label><div class=\"sk-toggleable__content\"><pre>[&#x27;number_of_reviews&#x27;, &#x27;id&#x27;, &#x27;host_id&#x27;, &#x27;name&#x27;, &#x27;host_name&#x27;, &#x27;last_review&#x27;, &#x27;latitude&#x27;, &#x27;longitude&#x27;, &#x27;calculated_host_listings_count&#x27;, &#x27;neighbourhood&#x27;]</pre></div></div></div><div class=\"sk-serial\"><div class=\"sk-item\"><div class=\"sk-estimator sk-toggleable\"><input class=\"sk-toggleable__control sk-hidden--visually\" id=\"sk-estimator-id-5\" type=\"checkbox\" ><label for=\"sk-estimator-id-5\" class=\"sk-toggleable__label sk-toggleable__label-arrow\">drop</label><div class=\"sk-toggleable__content\"><pre>drop</pre></div></div></div></div></div></div><div class=\"sk-parallel-item\"><div class=\"sk-item\"><div class=\"sk-label-container\"><div class=\"sk-label sk-toggleable\"><input class=\"sk-toggleable__control sk-hidden--visually\" id=\"sk-estimator-id-6\" type=\"checkbox\" ><label for=\"sk-estimator-id-6\" class=\"sk-toggleable__label sk-toggleable__label-arrow\">pipeline-1</label><div class=\"sk-toggleable__content\"><pre>[&#x27;price&#x27;, &#x27;minimum_nights&#x27;, &#x27;availability_365&#x27;, &#x27;price_per_min_night&#x27;]</pre></div></div></div><div class=\"sk-serial\"><div class=\"sk-item\"><div class=\"sk-serial\"><div class=\"sk-item\"><div class=\"sk-estimator sk-toggleable\"><input class=\"sk-toggleable__control sk-hidden--visually\" id=\"sk-estimator-id-7\" type=\"checkbox\" ><label for=\"sk-estimator-id-7\" class=\"sk-toggleable__label sk-toggleable__label-arrow\">SimpleImputer</label><div class=\"sk-toggleable__content\"><pre>SimpleImputer(strategy=&#x27;median&#x27;)</pre></div></div></div><div class=\"sk-item\"><div class=\"sk-estimator sk-toggleable\"><input class=\"sk-toggleable__control sk-hidden--visually\" id=\"sk-estimator-id-8\" type=\"checkbox\" ><label for=\"sk-estimator-id-8\" class=\"sk-toggleable__label sk-toggleable__label-arrow\">StandardScaler</label><div class=\"sk-toggleable__content\"><pre>StandardScaler()</pre></div></div></div></div></div></div></div></div><div class=\"sk-parallel-item\"><div class=\"sk-item\"><div class=\"sk-label-container\"><div class=\"sk-label sk-toggleable\"><input class=\"sk-toggleable__control sk-hidden--visually\" id=\"sk-estimator-id-9\" type=\"checkbox\" ><label for=\"sk-estimator-id-9\" class=\"sk-toggleable__label sk-toggleable__label-arrow\">pipeline-2</label><div class=\"sk-toggleable__content\"><pre>[&#x27;neighbourhood_group&#x27;, &#x27;room_type&#x27;]</pre></div></div></div><div class=\"sk-serial\"><div class=\"sk-item\"><div class=\"sk-serial\"><div class=\"sk-item\"><div class=\"sk-estimator sk-toggleable\"><input class=\"sk-toggleable__control sk-hidden--visually\" id=\"sk-estimator-id-10\" type=\"checkbox\" ><label for=\"sk-estimator-id-10\" class=\"sk-toggleable__label sk-toggleable__label-arrow\">SimpleImputer</label><div class=\"sk-toggleable__content\"><pre>SimpleImputer(strategy=&#x27;constant&#x27;)</pre></div></div></div><div class=\"sk-item\"><div class=\"sk-estimator sk-toggleable\"><input class=\"sk-toggleable__control sk-hidden--visually\" id=\"sk-estimator-id-11\" type=\"checkbox\" ><label for=\"sk-estimator-id-11\" class=\"sk-toggleable__label sk-toggleable__label-arrow\">OneHotEncoder</label><div class=\"sk-toggleable__content\"><pre>OneHotEncoder(handle_unknown=&#x27;ignore&#x27;)</pre></div></div></div></div></div></div></div></div></div></div><div class=\"sk-item\"><div class=\"sk-estimator sk-toggleable\"><input class=\"sk-toggleable__control sk-hidden--visually\" id=\"sk-estimator-id-12\" type=\"checkbox\" ><label for=\"sk-estimator-id-12\" class=\"sk-toggleable__label sk-toggleable__label-arrow\">SVR</label><div class=\"sk-toggleable__content\"><pre>SVR()</pre></div></div></div></div></div></div></div></div></div></div></div></div>"
      ],
      "text/plain": [
       "RandomizedSearchCV(estimator=Pipeline(steps=[('columntransformer',\n",
       "                                              ColumnTransformer(transformers=[('drop',\n",
       "                                                                               'drop',\n",
       "                                                                               ['number_of_reviews',\n",
       "                                                                                'id',\n",
       "                                                                                'host_id',\n",
       "                                                                                'name',\n",
       "                                                                                'host_name',\n",
       "                                                                                'last_review',\n",
       "                                                                                'latitude',\n",
       "                                                                                'longitude',\n",
       "                                                                                'calculated_host_listings_count',\n",
       "                                                                                'neighbourhood']),\n",
       "                                                                              ('pipeline-1',\n",
       "                                                                               Pipeline(steps=[('simpleimputer',\n",
       "                                                                                                SimpleImputer(strategy='median')),\n",
       "                                                                                               ('standardsca...\n",
       "                                                                                'price_per_min_night']),\n",
       "                                                                              ('pipeline-2',\n",
       "                                                                               Pipeline(steps=[('simpleimputer',\n",
       "                                                                                                SimpleImputer(strategy='constant')),\n",
       "                                                                                               ('onehotencoder',\n",
       "                                                                                                OneHotEncoder(handle_unknown='ignore'))]),\n",
       "                                                                               ['neighbourhood_group',\n",
       "                                                                                'room_type'])])),\n",
       "                                             ('svr', SVR())]),\n",
       "                   n_jobs=-1,\n",
       "                   param_distributions={'svr__C': [0.001, 0.01, 0.1, 1.0, 10,\n",
       "                                                   100],\n",
       "                                        'svr__gamma': [0.001, 0.01, 0.1, 1.0,\n",
       "                                                       10, 100]},\n",
       "                   return_train_score=True)"
      ]
     },
     "execution_count": 37,
     "metadata": {},
     "output_type": "execute_result"
    }
   ],
   "source": [
    "from sklearn.model_selection import RandomizedSearchCV\n",
    "\n",
    "param_grid_svr = {\n",
    "    \"svr__gamma\": [0.001, 0.01, 0.1, 1.0, 10, 100],\n",
    "    \"svr__C\": [0.001, 0.01, 0.1, 1.0, 10, 100],\n",
    "}\n",
    "\n",
    "rs_svr = RandomizedSearchCV(pipe_svr, param_distributions = param_grid_svr, n_iter=10, n_jobs=-1, return_train_score=True)\n",
    "rs_svr.fit(X_train, y_train)"
   ]
  },
  {
   "cell_type": "code",
   "execution_count": 38,
   "metadata": {
    "tags": []
   },
   "outputs": [
    {
     "data": {
      "text/plain": [
       "0.24500536854705635"
      ]
     },
     "execution_count": 38,
     "metadata": {},
     "output_type": "execute_result"
    }
   ],
   "source": [
    "rs_svr.best_score_"
   ]
  },
  {
   "cell_type": "code",
   "execution_count": 39,
   "metadata": {
    "tags": []
   },
   "outputs": [
    {
     "data": {
      "text/plain": [
       "{'svr__gamma': 1.0, 'svr__C': 100}"
      ]
     },
     "execution_count": 39,
     "metadata": {},
     "output_type": "execute_result"
    }
   ],
   "source": [
    "rs_svr.best_params_"
   ]
  },
  {
   "cell_type": "code",
   "execution_count": 45,
   "metadata": {
    "tags": []
   },
   "outputs": [
    {
     "name": "stderr",
     "output_type": "stream",
     "text": [
      "C:\\Users\\benso\\miniconda3\\envs\\cpsc330\\lib\\site-packages\\sklearn\\model_selection\\_search.py:307: UserWarning: The total space of parameters 8 is smaller than n_iter=10. Running 8 iterations. For exhaustive searches, use GridSearchCV.\n",
      "  warnings.warn(\n"
     ]
    },
    {
     "data": {
      "text/html": [
       "<style>#sk-container-id-3 {color: black;}#sk-container-id-3 pre{padding: 0;}#sk-container-id-3 div.sk-toggleable {background-color: white;}#sk-container-id-3 label.sk-toggleable__label {cursor: pointer;display: block;width: 100%;margin-bottom: 0;padding: 0.3em;box-sizing: border-box;text-align: center;}#sk-container-id-3 label.sk-toggleable__label-arrow:before {content: \"▸\";float: left;margin-right: 0.25em;color: #696969;}#sk-container-id-3 label.sk-toggleable__label-arrow:hover:before {color: black;}#sk-container-id-3 div.sk-estimator:hover label.sk-toggleable__label-arrow:before {color: black;}#sk-container-id-3 div.sk-toggleable__content {max-height: 0;max-width: 0;overflow: hidden;text-align: left;background-color: #f0f8ff;}#sk-container-id-3 div.sk-toggleable__content pre {margin: 0.2em;color: black;border-radius: 0.25em;background-color: #f0f8ff;}#sk-container-id-3 input.sk-toggleable__control:checked~div.sk-toggleable__content {max-height: 200px;max-width: 100%;overflow: auto;}#sk-container-id-3 input.sk-toggleable__control:checked~label.sk-toggleable__label-arrow:before {content: \"▾\";}#sk-container-id-3 div.sk-estimator input.sk-toggleable__control:checked~label.sk-toggleable__label {background-color: #d4ebff;}#sk-container-id-3 div.sk-label input.sk-toggleable__control:checked~label.sk-toggleable__label {background-color: #d4ebff;}#sk-container-id-3 input.sk-hidden--visually {border: 0;clip: rect(1px 1px 1px 1px);clip: rect(1px, 1px, 1px, 1px);height: 1px;margin: -1px;overflow: hidden;padding: 0;position: absolute;width: 1px;}#sk-container-id-3 div.sk-estimator {font-family: monospace;background-color: #f0f8ff;border: 1px dotted black;border-radius: 0.25em;box-sizing: border-box;margin-bottom: 0.5em;}#sk-container-id-3 div.sk-estimator:hover {background-color: #d4ebff;}#sk-container-id-3 div.sk-parallel-item::after {content: \"\";width: 100%;border-bottom: 1px solid gray;flex-grow: 1;}#sk-container-id-3 div.sk-label:hover label.sk-toggleable__label {background-color: #d4ebff;}#sk-container-id-3 div.sk-serial::before {content: \"\";position: absolute;border-left: 1px solid gray;box-sizing: border-box;top: 0;bottom: 0;left: 50%;z-index: 0;}#sk-container-id-3 div.sk-serial {display: flex;flex-direction: column;align-items: center;background-color: white;padding-right: 0.2em;padding-left: 0.2em;position: relative;}#sk-container-id-3 div.sk-item {position: relative;z-index: 1;}#sk-container-id-3 div.sk-parallel {display: flex;align-items: stretch;justify-content: center;background-color: white;position: relative;}#sk-container-id-3 div.sk-item::before, #sk-container-id-3 div.sk-parallel-item::before {content: \"\";position: absolute;border-left: 1px solid gray;box-sizing: border-box;top: 0;bottom: 0;left: 50%;z-index: -1;}#sk-container-id-3 div.sk-parallel-item {display: flex;flex-direction: column;z-index: 1;position: relative;background-color: white;}#sk-container-id-3 div.sk-parallel-item:first-child::after {align-self: flex-end;width: 50%;}#sk-container-id-3 div.sk-parallel-item:last-child::after {align-self: flex-start;width: 50%;}#sk-container-id-3 div.sk-parallel-item:only-child::after {width: 0;}#sk-container-id-3 div.sk-dashed-wrapped {border: 1px dashed gray;margin: 0 0.4em 0.5em 0.4em;box-sizing: border-box;padding-bottom: 0.4em;background-color: white;}#sk-container-id-3 div.sk-label label {font-family: monospace;font-weight: bold;display: inline-block;line-height: 1.2em;}#sk-container-id-3 div.sk-label-container {text-align: center;}#sk-container-id-3 div.sk-container {/* jupyter's `normalize.less` sets `[hidden] { display: none; }` but bootstrap.min.css set `[hidden] { display: none !important; }` so we also need the `!important` here to be able to override the default hidden behavior on the sphinx rendered scikit-learn.org. See: https://github.com/scikit-learn/scikit-learn/issues/21755 */display: inline-block !important;position: relative;}#sk-container-id-3 div.sk-text-repr-fallback {display: none;}</style><div id=\"sk-container-id-3\" class=\"sk-top-container\"><div class=\"sk-text-repr-fallback\"><pre>RandomizedSearchCV(estimator=Pipeline(steps=[(&#x27;columntransformer&#x27;,\n",
       "                                              ColumnTransformer(transformers=[(&#x27;drop&#x27;,\n",
       "                                                                               &#x27;drop&#x27;,\n",
       "                                                                               [&#x27;number_of_reviews&#x27;,\n",
       "                                                                                &#x27;id&#x27;,\n",
       "                                                                                &#x27;host_id&#x27;,\n",
       "                                                                                &#x27;name&#x27;,\n",
       "                                                                                &#x27;host_name&#x27;,\n",
       "                                                                                &#x27;last_review&#x27;,\n",
       "                                                                                &#x27;latitude&#x27;,\n",
       "                                                                                &#x27;longitude&#x27;,\n",
       "                                                                                &#x27;calculated_host_listings_count&#x27;,\n",
       "                                                                                &#x27;neighbourhood&#x27;]),\n",
       "                                                                              (&#x27;pipeline-1&#x27;,\n",
       "                                                                               Pipeline(steps=[(&#x27;simpleimputer&#x27;,\n",
       "                                                                                                SimpleImputer(strategy=&#x27;median&#x27;)),\n",
       "                                                                                               (&#x27;standardsca...\n",
       "                                                                               Pipeline(steps=[(&#x27;simpleimputer&#x27;,\n",
       "                                                                                                SimpleImputer(strategy=&#x27;constant&#x27;)),\n",
       "                                                                                               (&#x27;onehotencoder&#x27;,\n",
       "                                                                                                OneHotEncoder(handle_unknown=&#x27;ignore&#x27;))]),\n",
       "                                                                               [&#x27;neighbourhood_group&#x27;,\n",
       "                                                                                &#x27;room_type&#x27;])])),\n",
       "                                             (&#x27;gradientboostingregressor&#x27;,\n",
       "                                              GradientBoostingRegressor(random_state=123))]),\n",
       "                   n_jobs=-1,\n",
       "                   param_distributions={&#x27;gradientboostingregressor__alpha&#x27;: [0.001,\n",
       "                                                                             0.01,\n",
       "                                                                             0.1,\n",
       "                                                                             0.25,\n",
       "                                                                             0.5,\n",
       "                                                                             0.75,\n",
       "                                                                             0.9,\n",
       "                                                                             0.99]},\n",
       "                   return_train_score=True)</pre><b>In a Jupyter environment, please rerun this cell to show the HTML representation or trust the notebook. <br />On GitHub, the HTML representation is unable to render, please try loading this page with nbviewer.org.</b></div><div class=\"sk-container\" hidden><div class=\"sk-item sk-dashed-wrapped\"><div class=\"sk-label-container\"><div class=\"sk-label sk-toggleable\"><input class=\"sk-toggleable__control sk-hidden--visually\" id=\"sk-estimator-id-25\" type=\"checkbox\" ><label for=\"sk-estimator-id-25\" class=\"sk-toggleable__label sk-toggleable__label-arrow\">RandomizedSearchCV</label><div class=\"sk-toggleable__content\"><pre>RandomizedSearchCV(estimator=Pipeline(steps=[(&#x27;columntransformer&#x27;,\n",
       "                                              ColumnTransformer(transformers=[(&#x27;drop&#x27;,\n",
       "                                                                               &#x27;drop&#x27;,\n",
       "                                                                               [&#x27;number_of_reviews&#x27;,\n",
       "                                                                                &#x27;id&#x27;,\n",
       "                                                                                &#x27;host_id&#x27;,\n",
       "                                                                                &#x27;name&#x27;,\n",
       "                                                                                &#x27;host_name&#x27;,\n",
       "                                                                                &#x27;last_review&#x27;,\n",
       "                                                                                &#x27;latitude&#x27;,\n",
       "                                                                                &#x27;longitude&#x27;,\n",
       "                                                                                &#x27;calculated_host_listings_count&#x27;,\n",
       "                                                                                &#x27;neighbourhood&#x27;]),\n",
       "                                                                              (&#x27;pipeline-1&#x27;,\n",
       "                                                                               Pipeline(steps=[(&#x27;simpleimputer&#x27;,\n",
       "                                                                                                SimpleImputer(strategy=&#x27;median&#x27;)),\n",
       "                                                                                               (&#x27;standardsca...\n",
       "                                                                               Pipeline(steps=[(&#x27;simpleimputer&#x27;,\n",
       "                                                                                                SimpleImputer(strategy=&#x27;constant&#x27;)),\n",
       "                                                                                               (&#x27;onehotencoder&#x27;,\n",
       "                                                                                                OneHotEncoder(handle_unknown=&#x27;ignore&#x27;))]),\n",
       "                                                                               [&#x27;neighbourhood_group&#x27;,\n",
       "                                                                                &#x27;room_type&#x27;])])),\n",
       "                                             (&#x27;gradientboostingregressor&#x27;,\n",
       "                                              GradientBoostingRegressor(random_state=123))]),\n",
       "                   n_jobs=-1,\n",
       "                   param_distributions={&#x27;gradientboostingregressor__alpha&#x27;: [0.001,\n",
       "                                                                             0.01,\n",
       "                                                                             0.1,\n",
       "                                                                             0.25,\n",
       "                                                                             0.5,\n",
       "                                                                             0.75,\n",
       "                                                                             0.9,\n",
       "                                                                             0.99]},\n",
       "                   return_train_score=True)</pre></div></div></div><div class=\"sk-parallel\"><div class=\"sk-parallel-item\"><div class=\"sk-item\"><div class=\"sk-label-container\"><div class=\"sk-label sk-toggleable\"><input class=\"sk-toggleable__control sk-hidden--visually\" id=\"sk-estimator-id-26\" type=\"checkbox\" ><label for=\"sk-estimator-id-26\" class=\"sk-toggleable__label sk-toggleable__label-arrow\">estimator: Pipeline</label><div class=\"sk-toggleable__content\"><pre>Pipeline(steps=[(&#x27;columntransformer&#x27;,\n",
       "                 ColumnTransformer(transformers=[(&#x27;drop&#x27;, &#x27;drop&#x27;,\n",
       "                                                  [&#x27;number_of_reviews&#x27;, &#x27;id&#x27;,\n",
       "                                                   &#x27;host_id&#x27;, &#x27;name&#x27;,\n",
       "                                                   &#x27;host_name&#x27;, &#x27;last_review&#x27;,\n",
       "                                                   &#x27;latitude&#x27;, &#x27;longitude&#x27;,\n",
       "                                                   &#x27;calculated_host_listings_count&#x27;,\n",
       "                                                   &#x27;neighbourhood&#x27;]),\n",
       "                                                 (&#x27;pipeline-1&#x27;,\n",
       "                                                  Pipeline(steps=[(&#x27;simpleimputer&#x27;,\n",
       "                                                                   SimpleImputer(strategy=&#x27;median&#x27;)),\n",
       "                                                                  (&#x27;standardscaler&#x27;,\n",
       "                                                                   StandardScaler())]),\n",
       "                                                  [&#x27;price&#x27;, &#x27;minimum_nights&#x27;,\n",
       "                                                   &#x27;availability_365&#x27;,\n",
       "                                                   &#x27;price_per_min_night&#x27;]),\n",
       "                                                 (&#x27;pipeline-2&#x27;,\n",
       "                                                  Pipeline(steps=[(&#x27;simpleimputer&#x27;,\n",
       "                                                                   SimpleImputer(strategy=&#x27;constant&#x27;)),\n",
       "                                                                  (&#x27;onehotencoder&#x27;,\n",
       "                                                                   OneHotEncoder(handle_unknown=&#x27;ignore&#x27;))]),\n",
       "                                                  [&#x27;neighbourhood_group&#x27;,\n",
       "                                                   &#x27;room_type&#x27;])])),\n",
       "                (&#x27;gradientboostingregressor&#x27;,\n",
       "                 GradientBoostingRegressor(random_state=123))])</pre></div></div></div><div class=\"sk-serial\"><div class=\"sk-item\"><div class=\"sk-serial\"><div class=\"sk-item sk-dashed-wrapped\"><div class=\"sk-label-container\"><div class=\"sk-label sk-toggleable\"><input class=\"sk-toggleable__control sk-hidden--visually\" id=\"sk-estimator-id-27\" type=\"checkbox\" ><label for=\"sk-estimator-id-27\" class=\"sk-toggleable__label sk-toggleable__label-arrow\">columntransformer: ColumnTransformer</label><div class=\"sk-toggleable__content\"><pre>ColumnTransformer(transformers=[(&#x27;drop&#x27;, &#x27;drop&#x27;,\n",
       "                                 [&#x27;number_of_reviews&#x27;, &#x27;id&#x27;, &#x27;host_id&#x27;, &#x27;name&#x27;,\n",
       "                                  &#x27;host_name&#x27;, &#x27;last_review&#x27;, &#x27;latitude&#x27;,\n",
       "                                  &#x27;longitude&#x27;, &#x27;calculated_host_listings_count&#x27;,\n",
       "                                  &#x27;neighbourhood&#x27;]),\n",
       "                                (&#x27;pipeline-1&#x27;,\n",
       "                                 Pipeline(steps=[(&#x27;simpleimputer&#x27;,\n",
       "                                                  SimpleImputer(strategy=&#x27;median&#x27;)),\n",
       "                                                 (&#x27;standardscaler&#x27;,\n",
       "                                                  StandardScaler())]),\n",
       "                                 [&#x27;price&#x27;, &#x27;minimum_nights&#x27;, &#x27;availability_365&#x27;,\n",
       "                                  &#x27;price_per_min_night&#x27;]),\n",
       "                                (&#x27;pipeline-2&#x27;,\n",
       "                                 Pipeline(steps=[(&#x27;simpleimputer&#x27;,\n",
       "                                                  SimpleImputer(strategy=&#x27;constant&#x27;)),\n",
       "                                                 (&#x27;onehotencoder&#x27;,\n",
       "                                                  OneHotEncoder(handle_unknown=&#x27;ignore&#x27;))]),\n",
       "                                 [&#x27;neighbourhood_group&#x27;, &#x27;room_type&#x27;])])</pre></div></div></div><div class=\"sk-parallel\"><div class=\"sk-parallel-item\"><div class=\"sk-item\"><div class=\"sk-label-container\"><div class=\"sk-label sk-toggleable\"><input class=\"sk-toggleable__control sk-hidden--visually\" id=\"sk-estimator-id-28\" type=\"checkbox\" ><label for=\"sk-estimator-id-28\" class=\"sk-toggleable__label sk-toggleable__label-arrow\">drop</label><div class=\"sk-toggleable__content\"><pre>[&#x27;number_of_reviews&#x27;, &#x27;id&#x27;, &#x27;host_id&#x27;, &#x27;name&#x27;, &#x27;host_name&#x27;, &#x27;last_review&#x27;, &#x27;latitude&#x27;, &#x27;longitude&#x27;, &#x27;calculated_host_listings_count&#x27;, &#x27;neighbourhood&#x27;]</pre></div></div></div><div class=\"sk-serial\"><div class=\"sk-item\"><div class=\"sk-estimator sk-toggleable\"><input class=\"sk-toggleable__control sk-hidden--visually\" id=\"sk-estimator-id-29\" type=\"checkbox\" ><label for=\"sk-estimator-id-29\" class=\"sk-toggleable__label sk-toggleable__label-arrow\">drop</label><div class=\"sk-toggleable__content\"><pre>drop</pre></div></div></div></div></div></div><div class=\"sk-parallel-item\"><div class=\"sk-item\"><div class=\"sk-label-container\"><div class=\"sk-label sk-toggleable\"><input class=\"sk-toggleable__control sk-hidden--visually\" id=\"sk-estimator-id-30\" type=\"checkbox\" ><label for=\"sk-estimator-id-30\" class=\"sk-toggleable__label sk-toggleable__label-arrow\">pipeline-1</label><div class=\"sk-toggleable__content\"><pre>[&#x27;price&#x27;, &#x27;minimum_nights&#x27;, &#x27;availability_365&#x27;, &#x27;price_per_min_night&#x27;]</pre></div></div></div><div class=\"sk-serial\"><div class=\"sk-item\"><div class=\"sk-serial\"><div class=\"sk-item\"><div class=\"sk-estimator sk-toggleable\"><input class=\"sk-toggleable__control sk-hidden--visually\" id=\"sk-estimator-id-31\" type=\"checkbox\" ><label for=\"sk-estimator-id-31\" class=\"sk-toggleable__label sk-toggleable__label-arrow\">SimpleImputer</label><div class=\"sk-toggleable__content\"><pre>SimpleImputer(strategy=&#x27;median&#x27;)</pre></div></div></div><div class=\"sk-item\"><div class=\"sk-estimator sk-toggleable\"><input class=\"sk-toggleable__control sk-hidden--visually\" id=\"sk-estimator-id-32\" type=\"checkbox\" ><label for=\"sk-estimator-id-32\" class=\"sk-toggleable__label sk-toggleable__label-arrow\">StandardScaler</label><div class=\"sk-toggleable__content\"><pre>StandardScaler()</pre></div></div></div></div></div></div></div></div><div class=\"sk-parallel-item\"><div class=\"sk-item\"><div class=\"sk-label-container\"><div class=\"sk-label sk-toggleable\"><input class=\"sk-toggleable__control sk-hidden--visually\" id=\"sk-estimator-id-33\" type=\"checkbox\" ><label for=\"sk-estimator-id-33\" class=\"sk-toggleable__label sk-toggleable__label-arrow\">pipeline-2</label><div class=\"sk-toggleable__content\"><pre>[&#x27;neighbourhood_group&#x27;, &#x27;room_type&#x27;]</pre></div></div></div><div class=\"sk-serial\"><div class=\"sk-item\"><div class=\"sk-serial\"><div class=\"sk-item\"><div class=\"sk-estimator sk-toggleable\"><input class=\"sk-toggleable__control sk-hidden--visually\" id=\"sk-estimator-id-34\" type=\"checkbox\" ><label for=\"sk-estimator-id-34\" class=\"sk-toggleable__label sk-toggleable__label-arrow\">SimpleImputer</label><div class=\"sk-toggleable__content\"><pre>SimpleImputer(strategy=&#x27;constant&#x27;)</pre></div></div></div><div class=\"sk-item\"><div class=\"sk-estimator sk-toggleable\"><input class=\"sk-toggleable__control sk-hidden--visually\" id=\"sk-estimator-id-35\" type=\"checkbox\" ><label for=\"sk-estimator-id-35\" class=\"sk-toggleable__label sk-toggleable__label-arrow\">OneHotEncoder</label><div class=\"sk-toggleable__content\"><pre>OneHotEncoder(handle_unknown=&#x27;ignore&#x27;)</pre></div></div></div></div></div></div></div></div></div></div><div class=\"sk-item\"><div class=\"sk-estimator sk-toggleable\"><input class=\"sk-toggleable__control sk-hidden--visually\" id=\"sk-estimator-id-36\" type=\"checkbox\" ><label for=\"sk-estimator-id-36\" class=\"sk-toggleable__label sk-toggleable__label-arrow\">GradientBoostingRegressor</label><div class=\"sk-toggleable__content\"><pre>GradientBoostingRegressor(random_state=123)</pre></div></div></div></div></div></div></div></div></div></div></div></div>"
      ],
      "text/plain": [
       "RandomizedSearchCV(estimator=Pipeline(steps=[('columntransformer',\n",
       "                                              ColumnTransformer(transformers=[('drop',\n",
       "                                                                               'drop',\n",
       "                                                                               ['number_of_reviews',\n",
       "                                                                                'id',\n",
       "                                                                                'host_id',\n",
       "                                                                                'name',\n",
       "                                                                                'host_name',\n",
       "                                                                                'last_review',\n",
       "                                                                                'latitude',\n",
       "                                                                                'longitude',\n",
       "                                                                                'calculated_host_listings_count',\n",
       "                                                                                'neighbourhood']),\n",
       "                                                                              ('pipeline-1',\n",
       "                                                                               Pipeline(steps=[('simpleimputer',\n",
       "                                                                                                SimpleImputer(strategy='median')),\n",
       "                                                                                               ('standardsca...\n",
       "                                                                               Pipeline(steps=[('simpleimputer',\n",
       "                                                                                                SimpleImputer(strategy='constant')),\n",
       "                                                                                               ('onehotencoder',\n",
       "                                                                                                OneHotEncoder(handle_unknown='ignore'))]),\n",
       "                                                                               ['neighbourhood_group',\n",
       "                                                                                'room_type'])])),\n",
       "                                             ('gradientboostingregressor',\n",
       "                                              GradientBoostingRegressor(random_state=123))]),\n",
       "                   n_jobs=-1,\n",
       "                   param_distributions={'gradientboostingregressor__alpha': [0.001,\n",
       "                                                                             0.01,\n",
       "                                                                             0.1,\n",
       "                                                                             0.25,\n",
       "                                                                             0.5,\n",
       "                                                                             0.75,\n",
       "                                                                             0.9,\n",
       "                                                                             0.99]},\n",
       "                   return_train_score=True)"
      ]
     },
     "execution_count": 45,
     "metadata": {},
     "output_type": "execute_result"
    }
   ],
   "source": [
    "param_grid_gb = {\n",
    "    \"gradientboostingregressor__alpha\": [0.001, 0.01, 0.1, 0.25, 0.5, 0.75, 0.9, 0.99],\n",
    "}\n",
    "\n",
    "rs_gb = RandomizedSearchCV(pipe_gb, param_distributions = param_grid_gb, n_iter=8, n_jobs=-1, return_train_score=True)\n",
    "rs_gb.fit(X_train, y_train)"
   ]
  },
  {
   "cell_type": "code",
   "execution_count": 46,
   "metadata": {
    "tags": []
   },
   "outputs": [
    {
     "data": {
      "text/plain": [
       "0.31876137802076465"
      ]
     },
     "execution_count": 46,
     "metadata": {},
     "output_type": "execute_result"
    }
   ],
   "source": [
    "rs_gb.best_score_"
   ]
  },
  {
   "cell_type": "code",
   "execution_count": 47,
   "metadata": {
    "tags": []
   },
   "outputs": [
    {
     "data": {
      "text/plain": [
       "{'gradientboostingregressor__alpha': 0.001}"
      ]
     },
     "execution_count": 47,
     "metadata": {},
     "output_type": "execute_result"
    }
   ],
   "source": [
    "rs_gb.best_params_"
   ]
  },
  {
   "cell_type": "code",
   "execution_count": 52,
   "metadata": {
    "tags": []
   },
   "outputs": [
    {
     "data": {
      "text/html": [
       "<style>#sk-container-id-5 {color: black;}#sk-container-id-5 pre{padding: 0;}#sk-container-id-5 div.sk-toggleable {background-color: white;}#sk-container-id-5 label.sk-toggleable__label {cursor: pointer;display: block;width: 100%;margin-bottom: 0;padding: 0.3em;box-sizing: border-box;text-align: center;}#sk-container-id-5 label.sk-toggleable__label-arrow:before {content: \"▸\";float: left;margin-right: 0.25em;color: #696969;}#sk-container-id-5 label.sk-toggleable__label-arrow:hover:before {color: black;}#sk-container-id-5 div.sk-estimator:hover label.sk-toggleable__label-arrow:before {color: black;}#sk-container-id-5 div.sk-toggleable__content {max-height: 0;max-width: 0;overflow: hidden;text-align: left;background-color: #f0f8ff;}#sk-container-id-5 div.sk-toggleable__content pre {margin: 0.2em;color: black;border-radius: 0.25em;background-color: #f0f8ff;}#sk-container-id-5 input.sk-toggleable__control:checked~div.sk-toggleable__content {max-height: 200px;max-width: 100%;overflow: auto;}#sk-container-id-5 input.sk-toggleable__control:checked~label.sk-toggleable__label-arrow:before {content: \"▾\";}#sk-container-id-5 div.sk-estimator input.sk-toggleable__control:checked~label.sk-toggleable__label {background-color: #d4ebff;}#sk-container-id-5 div.sk-label input.sk-toggleable__control:checked~label.sk-toggleable__label {background-color: #d4ebff;}#sk-container-id-5 input.sk-hidden--visually {border: 0;clip: rect(1px 1px 1px 1px);clip: rect(1px, 1px, 1px, 1px);height: 1px;margin: -1px;overflow: hidden;padding: 0;position: absolute;width: 1px;}#sk-container-id-5 div.sk-estimator {font-family: monospace;background-color: #f0f8ff;border: 1px dotted black;border-radius: 0.25em;box-sizing: border-box;margin-bottom: 0.5em;}#sk-container-id-5 div.sk-estimator:hover {background-color: #d4ebff;}#sk-container-id-5 div.sk-parallel-item::after {content: \"\";width: 100%;border-bottom: 1px solid gray;flex-grow: 1;}#sk-container-id-5 div.sk-label:hover label.sk-toggleable__label {background-color: #d4ebff;}#sk-container-id-5 div.sk-serial::before {content: \"\";position: absolute;border-left: 1px solid gray;box-sizing: border-box;top: 0;bottom: 0;left: 50%;z-index: 0;}#sk-container-id-5 div.sk-serial {display: flex;flex-direction: column;align-items: center;background-color: white;padding-right: 0.2em;padding-left: 0.2em;position: relative;}#sk-container-id-5 div.sk-item {position: relative;z-index: 1;}#sk-container-id-5 div.sk-parallel {display: flex;align-items: stretch;justify-content: center;background-color: white;position: relative;}#sk-container-id-5 div.sk-item::before, #sk-container-id-5 div.sk-parallel-item::before {content: \"\";position: absolute;border-left: 1px solid gray;box-sizing: border-box;top: 0;bottom: 0;left: 50%;z-index: -1;}#sk-container-id-5 div.sk-parallel-item {display: flex;flex-direction: column;z-index: 1;position: relative;background-color: white;}#sk-container-id-5 div.sk-parallel-item:first-child::after {align-self: flex-end;width: 50%;}#sk-container-id-5 div.sk-parallel-item:last-child::after {align-self: flex-start;width: 50%;}#sk-container-id-5 div.sk-parallel-item:only-child::after {width: 0;}#sk-container-id-5 div.sk-dashed-wrapped {border: 1px dashed gray;margin: 0 0.4em 0.5em 0.4em;box-sizing: border-box;padding-bottom: 0.4em;background-color: white;}#sk-container-id-5 div.sk-label label {font-family: monospace;font-weight: bold;display: inline-block;line-height: 1.2em;}#sk-container-id-5 div.sk-label-container {text-align: center;}#sk-container-id-5 div.sk-container {/* jupyter's `normalize.less` sets `[hidden] { display: none; }` but bootstrap.min.css set `[hidden] { display: none !important; }` so we also need the `!important` here to be able to override the default hidden behavior on the sphinx rendered scikit-learn.org. See: https://github.com/scikit-learn/scikit-learn/issues/21755 */display: inline-block !important;position: relative;}#sk-container-id-5 div.sk-text-repr-fallback {display: none;}</style><div id=\"sk-container-id-5\" class=\"sk-top-container\"><div class=\"sk-text-repr-fallback\"><pre>RandomizedSearchCV(estimator=Pipeline(steps=[(&#x27;columntransformer&#x27;,\n",
       "                                              ColumnTransformer(transformers=[(&#x27;drop&#x27;,\n",
       "                                                                               &#x27;drop&#x27;,\n",
       "                                                                               [&#x27;number_of_reviews&#x27;,\n",
       "                                                                                &#x27;id&#x27;,\n",
       "                                                                                &#x27;host_id&#x27;,\n",
       "                                                                                &#x27;name&#x27;,\n",
       "                                                                                &#x27;host_name&#x27;,\n",
       "                                                                                &#x27;last_review&#x27;,\n",
       "                                                                                &#x27;latitude&#x27;,\n",
       "                                                                                &#x27;longitude&#x27;,\n",
       "                                                                                &#x27;calculated_host_listings_count&#x27;,\n",
       "                                                                                &#x27;neighbourhood&#x27;]),\n",
       "                                                                              (&#x27;pipeline-1&#x27;,\n",
       "                                                                               Pipeline(steps=[(&#x27;simpleimputer&#x27;,\n",
       "                                                                                                SimpleImputer(strategy=&#x27;median&#x27;)),\n",
       "                                                                                               (&#x27;standardsca...\n",
       "                                                                              (&#x27;pipeline-2&#x27;,\n",
       "                                                                               Pipeline(steps=[(&#x27;simpleimputer&#x27;,\n",
       "                                                                                                SimpleImputer(strategy=&#x27;constant&#x27;)),\n",
       "                                                                                               (&#x27;onehotencoder&#x27;,\n",
       "                                                                                                OneHotEncoder(handle_unknown=&#x27;ignore&#x27;))]),\n",
       "                                                                               [&#x27;neighbourhood_group&#x27;,\n",
       "                                                                                &#x27;room_type&#x27;])])),\n",
       "                                             (&#x27;decisiontreeregressor&#x27;,\n",
       "                                              DecisionTreeRegressor())]),\n",
       "                   n_jobs=-1,\n",
       "                   param_distributions={&#x27;decisiontreeregressor__max_depth&#x27;: [1,\n",
       "                                                                             2,\n",
       "                                                                             3,\n",
       "                                                                             5,\n",
       "                                                                             7,\n",
       "                                                                             10,\n",
       "                                                                             25,\n",
       "                                                                             50,\n",
       "                                                                             100,\n",
       "                                                                             250]},\n",
       "                   return_train_score=True)</pre><b>In a Jupyter environment, please rerun this cell to show the HTML representation or trust the notebook. <br />On GitHub, the HTML representation is unable to render, please try loading this page with nbviewer.org.</b></div><div class=\"sk-container\" hidden><div class=\"sk-item sk-dashed-wrapped\"><div class=\"sk-label-container\"><div class=\"sk-label sk-toggleable\"><input class=\"sk-toggleable__control sk-hidden--visually\" id=\"sk-estimator-id-49\" type=\"checkbox\" ><label for=\"sk-estimator-id-49\" class=\"sk-toggleable__label sk-toggleable__label-arrow\">RandomizedSearchCV</label><div class=\"sk-toggleable__content\"><pre>RandomizedSearchCV(estimator=Pipeline(steps=[(&#x27;columntransformer&#x27;,\n",
       "                                              ColumnTransformer(transformers=[(&#x27;drop&#x27;,\n",
       "                                                                               &#x27;drop&#x27;,\n",
       "                                                                               [&#x27;number_of_reviews&#x27;,\n",
       "                                                                                &#x27;id&#x27;,\n",
       "                                                                                &#x27;host_id&#x27;,\n",
       "                                                                                &#x27;name&#x27;,\n",
       "                                                                                &#x27;host_name&#x27;,\n",
       "                                                                                &#x27;last_review&#x27;,\n",
       "                                                                                &#x27;latitude&#x27;,\n",
       "                                                                                &#x27;longitude&#x27;,\n",
       "                                                                                &#x27;calculated_host_listings_count&#x27;,\n",
       "                                                                                &#x27;neighbourhood&#x27;]),\n",
       "                                                                              (&#x27;pipeline-1&#x27;,\n",
       "                                                                               Pipeline(steps=[(&#x27;simpleimputer&#x27;,\n",
       "                                                                                                SimpleImputer(strategy=&#x27;median&#x27;)),\n",
       "                                                                                               (&#x27;standardsca...\n",
       "                                                                              (&#x27;pipeline-2&#x27;,\n",
       "                                                                               Pipeline(steps=[(&#x27;simpleimputer&#x27;,\n",
       "                                                                                                SimpleImputer(strategy=&#x27;constant&#x27;)),\n",
       "                                                                                               (&#x27;onehotencoder&#x27;,\n",
       "                                                                                                OneHotEncoder(handle_unknown=&#x27;ignore&#x27;))]),\n",
       "                                                                               [&#x27;neighbourhood_group&#x27;,\n",
       "                                                                                &#x27;room_type&#x27;])])),\n",
       "                                             (&#x27;decisiontreeregressor&#x27;,\n",
       "                                              DecisionTreeRegressor())]),\n",
       "                   n_jobs=-1,\n",
       "                   param_distributions={&#x27;decisiontreeregressor__max_depth&#x27;: [1,\n",
       "                                                                             2,\n",
       "                                                                             3,\n",
       "                                                                             5,\n",
       "                                                                             7,\n",
       "                                                                             10,\n",
       "                                                                             25,\n",
       "                                                                             50,\n",
       "                                                                             100,\n",
       "                                                                             250]},\n",
       "                   return_train_score=True)</pre></div></div></div><div class=\"sk-parallel\"><div class=\"sk-parallel-item\"><div class=\"sk-item\"><div class=\"sk-label-container\"><div class=\"sk-label sk-toggleable\"><input class=\"sk-toggleable__control sk-hidden--visually\" id=\"sk-estimator-id-50\" type=\"checkbox\" ><label for=\"sk-estimator-id-50\" class=\"sk-toggleable__label sk-toggleable__label-arrow\">estimator: Pipeline</label><div class=\"sk-toggleable__content\"><pre>Pipeline(steps=[(&#x27;columntransformer&#x27;,\n",
       "                 ColumnTransformer(transformers=[(&#x27;drop&#x27;, &#x27;drop&#x27;,\n",
       "                                                  [&#x27;number_of_reviews&#x27;, &#x27;id&#x27;,\n",
       "                                                   &#x27;host_id&#x27;, &#x27;name&#x27;,\n",
       "                                                   &#x27;host_name&#x27;, &#x27;last_review&#x27;,\n",
       "                                                   &#x27;latitude&#x27;, &#x27;longitude&#x27;,\n",
       "                                                   &#x27;calculated_host_listings_count&#x27;,\n",
       "                                                   &#x27;neighbourhood&#x27;]),\n",
       "                                                 (&#x27;pipeline-1&#x27;,\n",
       "                                                  Pipeline(steps=[(&#x27;simpleimputer&#x27;,\n",
       "                                                                   SimpleImputer(strategy=&#x27;median&#x27;)),\n",
       "                                                                  (&#x27;standardscaler&#x27;,\n",
       "                                                                   StandardScaler())]),\n",
       "                                                  [&#x27;price&#x27;, &#x27;minimum_nights&#x27;,\n",
       "                                                   &#x27;availability_365&#x27;,\n",
       "                                                   &#x27;price_per_min_night&#x27;]),\n",
       "                                                 (&#x27;pipeline-2&#x27;,\n",
       "                                                  Pipeline(steps=[(&#x27;simpleimputer&#x27;,\n",
       "                                                                   SimpleImputer(strategy=&#x27;constant&#x27;)),\n",
       "                                                                  (&#x27;onehotencoder&#x27;,\n",
       "                                                                   OneHotEncoder(handle_unknown=&#x27;ignore&#x27;))]),\n",
       "                                                  [&#x27;neighbourhood_group&#x27;,\n",
       "                                                   &#x27;room_type&#x27;])])),\n",
       "                (&#x27;decisiontreeregressor&#x27;, DecisionTreeRegressor())])</pre></div></div></div><div class=\"sk-serial\"><div class=\"sk-item\"><div class=\"sk-serial\"><div class=\"sk-item sk-dashed-wrapped\"><div class=\"sk-label-container\"><div class=\"sk-label sk-toggleable\"><input class=\"sk-toggleable__control sk-hidden--visually\" id=\"sk-estimator-id-51\" type=\"checkbox\" ><label for=\"sk-estimator-id-51\" class=\"sk-toggleable__label sk-toggleable__label-arrow\">columntransformer: ColumnTransformer</label><div class=\"sk-toggleable__content\"><pre>ColumnTransformer(transformers=[(&#x27;drop&#x27;, &#x27;drop&#x27;,\n",
       "                                 [&#x27;number_of_reviews&#x27;, &#x27;id&#x27;, &#x27;host_id&#x27;, &#x27;name&#x27;,\n",
       "                                  &#x27;host_name&#x27;, &#x27;last_review&#x27;, &#x27;latitude&#x27;,\n",
       "                                  &#x27;longitude&#x27;, &#x27;calculated_host_listings_count&#x27;,\n",
       "                                  &#x27;neighbourhood&#x27;]),\n",
       "                                (&#x27;pipeline-1&#x27;,\n",
       "                                 Pipeline(steps=[(&#x27;simpleimputer&#x27;,\n",
       "                                                  SimpleImputer(strategy=&#x27;median&#x27;)),\n",
       "                                                 (&#x27;standardscaler&#x27;,\n",
       "                                                  StandardScaler())]),\n",
       "                                 [&#x27;price&#x27;, &#x27;minimum_nights&#x27;, &#x27;availability_365&#x27;,\n",
       "                                  &#x27;price_per_min_night&#x27;]),\n",
       "                                (&#x27;pipeline-2&#x27;,\n",
       "                                 Pipeline(steps=[(&#x27;simpleimputer&#x27;,\n",
       "                                                  SimpleImputer(strategy=&#x27;constant&#x27;)),\n",
       "                                                 (&#x27;onehotencoder&#x27;,\n",
       "                                                  OneHotEncoder(handle_unknown=&#x27;ignore&#x27;))]),\n",
       "                                 [&#x27;neighbourhood_group&#x27;, &#x27;room_type&#x27;])])</pre></div></div></div><div class=\"sk-parallel\"><div class=\"sk-parallel-item\"><div class=\"sk-item\"><div class=\"sk-label-container\"><div class=\"sk-label sk-toggleable\"><input class=\"sk-toggleable__control sk-hidden--visually\" id=\"sk-estimator-id-52\" type=\"checkbox\" ><label for=\"sk-estimator-id-52\" class=\"sk-toggleable__label sk-toggleable__label-arrow\">drop</label><div class=\"sk-toggleable__content\"><pre>[&#x27;number_of_reviews&#x27;, &#x27;id&#x27;, &#x27;host_id&#x27;, &#x27;name&#x27;, &#x27;host_name&#x27;, &#x27;last_review&#x27;, &#x27;latitude&#x27;, &#x27;longitude&#x27;, &#x27;calculated_host_listings_count&#x27;, &#x27;neighbourhood&#x27;]</pre></div></div></div><div class=\"sk-serial\"><div class=\"sk-item\"><div class=\"sk-estimator sk-toggleable\"><input class=\"sk-toggleable__control sk-hidden--visually\" id=\"sk-estimator-id-53\" type=\"checkbox\" ><label for=\"sk-estimator-id-53\" class=\"sk-toggleable__label sk-toggleable__label-arrow\">drop</label><div class=\"sk-toggleable__content\"><pre>drop</pre></div></div></div></div></div></div><div class=\"sk-parallel-item\"><div class=\"sk-item\"><div class=\"sk-label-container\"><div class=\"sk-label sk-toggleable\"><input class=\"sk-toggleable__control sk-hidden--visually\" id=\"sk-estimator-id-54\" type=\"checkbox\" ><label for=\"sk-estimator-id-54\" class=\"sk-toggleable__label sk-toggleable__label-arrow\">pipeline-1</label><div class=\"sk-toggleable__content\"><pre>[&#x27;price&#x27;, &#x27;minimum_nights&#x27;, &#x27;availability_365&#x27;, &#x27;price_per_min_night&#x27;]</pre></div></div></div><div class=\"sk-serial\"><div class=\"sk-item\"><div class=\"sk-serial\"><div class=\"sk-item\"><div class=\"sk-estimator sk-toggleable\"><input class=\"sk-toggleable__control sk-hidden--visually\" id=\"sk-estimator-id-55\" type=\"checkbox\" ><label for=\"sk-estimator-id-55\" class=\"sk-toggleable__label sk-toggleable__label-arrow\">SimpleImputer</label><div class=\"sk-toggleable__content\"><pre>SimpleImputer(strategy=&#x27;median&#x27;)</pre></div></div></div><div class=\"sk-item\"><div class=\"sk-estimator sk-toggleable\"><input class=\"sk-toggleable__control sk-hidden--visually\" id=\"sk-estimator-id-56\" type=\"checkbox\" ><label for=\"sk-estimator-id-56\" class=\"sk-toggleable__label sk-toggleable__label-arrow\">StandardScaler</label><div class=\"sk-toggleable__content\"><pre>StandardScaler()</pre></div></div></div></div></div></div></div></div><div class=\"sk-parallel-item\"><div class=\"sk-item\"><div class=\"sk-label-container\"><div class=\"sk-label sk-toggleable\"><input class=\"sk-toggleable__control sk-hidden--visually\" id=\"sk-estimator-id-57\" type=\"checkbox\" ><label for=\"sk-estimator-id-57\" class=\"sk-toggleable__label sk-toggleable__label-arrow\">pipeline-2</label><div class=\"sk-toggleable__content\"><pre>[&#x27;neighbourhood_group&#x27;, &#x27;room_type&#x27;]</pre></div></div></div><div class=\"sk-serial\"><div class=\"sk-item\"><div class=\"sk-serial\"><div class=\"sk-item\"><div class=\"sk-estimator sk-toggleable\"><input class=\"sk-toggleable__control sk-hidden--visually\" id=\"sk-estimator-id-58\" type=\"checkbox\" ><label for=\"sk-estimator-id-58\" class=\"sk-toggleable__label sk-toggleable__label-arrow\">SimpleImputer</label><div class=\"sk-toggleable__content\"><pre>SimpleImputer(strategy=&#x27;constant&#x27;)</pre></div></div></div><div class=\"sk-item\"><div class=\"sk-estimator sk-toggleable\"><input class=\"sk-toggleable__control sk-hidden--visually\" id=\"sk-estimator-id-59\" type=\"checkbox\" ><label for=\"sk-estimator-id-59\" class=\"sk-toggleable__label sk-toggleable__label-arrow\">OneHotEncoder</label><div class=\"sk-toggleable__content\"><pre>OneHotEncoder(handle_unknown=&#x27;ignore&#x27;)</pre></div></div></div></div></div></div></div></div></div></div><div class=\"sk-item\"><div class=\"sk-estimator sk-toggleable\"><input class=\"sk-toggleable__control sk-hidden--visually\" id=\"sk-estimator-id-60\" type=\"checkbox\" ><label for=\"sk-estimator-id-60\" class=\"sk-toggleable__label sk-toggleable__label-arrow\">DecisionTreeRegressor</label><div class=\"sk-toggleable__content\"><pre>DecisionTreeRegressor()</pre></div></div></div></div></div></div></div></div></div></div></div></div>"
      ],
      "text/plain": [
       "RandomizedSearchCV(estimator=Pipeline(steps=[('columntransformer',\n",
       "                                              ColumnTransformer(transformers=[('drop',\n",
       "                                                                               'drop',\n",
       "                                                                               ['number_of_reviews',\n",
       "                                                                                'id',\n",
       "                                                                                'host_id',\n",
       "                                                                                'name',\n",
       "                                                                                'host_name',\n",
       "                                                                                'last_review',\n",
       "                                                                                'latitude',\n",
       "                                                                                'longitude',\n",
       "                                                                                'calculated_host_listings_count',\n",
       "                                                                                'neighbourhood']),\n",
       "                                                                              ('pipeline-1',\n",
       "                                                                               Pipeline(steps=[('simpleimputer',\n",
       "                                                                                                SimpleImputer(strategy='median')),\n",
       "                                                                                               ('standardsca...\n",
       "                                                                              ('pipeline-2',\n",
       "                                                                               Pipeline(steps=[('simpleimputer',\n",
       "                                                                                                SimpleImputer(strategy='constant')),\n",
       "                                                                                               ('onehotencoder',\n",
       "                                                                                                OneHotEncoder(handle_unknown='ignore'))]),\n",
       "                                                                               ['neighbourhood_group',\n",
       "                                                                                'room_type'])])),\n",
       "                                             ('decisiontreeregressor',\n",
       "                                              DecisionTreeRegressor())]),\n",
       "                   n_jobs=-1,\n",
       "                   param_distributions={'decisiontreeregressor__max_depth': [1,\n",
       "                                                                             2,\n",
       "                                                                             3,\n",
       "                                                                             5,\n",
       "                                                                             7,\n",
       "                                                                             10,\n",
       "                                                                             25,\n",
       "                                                                             50,\n",
       "                                                                             100,\n",
       "                                                                             250]},\n",
       "                   return_train_score=True)"
      ]
     },
     "execution_count": 52,
     "metadata": {},
     "output_type": "execute_result"
    }
   ],
   "source": [
    "# adapted from lecture 08\n",
    "param_grid_dt = {\n",
    "    \"decisiontreeregressor__max_depth\": [1, 2, 3, 5, 7, 10, 25, 50, 100, 250],\n",
    "}\n",
    "\n",
    "rs_dt = RandomizedSearchCV(pipe_dt, param_distributions = param_grid_dt, n_iter=10, n_jobs=-1, return_train_score=True)\n",
    "rs_dt.fit(X_train, y_train)"
   ]
  },
  {
   "cell_type": "code",
   "execution_count": 50,
   "metadata": {
    "tags": []
   },
   "outputs": [
    {
     "data": {
      "text/plain": [
       "0.2630832468085913"
      ]
     },
     "execution_count": 50,
     "metadata": {},
     "output_type": "execute_result"
    }
   ],
   "source": [
    "rs_dt.best_score_"
   ]
  },
  {
   "cell_type": "code",
   "execution_count": 51,
   "metadata": {},
   "outputs": [
    {
     "data": {
      "text/plain": [
       "{'decisiontreeregressor__max_depth': 10}"
      ]
     },
     "execution_count": 51,
     "metadata": {},
     "output_type": "execute_result"
    }
   ],
   "source": [
    "rs_dt.best_params_"
   ]
  },
  {
   "cell_type": "code",
   "execution_count": 54,
   "metadata": {},
   "outputs": [
    {
     "data": {
      "text/html": [
       "<style>#sk-container-id-6 {color: black;}#sk-container-id-6 pre{padding: 0;}#sk-container-id-6 div.sk-toggleable {background-color: white;}#sk-container-id-6 label.sk-toggleable__label {cursor: pointer;display: block;width: 100%;margin-bottom: 0;padding: 0.3em;box-sizing: border-box;text-align: center;}#sk-container-id-6 label.sk-toggleable__label-arrow:before {content: \"▸\";float: left;margin-right: 0.25em;color: #696969;}#sk-container-id-6 label.sk-toggleable__label-arrow:hover:before {color: black;}#sk-container-id-6 div.sk-estimator:hover label.sk-toggleable__label-arrow:before {color: black;}#sk-container-id-6 div.sk-toggleable__content {max-height: 0;max-width: 0;overflow: hidden;text-align: left;background-color: #f0f8ff;}#sk-container-id-6 div.sk-toggleable__content pre {margin: 0.2em;color: black;border-radius: 0.25em;background-color: #f0f8ff;}#sk-container-id-6 input.sk-toggleable__control:checked~div.sk-toggleable__content {max-height: 200px;max-width: 100%;overflow: auto;}#sk-container-id-6 input.sk-toggleable__control:checked~label.sk-toggleable__label-arrow:before {content: \"▾\";}#sk-container-id-6 div.sk-estimator input.sk-toggleable__control:checked~label.sk-toggleable__label {background-color: #d4ebff;}#sk-container-id-6 div.sk-label input.sk-toggleable__control:checked~label.sk-toggleable__label {background-color: #d4ebff;}#sk-container-id-6 input.sk-hidden--visually {border: 0;clip: rect(1px 1px 1px 1px);clip: rect(1px, 1px, 1px, 1px);height: 1px;margin: -1px;overflow: hidden;padding: 0;position: absolute;width: 1px;}#sk-container-id-6 div.sk-estimator {font-family: monospace;background-color: #f0f8ff;border: 1px dotted black;border-radius: 0.25em;box-sizing: border-box;margin-bottom: 0.5em;}#sk-container-id-6 div.sk-estimator:hover {background-color: #d4ebff;}#sk-container-id-6 div.sk-parallel-item::after {content: \"\";width: 100%;border-bottom: 1px solid gray;flex-grow: 1;}#sk-container-id-6 div.sk-label:hover label.sk-toggleable__label {background-color: #d4ebff;}#sk-container-id-6 div.sk-serial::before {content: \"\";position: absolute;border-left: 1px solid gray;box-sizing: border-box;top: 0;bottom: 0;left: 50%;z-index: 0;}#sk-container-id-6 div.sk-serial {display: flex;flex-direction: column;align-items: center;background-color: white;padding-right: 0.2em;padding-left: 0.2em;position: relative;}#sk-container-id-6 div.sk-item {position: relative;z-index: 1;}#sk-container-id-6 div.sk-parallel {display: flex;align-items: stretch;justify-content: center;background-color: white;position: relative;}#sk-container-id-6 div.sk-item::before, #sk-container-id-6 div.sk-parallel-item::before {content: \"\";position: absolute;border-left: 1px solid gray;box-sizing: border-box;top: 0;bottom: 0;left: 50%;z-index: -1;}#sk-container-id-6 div.sk-parallel-item {display: flex;flex-direction: column;z-index: 1;position: relative;background-color: white;}#sk-container-id-6 div.sk-parallel-item:first-child::after {align-self: flex-end;width: 50%;}#sk-container-id-6 div.sk-parallel-item:last-child::after {align-self: flex-start;width: 50%;}#sk-container-id-6 div.sk-parallel-item:only-child::after {width: 0;}#sk-container-id-6 div.sk-dashed-wrapped {border: 1px dashed gray;margin: 0 0.4em 0.5em 0.4em;box-sizing: border-box;padding-bottom: 0.4em;background-color: white;}#sk-container-id-6 div.sk-label label {font-family: monospace;font-weight: bold;display: inline-block;line-height: 1.2em;}#sk-container-id-6 div.sk-label-container {text-align: center;}#sk-container-id-6 div.sk-container {/* jupyter's `normalize.less` sets `[hidden] { display: none; }` but bootstrap.min.css set `[hidden] { display: none !important; }` so we also need the `!important` here to be able to override the default hidden behavior on the sphinx rendered scikit-learn.org. See: https://github.com/scikit-learn/scikit-learn/issues/21755 */display: inline-block !important;position: relative;}#sk-container-id-6 div.sk-text-repr-fallback {display: none;}</style><div id=\"sk-container-id-6\" class=\"sk-top-container\"><div class=\"sk-text-repr-fallback\"><pre>RandomizedSearchCV(estimator=Pipeline(steps=[(&#x27;columntransformer&#x27;,\n",
       "                                              ColumnTransformer(transformers=[(&#x27;drop&#x27;,\n",
       "                                                                               &#x27;drop&#x27;,\n",
       "                                                                               [&#x27;number_of_reviews&#x27;,\n",
       "                                                                                &#x27;id&#x27;,\n",
       "                                                                                &#x27;host_id&#x27;,\n",
       "                                                                                &#x27;name&#x27;,\n",
       "                                                                                &#x27;host_name&#x27;,\n",
       "                                                                                &#x27;last_review&#x27;,\n",
       "                                                                                &#x27;latitude&#x27;,\n",
       "                                                                                &#x27;longitude&#x27;,\n",
       "                                                                                &#x27;calculated_host_listings_count&#x27;,\n",
       "                                                                                &#x27;neighbourhood&#x27;]),\n",
       "                                                                              (&#x27;pipeline-1&#x27;,\n",
       "                                                                               Pipeline(steps=[(&#x27;simpleimputer&#x27;,\n",
       "                                                                                                SimpleImputer(strategy=&#x27;median&#x27;)),\n",
       "                                                                                               (&#x27;standardsca...\n",
       "                                                                              (&#x27;pipeline-2&#x27;,\n",
       "                                                                               Pipeline(steps=[(&#x27;simpleimputer&#x27;,\n",
       "                                                                                                SimpleImputer(strategy=&#x27;constant&#x27;)),\n",
       "                                                                                               (&#x27;onehotencoder&#x27;,\n",
       "                                                                                                OneHotEncoder(handle_unknown=&#x27;ignore&#x27;))]),\n",
       "                                                                               [&#x27;neighbourhood_group&#x27;,\n",
       "                                                                                &#x27;room_type&#x27;])])),\n",
       "                                             (&#x27;kneighborsregressor&#x27;,\n",
       "                                              KNeighborsRegressor())]),\n",
       "                   n_jobs=-1,\n",
       "                   param_distributions={&#x27;kneighborsregressor__n_neighbors&#x27;: [1,\n",
       "                                                                             2,\n",
       "                                                                             3,\n",
       "                                                                             5,\n",
       "                                                                             7,\n",
       "                                                                             10,\n",
       "                                                                             25,\n",
       "                                                                             50,\n",
       "                                                                             100,\n",
       "                                                                             250]},\n",
       "                   return_train_score=True)</pre><b>In a Jupyter environment, please rerun this cell to show the HTML representation or trust the notebook. <br />On GitHub, the HTML representation is unable to render, please try loading this page with nbviewer.org.</b></div><div class=\"sk-container\" hidden><div class=\"sk-item sk-dashed-wrapped\"><div class=\"sk-label-container\"><div class=\"sk-label sk-toggleable\"><input class=\"sk-toggleable__control sk-hidden--visually\" id=\"sk-estimator-id-61\" type=\"checkbox\" ><label for=\"sk-estimator-id-61\" class=\"sk-toggleable__label sk-toggleable__label-arrow\">RandomizedSearchCV</label><div class=\"sk-toggleable__content\"><pre>RandomizedSearchCV(estimator=Pipeline(steps=[(&#x27;columntransformer&#x27;,\n",
       "                                              ColumnTransformer(transformers=[(&#x27;drop&#x27;,\n",
       "                                                                               &#x27;drop&#x27;,\n",
       "                                                                               [&#x27;number_of_reviews&#x27;,\n",
       "                                                                                &#x27;id&#x27;,\n",
       "                                                                                &#x27;host_id&#x27;,\n",
       "                                                                                &#x27;name&#x27;,\n",
       "                                                                                &#x27;host_name&#x27;,\n",
       "                                                                                &#x27;last_review&#x27;,\n",
       "                                                                                &#x27;latitude&#x27;,\n",
       "                                                                                &#x27;longitude&#x27;,\n",
       "                                                                                &#x27;calculated_host_listings_count&#x27;,\n",
       "                                                                                &#x27;neighbourhood&#x27;]),\n",
       "                                                                              (&#x27;pipeline-1&#x27;,\n",
       "                                                                               Pipeline(steps=[(&#x27;simpleimputer&#x27;,\n",
       "                                                                                                SimpleImputer(strategy=&#x27;median&#x27;)),\n",
       "                                                                                               (&#x27;standardsca...\n",
       "                                                                              (&#x27;pipeline-2&#x27;,\n",
       "                                                                               Pipeline(steps=[(&#x27;simpleimputer&#x27;,\n",
       "                                                                                                SimpleImputer(strategy=&#x27;constant&#x27;)),\n",
       "                                                                                               (&#x27;onehotencoder&#x27;,\n",
       "                                                                                                OneHotEncoder(handle_unknown=&#x27;ignore&#x27;))]),\n",
       "                                                                               [&#x27;neighbourhood_group&#x27;,\n",
       "                                                                                &#x27;room_type&#x27;])])),\n",
       "                                             (&#x27;kneighborsregressor&#x27;,\n",
       "                                              KNeighborsRegressor())]),\n",
       "                   n_jobs=-1,\n",
       "                   param_distributions={&#x27;kneighborsregressor__n_neighbors&#x27;: [1,\n",
       "                                                                             2,\n",
       "                                                                             3,\n",
       "                                                                             5,\n",
       "                                                                             7,\n",
       "                                                                             10,\n",
       "                                                                             25,\n",
       "                                                                             50,\n",
       "                                                                             100,\n",
       "                                                                             250]},\n",
       "                   return_train_score=True)</pre></div></div></div><div class=\"sk-parallel\"><div class=\"sk-parallel-item\"><div class=\"sk-item\"><div class=\"sk-label-container\"><div class=\"sk-label sk-toggleable\"><input class=\"sk-toggleable__control sk-hidden--visually\" id=\"sk-estimator-id-62\" type=\"checkbox\" ><label for=\"sk-estimator-id-62\" class=\"sk-toggleable__label sk-toggleable__label-arrow\">estimator: Pipeline</label><div class=\"sk-toggleable__content\"><pre>Pipeline(steps=[(&#x27;columntransformer&#x27;,\n",
       "                 ColumnTransformer(transformers=[(&#x27;drop&#x27;, &#x27;drop&#x27;,\n",
       "                                                  [&#x27;number_of_reviews&#x27;, &#x27;id&#x27;,\n",
       "                                                   &#x27;host_id&#x27;, &#x27;name&#x27;,\n",
       "                                                   &#x27;host_name&#x27;, &#x27;last_review&#x27;,\n",
       "                                                   &#x27;latitude&#x27;, &#x27;longitude&#x27;,\n",
       "                                                   &#x27;calculated_host_listings_count&#x27;,\n",
       "                                                   &#x27;neighbourhood&#x27;]),\n",
       "                                                 (&#x27;pipeline-1&#x27;,\n",
       "                                                  Pipeline(steps=[(&#x27;simpleimputer&#x27;,\n",
       "                                                                   SimpleImputer(strategy=&#x27;median&#x27;)),\n",
       "                                                                  (&#x27;standardscaler&#x27;,\n",
       "                                                                   StandardScaler())]),\n",
       "                                                  [&#x27;price&#x27;, &#x27;minimum_nights&#x27;,\n",
       "                                                   &#x27;availability_365&#x27;,\n",
       "                                                   &#x27;price_per_min_night&#x27;]),\n",
       "                                                 (&#x27;pipeline-2&#x27;,\n",
       "                                                  Pipeline(steps=[(&#x27;simpleimputer&#x27;,\n",
       "                                                                   SimpleImputer(strategy=&#x27;constant&#x27;)),\n",
       "                                                                  (&#x27;onehotencoder&#x27;,\n",
       "                                                                   OneHotEncoder(handle_unknown=&#x27;ignore&#x27;))]),\n",
       "                                                  [&#x27;neighbourhood_group&#x27;,\n",
       "                                                   &#x27;room_type&#x27;])])),\n",
       "                (&#x27;kneighborsregressor&#x27;, KNeighborsRegressor())])</pre></div></div></div><div class=\"sk-serial\"><div class=\"sk-item\"><div class=\"sk-serial\"><div class=\"sk-item sk-dashed-wrapped\"><div class=\"sk-label-container\"><div class=\"sk-label sk-toggleable\"><input class=\"sk-toggleable__control sk-hidden--visually\" id=\"sk-estimator-id-63\" type=\"checkbox\" ><label for=\"sk-estimator-id-63\" class=\"sk-toggleable__label sk-toggleable__label-arrow\">columntransformer: ColumnTransformer</label><div class=\"sk-toggleable__content\"><pre>ColumnTransformer(transformers=[(&#x27;drop&#x27;, &#x27;drop&#x27;,\n",
       "                                 [&#x27;number_of_reviews&#x27;, &#x27;id&#x27;, &#x27;host_id&#x27;, &#x27;name&#x27;,\n",
       "                                  &#x27;host_name&#x27;, &#x27;last_review&#x27;, &#x27;latitude&#x27;,\n",
       "                                  &#x27;longitude&#x27;, &#x27;calculated_host_listings_count&#x27;,\n",
       "                                  &#x27;neighbourhood&#x27;]),\n",
       "                                (&#x27;pipeline-1&#x27;,\n",
       "                                 Pipeline(steps=[(&#x27;simpleimputer&#x27;,\n",
       "                                                  SimpleImputer(strategy=&#x27;median&#x27;)),\n",
       "                                                 (&#x27;standardscaler&#x27;,\n",
       "                                                  StandardScaler())]),\n",
       "                                 [&#x27;price&#x27;, &#x27;minimum_nights&#x27;, &#x27;availability_365&#x27;,\n",
       "                                  &#x27;price_per_min_night&#x27;]),\n",
       "                                (&#x27;pipeline-2&#x27;,\n",
       "                                 Pipeline(steps=[(&#x27;simpleimputer&#x27;,\n",
       "                                                  SimpleImputer(strategy=&#x27;constant&#x27;)),\n",
       "                                                 (&#x27;onehotencoder&#x27;,\n",
       "                                                  OneHotEncoder(handle_unknown=&#x27;ignore&#x27;))]),\n",
       "                                 [&#x27;neighbourhood_group&#x27;, &#x27;room_type&#x27;])])</pre></div></div></div><div class=\"sk-parallel\"><div class=\"sk-parallel-item\"><div class=\"sk-item\"><div class=\"sk-label-container\"><div class=\"sk-label sk-toggleable\"><input class=\"sk-toggleable__control sk-hidden--visually\" id=\"sk-estimator-id-64\" type=\"checkbox\" ><label for=\"sk-estimator-id-64\" class=\"sk-toggleable__label sk-toggleable__label-arrow\">drop</label><div class=\"sk-toggleable__content\"><pre>[&#x27;number_of_reviews&#x27;, &#x27;id&#x27;, &#x27;host_id&#x27;, &#x27;name&#x27;, &#x27;host_name&#x27;, &#x27;last_review&#x27;, &#x27;latitude&#x27;, &#x27;longitude&#x27;, &#x27;calculated_host_listings_count&#x27;, &#x27;neighbourhood&#x27;]</pre></div></div></div><div class=\"sk-serial\"><div class=\"sk-item\"><div class=\"sk-estimator sk-toggleable\"><input class=\"sk-toggleable__control sk-hidden--visually\" id=\"sk-estimator-id-65\" type=\"checkbox\" ><label for=\"sk-estimator-id-65\" class=\"sk-toggleable__label sk-toggleable__label-arrow\">drop</label><div class=\"sk-toggleable__content\"><pre>drop</pre></div></div></div></div></div></div><div class=\"sk-parallel-item\"><div class=\"sk-item\"><div class=\"sk-label-container\"><div class=\"sk-label sk-toggleable\"><input class=\"sk-toggleable__control sk-hidden--visually\" id=\"sk-estimator-id-66\" type=\"checkbox\" ><label for=\"sk-estimator-id-66\" class=\"sk-toggleable__label sk-toggleable__label-arrow\">pipeline-1</label><div class=\"sk-toggleable__content\"><pre>[&#x27;price&#x27;, &#x27;minimum_nights&#x27;, &#x27;availability_365&#x27;, &#x27;price_per_min_night&#x27;]</pre></div></div></div><div class=\"sk-serial\"><div class=\"sk-item\"><div class=\"sk-serial\"><div class=\"sk-item\"><div class=\"sk-estimator sk-toggleable\"><input class=\"sk-toggleable__control sk-hidden--visually\" id=\"sk-estimator-id-67\" type=\"checkbox\" ><label for=\"sk-estimator-id-67\" class=\"sk-toggleable__label sk-toggleable__label-arrow\">SimpleImputer</label><div class=\"sk-toggleable__content\"><pre>SimpleImputer(strategy=&#x27;median&#x27;)</pre></div></div></div><div class=\"sk-item\"><div class=\"sk-estimator sk-toggleable\"><input class=\"sk-toggleable__control sk-hidden--visually\" id=\"sk-estimator-id-68\" type=\"checkbox\" ><label for=\"sk-estimator-id-68\" class=\"sk-toggleable__label sk-toggleable__label-arrow\">StandardScaler</label><div class=\"sk-toggleable__content\"><pre>StandardScaler()</pre></div></div></div></div></div></div></div></div><div class=\"sk-parallel-item\"><div class=\"sk-item\"><div class=\"sk-label-container\"><div class=\"sk-label sk-toggleable\"><input class=\"sk-toggleable__control sk-hidden--visually\" id=\"sk-estimator-id-69\" type=\"checkbox\" ><label for=\"sk-estimator-id-69\" class=\"sk-toggleable__label sk-toggleable__label-arrow\">pipeline-2</label><div class=\"sk-toggleable__content\"><pre>[&#x27;neighbourhood_group&#x27;, &#x27;room_type&#x27;]</pre></div></div></div><div class=\"sk-serial\"><div class=\"sk-item\"><div class=\"sk-serial\"><div class=\"sk-item\"><div class=\"sk-estimator sk-toggleable\"><input class=\"sk-toggleable__control sk-hidden--visually\" id=\"sk-estimator-id-70\" type=\"checkbox\" ><label for=\"sk-estimator-id-70\" class=\"sk-toggleable__label sk-toggleable__label-arrow\">SimpleImputer</label><div class=\"sk-toggleable__content\"><pre>SimpleImputer(strategy=&#x27;constant&#x27;)</pre></div></div></div><div class=\"sk-item\"><div class=\"sk-estimator sk-toggleable\"><input class=\"sk-toggleable__control sk-hidden--visually\" id=\"sk-estimator-id-71\" type=\"checkbox\" ><label for=\"sk-estimator-id-71\" class=\"sk-toggleable__label sk-toggleable__label-arrow\">OneHotEncoder</label><div class=\"sk-toggleable__content\"><pre>OneHotEncoder(handle_unknown=&#x27;ignore&#x27;)</pre></div></div></div></div></div></div></div></div></div></div><div class=\"sk-item\"><div class=\"sk-estimator sk-toggleable\"><input class=\"sk-toggleable__control sk-hidden--visually\" id=\"sk-estimator-id-72\" type=\"checkbox\" ><label for=\"sk-estimator-id-72\" class=\"sk-toggleable__label sk-toggleable__label-arrow\">KNeighborsRegressor</label><div class=\"sk-toggleable__content\"><pre>KNeighborsRegressor()</pre></div></div></div></div></div></div></div></div></div></div></div></div>"
      ],
      "text/plain": [
       "RandomizedSearchCV(estimator=Pipeline(steps=[('columntransformer',\n",
       "                                              ColumnTransformer(transformers=[('drop',\n",
       "                                                                               'drop',\n",
       "                                                                               ['number_of_reviews',\n",
       "                                                                                'id',\n",
       "                                                                                'host_id',\n",
       "                                                                                'name',\n",
       "                                                                                'host_name',\n",
       "                                                                                'last_review',\n",
       "                                                                                'latitude',\n",
       "                                                                                'longitude',\n",
       "                                                                                'calculated_host_listings_count',\n",
       "                                                                                'neighbourhood']),\n",
       "                                                                              ('pipeline-1',\n",
       "                                                                               Pipeline(steps=[('simpleimputer',\n",
       "                                                                                                SimpleImputer(strategy='median')),\n",
       "                                                                                               ('standardsca...\n",
       "                                                                              ('pipeline-2',\n",
       "                                                                               Pipeline(steps=[('simpleimputer',\n",
       "                                                                                                SimpleImputer(strategy='constant')),\n",
       "                                                                                               ('onehotencoder',\n",
       "                                                                                                OneHotEncoder(handle_unknown='ignore'))]),\n",
       "                                                                               ['neighbourhood_group',\n",
       "                                                                                'room_type'])])),\n",
       "                                             ('kneighborsregressor',\n",
       "                                              KNeighborsRegressor())]),\n",
       "                   n_jobs=-1,\n",
       "                   param_distributions={'kneighborsregressor__n_neighbors': [1,\n",
       "                                                                             2,\n",
       "                                                                             3,\n",
       "                                                                             5,\n",
       "                                                                             7,\n",
       "                                                                             10,\n",
       "                                                                             25,\n",
       "                                                                             50,\n",
       "                                                                             100,\n",
       "                                                                             250]},\n",
       "                   return_train_score=True)"
      ]
     },
     "execution_count": 54,
     "metadata": {},
     "output_type": "execute_result"
    }
   ],
   "source": [
    "param_grid_knn = {\n",
    "    \"kneighborsregressor__n_neighbors\": [1, 2, 3, 5, 7, 10, 25, 50, 100, 250],\n",
    "}\n",
    "\n",
    "rs_knn = RandomizedSearchCV(pipe_knn, param_distributions = param_grid_knn, n_iter=10, n_jobs=-1, return_train_score=True)\n",
    "rs_knn.fit(X_train, y_train)"
   ]
  },
  {
   "cell_type": "code",
   "execution_count": 57,
   "metadata": {},
   "outputs": [
    {
     "data": {
      "text/plain": [
       "0.27388137473643737"
      ]
     },
     "execution_count": 57,
     "metadata": {},
     "output_type": "execute_result"
    }
   ],
   "source": [
    "rs_knn.best_score_"
   ]
  },
  {
   "cell_type": "code",
   "execution_count": 58,
   "metadata": {},
   "outputs": [
    {
     "data": {
      "text/plain": [
       "{'kneighborsregressor__n_neighbors': 25}"
      ]
     },
     "execution_count": 58,
     "metadata": {},
     "output_type": "execute_result"
    }
   ],
   "source": [
    "rs_knn.best_params_"
   ]
  },
  {
   "cell_type": "markdown",
   "metadata": {
    "deletable": false,
    "editable": false
   },
   "source": [
    "<!-- END QUESTION -->\n",
    "\n",
    "<br><br>"
   ]
  },
  {
   "cell_type": "markdown",
   "metadata": {
    "deletable": false,
    "editable": false
   },
   "source": [
    "<!-- BEGIN QUESTION -->\n",
    "\n",
    "## 11. Interpretation and feature importances <a name=\"1\"></a>\n",
    "<hr>\n",
    "rubric={points:10}\n",
    "\n",
    "**Your tasks:**\n",
    "\n",
    "1. Use the methods we saw in class (e.g., `eli5`, `shap`) (or any other methods of your choice) to examine the most important features of one of the non-linear models. \n",
    "2. Summarize your observations. "
   ]
  },
  {
   "cell_type": "markdown",
   "metadata": {
    "deletable": false,
    "editable": false
   },
   "source": [
    "<div class=\"alert alert-warning\">\n",
    "    \n",
    "Solution_11\n",
    "    \n",
    "</div>\n",
    "\n",
    "_Points:_ 10"
   ]
  },
  {
   "cell_type": "markdown",
   "metadata": {},
   "source": [
    "_In the gradient boosted regressor model, the most important feature is the availability, followed by the minimum nights feature. Every other feature is comparatively small._"
   ]
  },
  {
   "cell_type": "code",
   "execution_count": 69,
   "metadata": {},
   "outputs": [],
   "source": [
    "pipe_gb.fit(X_train, y_train);"
   ]
  },
  {
   "cell_type": "code",
   "execution_count": 94,
   "metadata": {
    "tags": []
   },
   "outputs": [
    {
     "data": {
      "text/html": [
       "<div>\n",
       "<style scoped>\n",
       "    .dataframe tbody tr th:only-of-type {\n",
       "        vertical-align: middle;\n",
       "    }\n",
       "\n",
       "    .dataframe tbody tr th {\n",
       "        vertical-align: top;\n",
       "    }\n",
       "\n",
       "    .dataframe thead th {\n",
       "        text-align: right;\n",
       "    }\n",
       "</style>\n",
       "<table border=\"1\" class=\"dataframe\">\n",
       "  <thead>\n",
       "    <tr style=\"text-align: right;\">\n",
       "      <th></th>\n",
       "      <th>Importance</th>\n",
       "    </tr>\n",
       "  </thead>\n",
       "  <tbody>\n",
       "    <tr>\n",
       "      <th>availability_365</th>\n",
       "      <td>0.504665</td>\n",
       "    </tr>\n",
       "    <tr>\n",
       "      <th>minimum_nights</th>\n",
       "      <td>0.392392</td>\n",
       "    </tr>\n",
       "    <tr>\n",
       "      <th>price</th>\n",
       "      <td>0.037550</td>\n",
       "    </tr>\n",
       "    <tr>\n",
       "      <th>price_per_min_night</th>\n",
       "      <td>0.029165</td>\n",
       "    </tr>\n",
       "    <tr>\n",
       "      <th>room_type_Entire home/apt</th>\n",
       "      <td>0.016707</td>\n",
       "    </tr>\n",
       "    <tr>\n",
       "      <th>neighbourhood_group_Queens</th>\n",
       "      <td>0.008911</td>\n",
       "    </tr>\n",
       "    <tr>\n",
       "      <th>neighbourhood_group_Manhattan</th>\n",
       "      <td>0.006358</td>\n",
       "    </tr>\n",
       "    <tr>\n",
       "      <th>room_type_Shared room</th>\n",
       "      <td>0.001590</td>\n",
       "    </tr>\n",
       "    <tr>\n",
       "      <th>room_type_Private room</th>\n",
       "      <td>0.001232</td>\n",
       "    </tr>\n",
       "    <tr>\n",
       "      <th>neighbourhood_group_Brooklyn</th>\n",
       "      <td>0.000931</td>\n",
       "    </tr>\n",
       "    <tr>\n",
       "      <th>neighbourhood_group_Bronx</th>\n",
       "      <td>0.000302</td>\n",
       "    </tr>\n",
       "    <tr>\n",
       "      <th>neighbourhood_group_Staten Island</th>\n",
       "      <td>0.000196</td>\n",
       "    </tr>\n",
       "  </tbody>\n",
       "</table>\n",
       "</div>"
      ],
      "text/plain": [
       "                                   Importance\n",
       "availability_365                     0.504665\n",
       "minimum_nights                       0.392392\n",
       "price                                0.037550\n",
       "price_per_min_night                  0.029165\n",
       "room_type_Entire home/apt            0.016707\n",
       "neighbourhood_group_Queens           0.008911\n",
       "neighbourhood_group_Manhattan        0.006358\n",
       "room_type_Shared room                0.001590\n",
       "room_type_Private room               0.001232\n",
       "neighbourhood_group_Brooklyn         0.000931\n",
       "neighbourhood_group_Bronx            0.000302\n",
       "neighbourhood_group_Staten Island    0.000196"
      ]
     },
     "execution_count": 94,
     "metadata": {},
     "output_type": "execute_result"
    }
   ],
   "source": [
    "# adapted from lecture 12\n",
    "data = {\n",
    "    \"Importance\": pipe_gb.named_steps[\"gradientboostingregressor\"].feature_importances_,\n",
    "}\n",
    "\n",
    "ohe_feature_names = (\n",
    "    pipe_gb.named_steps[\"columntransformer\"]\n",
    "    .named_transformers_[\"pipeline-2\"]\n",
    "    .named_steps[\"onehotencoder\"]\n",
    "    .get_feature_names_out(categorical_features)\n",
    "    .tolist()\n",
    ")\n",
    "feature_names = (numeric_features + ohe_feature_names)\n",
    "gb_imp_df = pd.DataFrame(\n",
    "    data=data,\n",
    "    index=feature_names,\n",
    ").sort_values(by=\"Importance\", ascending=False)\n",
    "\n",
    "gb_imp_df"
   ]
  },
  {
   "cell_type": "code",
   "execution_count": 95,
   "metadata": {
    "tags": []
   },
   "outputs": [
    {
     "data": {
      "text/plain": [
       "0.9999999999999999"
      ]
     },
     "execution_count": 95,
     "metadata": {},
     "output_type": "execute_result"
    }
   ],
   "source": [
    "np.sum(pipe_gb.named_steps[\"gradientboostingregressor\"].feature_importances_)"
   ]
  },
  {
   "cell_type": "code",
   "execution_count": null,
   "metadata": {
    "tags": []
   },
   "outputs": [],
   "source": [
    "..."
   ]
  },
  {
   "cell_type": "code",
   "execution_count": null,
   "metadata": {
    "tags": []
   },
   "outputs": [],
   "source": [
    "..."
   ]
  },
  {
   "cell_type": "code",
   "execution_count": null,
   "metadata": {
    "tags": []
   },
   "outputs": [],
   "source": [
    "..."
   ]
  },
  {
   "cell_type": "code",
   "execution_count": null,
   "metadata": {
    "tags": []
   },
   "outputs": [],
   "source": [
    "..."
   ]
  },
  {
   "cell_type": "code",
   "execution_count": null,
   "metadata": {
    "tags": []
   },
   "outputs": [],
   "source": [
    "..."
   ]
  },
  {
   "cell_type": "code",
   "execution_count": null,
   "metadata": {
    "tags": []
   },
   "outputs": [],
   "source": [
    "..."
   ]
  },
  {
   "cell_type": "code",
   "execution_count": null,
   "metadata": {
    "tags": []
   },
   "outputs": [],
   "source": [
    "..."
   ]
  },
  {
   "cell_type": "code",
   "execution_count": null,
   "metadata": {
    "tags": []
   },
   "outputs": [],
   "source": [
    "..."
   ]
  },
  {
   "cell_type": "markdown",
   "metadata": {
    "deletable": false,
    "editable": false
   },
   "source": [
    "<!-- END QUESTION -->\n",
    "\n",
    "<br><br>"
   ]
  },
  {
   "cell_type": "markdown",
   "metadata": {
    "deletable": false,
    "editable": false,
    "tags": []
   },
   "source": [
    "<!-- BEGIN QUESTION -->\n",
    "\n",
    "## 12. Results on the test set <a name=\"12\"></a>\n",
    "<hr>\n",
    "\n",
    "rubric={points:10}\n",
    "\n",
    "**Your tasks:**\n",
    "\n",
    "1. Try your best performing model on the test data and report test scores. \n",
    "2. Do the test scores agree with the validation scores from before? To what extent do you trust your results? Do you think you've had issues with optimization bias? \n",
    "3. Take one or two test predictions and explain these individual predictions (e.g., with SHAP force plots).  "
   ]
  },
  {
   "cell_type": "markdown",
   "metadata": {
    "deletable": false,
    "editable": false
   },
   "source": [
    "<div class=\"alert alert-warning\">\n",
    "    \n",
    "Solution_12\n",
    "    \n",
    "</div>\n",
    "\n",
    "_Points:_ 10"
   ]
  },
  {
   "cell_type": "markdown",
   "metadata": {},
   "source": [
    "2. The test scores agree with the validation scores from before. I do not think there is optimization bias, as the test score is similar to the best cross validation score, which is selected because it is not overfit, so I can trust these results to a large extent.\n",
    "3. Availability and Minimum Nights seem to be the biggest determining factors for the target. "
   ]
  },
  {
   "cell_type": "code",
   "execution_count": 37,
   "metadata": {
    "tags": []
   },
   "outputs": [
    {
     "data": {
      "text/plain": [
       "0.3315139892355451"
      ]
     },
     "execution_count": 37,
     "metadata": {},
     "output_type": "execute_result"
    }
   ],
   "source": [
    "pipe_gb_best = make_pipeline(preprocessor, GradientBoostingRegressor(random_state=123, alpha=0.001))\n",
    "pipe_gb_best.fit(X_train, y_train)\n",
    "pipe_gb_best.score(X_test, y_test)"
   ]
  },
  {
   "cell_type": "code",
   "execution_count": 38,
   "metadata": {
    "tags": []
   },
   "outputs": [
    {
     "data": {
      "text/html": [
       "<div>\n",
       "<style scoped>\n",
       "    .dataframe tbody tr th:only-of-type {\n",
       "        vertical-align: middle;\n",
       "    }\n",
       "\n",
       "    .dataframe tbody tr th {\n",
       "        vertical-align: top;\n",
       "    }\n",
       "\n",
       "    .dataframe thead th {\n",
       "        text-align: right;\n",
       "    }\n",
       "</style>\n",
       "<table border=\"1\" class=\"dataframe\">\n",
       "  <thead>\n",
       "    <tr style=\"text-align: right;\">\n",
       "      <th></th>\n",
       "      <th>Importance</th>\n",
       "    </tr>\n",
       "  </thead>\n",
       "  <tbody>\n",
       "    <tr>\n",
       "      <th>availability_365</th>\n",
       "      <td>0.504665</td>\n",
       "    </tr>\n",
       "    <tr>\n",
       "      <th>minimum_nights</th>\n",
       "      <td>0.392392</td>\n",
       "    </tr>\n",
       "    <tr>\n",
       "      <th>price</th>\n",
       "      <td>0.037550</td>\n",
       "    </tr>\n",
       "    <tr>\n",
       "      <th>price_per_min_night</th>\n",
       "      <td>0.029165</td>\n",
       "    </tr>\n",
       "    <tr>\n",
       "      <th>room_type_Entire home/apt</th>\n",
       "      <td>0.016707</td>\n",
       "    </tr>\n",
       "    <tr>\n",
       "      <th>neighbourhood_group_Queens</th>\n",
       "      <td>0.008911</td>\n",
       "    </tr>\n",
       "    <tr>\n",
       "      <th>neighbourhood_group_Manhattan</th>\n",
       "      <td>0.006358</td>\n",
       "    </tr>\n",
       "    <tr>\n",
       "      <th>room_type_Shared room</th>\n",
       "      <td>0.001590</td>\n",
       "    </tr>\n",
       "    <tr>\n",
       "      <th>room_type_Private room</th>\n",
       "      <td>0.001232</td>\n",
       "    </tr>\n",
       "    <tr>\n",
       "      <th>neighbourhood_group_Brooklyn</th>\n",
       "      <td>0.000931</td>\n",
       "    </tr>\n",
       "    <tr>\n",
       "      <th>neighbourhood_group_Bronx</th>\n",
       "      <td>0.000302</td>\n",
       "    </tr>\n",
       "    <tr>\n",
       "      <th>neighbourhood_group_Staten Island</th>\n",
       "      <td>0.000196</td>\n",
       "    </tr>\n",
       "  </tbody>\n",
       "</table>\n",
       "</div>"
      ],
      "text/plain": [
       "                                   Importance\n",
       "availability_365                     0.504665\n",
       "minimum_nights                       0.392392\n",
       "price                                0.037550\n",
       "price_per_min_night                  0.029165\n",
       "room_type_Entire home/apt            0.016707\n",
       "neighbourhood_group_Queens           0.008911\n",
       "neighbourhood_group_Manhattan        0.006358\n",
       "room_type_Shared room                0.001590\n",
       "room_type_Private room               0.001232\n",
       "neighbourhood_group_Brooklyn         0.000931\n",
       "neighbourhood_group_Bronx            0.000302\n",
       "neighbourhood_group_Staten Island    0.000196"
      ]
     },
     "execution_count": 38,
     "metadata": {},
     "output_type": "execute_result"
    }
   ],
   "source": [
    "# adapted from lecture 12\n",
    "data = {\n",
    "    \"Importance\": pipe_gb_best.named_steps[\"gradientboostingregressor\"].feature_importances_,\n",
    "}\n",
    "\n",
    "ohe_feature_names = (\n",
    "    pipe_gb_best.named_steps[\"columntransformer\"]\n",
    "    .named_transformers_[\"pipeline-2\"]\n",
    "    .named_steps[\"onehotencoder\"]\n",
    "    .get_feature_names_out(categorical_features)\n",
    "    .tolist()\n",
    ")\n",
    "feature_names = (numeric_features + ohe_feature_names)\n",
    "gb_best_imp_df = pd.DataFrame(\n",
    "    data=data,\n",
    "    index=feature_names,\n",
    ").sort_values(by=\"Importance\", ascending=False)\n",
    "\n",
    "gb_best_imp_df"
   ]
  },
  {
   "cell_type": "code",
   "execution_count": 35,
   "metadata": {
    "tags": []
   },
   "outputs": [
    {
     "data": {
      "text/plain": [
       "Ellipsis"
      ]
     },
     "execution_count": 35,
     "metadata": {},
     "output_type": "execute_result"
    }
   ],
   "source": [
    "..."
   ]
  },
  {
   "cell_type": "code",
   "execution_count": null,
   "metadata": {
    "tags": []
   },
   "outputs": [],
   "source": [
    "..."
   ]
  },
  {
   "cell_type": "code",
   "execution_count": null,
   "metadata": {
    "tags": []
   },
   "outputs": [],
   "source": [
    "..."
   ]
  },
  {
   "cell_type": "code",
   "execution_count": null,
   "metadata": {
    "tags": []
   },
   "outputs": [],
   "source": [
    "..."
   ]
  },
  {
   "cell_type": "code",
   "execution_count": null,
   "metadata": {
    "tags": []
   },
   "outputs": [],
   "source": [
    "..."
   ]
  },
  {
   "cell_type": "code",
   "execution_count": null,
   "metadata": {
    "tags": []
   },
   "outputs": [],
   "source": [
    "..."
   ]
  },
  {
   "cell_type": "code",
   "execution_count": null,
   "metadata": {
    "tags": []
   },
   "outputs": [],
   "source": [
    "..."
   ]
  },
  {
   "cell_type": "markdown",
   "metadata": {
    "deletable": false,
    "editable": false
   },
   "source": [
    "<!-- END QUESTION -->\n",
    "\n",
    "<br><br>"
   ]
  },
  {
   "cell_type": "markdown",
   "metadata": {
    "deletable": false,
    "editable": false
   },
   "source": [
    "<!-- BEGIN QUESTION -->\n",
    "\n",
    "## 13. Summary of results <a name=\"13\"></a>\n",
    "<hr>\n",
    "rubric={points:12}\n",
    "\n",
    "Imagine that you want to present the summary of these results to your boss and co-workers. \n",
    "\n",
    "**Your tasks:**\n",
    "\n",
    "1. Create a table summarizing important results. \n",
    "2. Write concluding remarks.\n",
    "3. Discuss other ideas that you did not try but could potentially improve the performance/interpretability . \n",
    "3. Report your final test score along with the metric you used at the top of this notebook in the [Submission instructions section](#si)."
   ]
  },
  {
   "cell_type": "markdown",
   "metadata": {
    "deletable": false,
    "editable": false
   },
   "source": [
    "<div class=\"alert alert-warning\">\n",
    "    \n",
    "Solution_13\n",
    "    \n",
    "</div>\n",
    "\n",
    "_Points:_ 12"
   ]
  },
  {
   "cell_type": "markdown",
   "metadata": {},
   "source": [
    "2. The dataset had many features that did not need to be there, such as id's and names. There were also many neighbourhoods that would have been very intensive to fit, though luckily there were the neighbourhood groups (boroughs) that conveniently grouped them together. Overall, I got quite low scores which I attribute to a lack of time to use a more complex model. \n",
    "3. I wanted to try a bigger training split, though it seems my PC was not able to handle it and it took a grueling amount of time to fit for certain models. I also wanted try the SHAP plots, though I was not able to with the amount of time I have allotted."
   ]
  },
  {
   "cell_type": "code",
   "execution_count": 93,
   "metadata": {
    "tags": []
   },
   "outputs": [
    {
     "data": {
      "text/html": [
       "<div>\n",
       "<style scoped>\n",
       "    .dataframe tbody tr th:only-of-type {\n",
       "        vertical-align: middle;\n",
       "    }\n",
       "\n",
       "    .dataframe tbody tr th {\n",
       "        vertical-align: top;\n",
       "    }\n",
       "\n",
       "    .dataframe thead th {\n",
       "        text-align: right;\n",
       "    }\n",
       "</style>\n",
       "<table border=\"1\" class=\"dataframe\">\n",
       "  <thead>\n",
       "    <tr style=\"text-align: right;\">\n",
       "      <th></th>\n",
       "      <th>Dummy</th>\n",
       "      <th>Ridge</th>\n",
       "      <th>GradientBoosting</th>\n",
       "      <th>KNeighbors</th>\n",
       "      <th>SupportingVectors</th>\n",
       "      <th>DecisionTree</th>\n",
       "    </tr>\n",
       "  </thead>\n",
       "  <tbody>\n",
       "    <tr>\n",
       "      <th>fit_time</th>\n",
       "      <td>0.007553</td>\n",
       "      <td>0.121392</td>\n",
       "      <td>5.885557</td>\n",
       "      <td>0.353498</td>\n",
       "      <td>81.074757</td>\n",
       "      <td>0.668509</td>\n",
       "    </tr>\n",
       "    <tr>\n",
       "      <th>score_time</th>\n",
       "      <td>0.000000</td>\n",
       "      <td>0.018498</td>\n",
       "      <td>0.048720</td>\n",
       "      <td>0.469303</td>\n",
       "      <td>32.483219</td>\n",
       "      <td>0.026810</td>\n",
       "    </tr>\n",
       "    <tr>\n",
       "      <th>test_score</th>\n",
       "      <td>-0.000389</td>\n",
       "      <td>0.061772</td>\n",
       "      <td>0.318761</td>\n",
       "      <td>0.198772</td>\n",
       "      <td>0.197165</td>\n",
       "      <td>-0.256877</td>\n",
       "    </tr>\n",
       "    <tr>\n",
       "      <th>train_score</th>\n",
       "      <td>0.000000</td>\n",
       "      <td>0.063593</td>\n",
       "      <td>0.334294</td>\n",
       "      <td>0.449749</td>\n",
       "      <td>0.200892</td>\n",
       "      <td>0.906413</td>\n",
       "    </tr>\n",
       "  </tbody>\n",
       "</table>\n",
       "</div>"
      ],
      "text/plain": [
       "                Dummy     Ridge  GradientBoosting  KNeighbors  \\\n",
       "fit_time     0.007553  0.121392          5.885557    0.353498   \n",
       "score_time   0.000000  0.018498          0.048720    0.469303   \n",
       "test_score  -0.000389  0.061772          0.318761    0.198772   \n",
       "train_score  0.000000  0.063593          0.334294    0.449749   \n",
       "\n",
       "             SupportingVectors  DecisionTree  \n",
       "fit_time             81.074757      0.668509  \n",
       "score_time           32.483219      0.026810  \n",
       "test_score            0.197165     -0.256877  \n",
       "train_score           0.200892      0.906413  "
      ]
     },
     "execution_count": 93,
     "metadata": {},
     "output_type": "execute_result"
    }
   ],
   "source": [
    "results = {\n",
    "    \"Dummy\": dr.mean(),\n",
    "    \"Ridge\": ridge.mean(),\n",
    "    \"GradientBoosting\": gb.mean(),\n",
    "    \"KNeighbors\": knn.mean(),\n",
    "    \"SupportingVectors\": svr.mean(),\n",
    "    \"DecisionTree\": dt.mean(),\n",
    "}\n",
    "pd.DataFrame(results)"
   ]
  },
  {
   "cell_type": "markdown",
   "metadata": {
    "tags": []
   },
   "source": [
    "..."
   ]
  },
  {
   "cell_type": "markdown",
   "metadata": {
    "deletable": false,
    "editable": false
   },
   "source": [
    "<!-- END QUESTION -->\n",
    "\n",
    "<br><br>"
   ]
  },
  {
   "cell_type": "markdown",
   "metadata": {},
   "source": [
    "<br><br>"
   ]
  },
  {
   "cell_type": "markdown",
   "metadata": {
    "deletable": false,
    "editable": false,
    "slideshow": {
     "slide_type": ""
    },
    "tags": []
   },
   "source": [
    "<!-- BEGIN QUESTION -->\n",
    "\n",
    "## (Challenging) 14. Your takeaway <a name=\"15\"></a>\n",
    "<hr>\n",
    "rubric={points:2}\n",
    "\n",
    "**Your tasks:**\n",
    "\n",
    "What is your biggest takeaway from the supervised machine learning material we have learned so far? Please write thoughtful answers.  "
   ]
  },
  {
   "cell_type": "markdown",
   "metadata": {
    "deletable": false,
    "editable": false
   },
   "source": [
    "<div class=\"alert alert-warning\">\n",
    "    \n",
    "Solution_14\n",
    "    \n",
    "</div>\n",
    "\n",
    "_Points:_ 2"
   ]
  },
  {
   "cell_type": "markdown",
   "metadata": {},
   "source": [
    "My biggest takeaway is that the preprocessing of data and being able to explain the process and results of supervised machine learning are the most important aspects of the material. Preprocessing takes a great deal of time and determines what happens in the fitting portion, and being able to explain models and results is necessary as to not be mislead. "
   ]
  },
  {
   "cell_type": "markdown",
   "metadata": {
    "deletable": false,
    "editable": false
   },
   "source": [
    "<!-- END QUESTION -->\n",
    "\n",
    "<br><br>"
   ]
  },
  {
   "cell_type": "markdown",
   "metadata": {},
   "source": [
    "**Before submitting your assignment, please make sure you have followed all the instructions in the Submission instructions section at the top.**"
   ]
  },
  {
   "cell_type": "markdown",
   "metadata": {},
   "source": [
    "This was a tricky one but you did it! Have a great weekend! "
   ]
  },
  {
   "cell_type": "markdown",
   "metadata": {},
   "source": [
    "![](img/eva-well-done.png)"
   ]
  }
 ],
 "metadata": {
  "kernelspec": {
   "display_name": "Python [conda env:cpsc330]",
   "language": "python",
   "name": "conda-env-cpsc330-py"
  },
  "language_info": {
   "codemirror_mode": {
    "name": "ipython",
    "version": 3
   },
   "file_extension": ".py",
   "mimetype": "text/x-python",
   "name": "python",
   "nbconvert_exporter": "python",
   "pygments_lexer": "ipython3",
   "version": "3.10.0"
  },
  "otter": {
   "OK_FORMAT": true,
   "tests": {}
  }
 },
 "nbformat": 4,
 "nbformat_minor": 4
}
